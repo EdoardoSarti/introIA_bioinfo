{
 "cells": [
  {
   "cell_type": "markdown",
   "metadata": {
    "nbpresent": {
     "id": "11fab20f-a5cb-42ff-8112-19cb19457f46"
    }
   },
   "source": [
    "# Introduction to AI: assignment 2 - Regression"
   ]
  },
  {
   "cell_type": "markdown",
   "metadata": {},
   "source": [
    "In this assignment you are going to apply linear regression methods to analyze a genomic dataset<sup>1</sup>: *genome_sizes.csv*.\n",
    "\n",
    "### Motivation\n",
    "The genome of an organism encodes all the information for producing proteins, which in turn are the actors of all cellular functions. The number of different coded proteins varies widely between species, and is a measure of the complexity of the chemical pathways of an organism. Moreover, not all genetic material gets translated into proteins: *coding* and *non-coding* parts are present, and their extension and number widely changes between different organisms.\n",
    "**Is there a relationship between genome length, number of coded proteins, and extension of coding/noncoding parts?**\n",
    "\n",
    "### Aim\n",
    "We will base our enquiry on the data provided by Hou & Lin in a study on genome sizes of a large variety of species<sup>1</sup>. We will first read, clean and visualize the dataset (part A), then we will analyze it by applying linear regression methods of increasing complexity (parts B, C, D).\n",
    "\n",
    "<sup>1</sup>The data is extracted from: *Hou Y, Lin S. Distinct gene number-genome size relationships for eukaryotes and non-eukaryotes: gene content estimation for dinoflagellate genomes. PLoS One. 2009;4(9):e6978*\n",
    "[doi:10.1371/journal.pone.0006978](https://journals.plos.org/plosone/article?id=10.1371/journal.pone.0006978)"
   ]
  },
  {
   "cell_type": "markdown",
   "metadata": {
    "nbpresent": {
     "id": "5e44b8fa-6165-4862-9c1c-3411063b4d93"
    }
   },
   "source": [
    "## A. Reading and visualizing the Hou-Lin data set"
   ]
  },
  {
   "cell_type": "markdown",
   "metadata": {},
   "source": [
    "**Always have a look at the data first!**\n",
    "\n",
    "Open the genome_sizes.csv file with a text editor (or print it on a terminal with your favorite command: cat, less, more, head,...). \n",
    "1. How is the file formatted?\n",
    "2. Are there missing data?\n",
    "3. Are there header lines?"
   ]
  },
  {
   "cell_type": "code",
   "execution_count": 1,
   "metadata": {
    "collapsed": true
   },
   "outputs": [],
   "source": [
    "#"
   ]
  },
  {
   "cell_type": "markdown",
   "metadata": {},
   "source": [
    "To read the csv file genome_sizes.csv, you can use a library called [**pandas**](https://pandas.pydata.org/docs/getting_started/intro_tutorials/index.html). \n",
    "\n",
    "* Import the pandas library here, and use the function [*read_csv*](https://pandas.pydata.org/docs/reference/api/pandas.read_csv.html) to read the dataset into a DataFrame.\n",
    "\n",
    "* Read the documentation in order to import this file correctly: remember for example to consider the function arguments for parsing header lines.\n",
    "\n",
    "* Give these names to the columns in the file:\n",
    "    1. \"ScientificName\"\n",
    "    2. \"Domain\"\n",
    "    3. \"GenomeLength\"\n",
    "    4. \"ProteinCodingGenes\"<sup>2</sup>\n",
    "    5. \"Genes\"\n",
    "    \n",
    "<sup>2</sup>Genes usually code for proteins, but can also code for types of RNA that do not get translated into polypeptides. For example, *ribosomal* and *transfer RNA* (rRNA and tRNA) genes code for special RNA machineries that do not have any corresponding protein."
   ]
  },
  {
   "cell_type": "code",
   "execution_count": 2,
   "metadata": {
    "collapsed": true
   },
   "outputs": [],
   "source": [
    "import pandas as pd\n",
    "# Use pd.read_csv here"
   ]
  },
  {
   "cell_type": "markdown",
   "metadata": {},
   "source": [
    "Show what is inside the data frame"
   ]
  },
  {
   "cell_type": "code",
   "execution_count": null,
   "metadata": {
    "collapsed": false
   },
   "outputs": [],
   "source": []
  },
  {
   "cell_type": "markdown",
   "metadata": {},
   "source": [
    "How many different values does the \"Domain\" column take? Enumerate them using a DataFrame method"
   ]
  },
  {
   "cell_type": "code",
   "execution_count": null,
   "metadata": {
    "collapsed": false
   },
   "outputs": [],
   "source": []
  },
  {
   "cell_type": "markdown",
   "metadata": {},
   "source": [
    "As you might have noticed, some lines contain NaN (Not a Number) values, which means that the table was not complete. Keeping NaN values in your table can soon generate issues: it is thus recommended to remove them, when this does not compromise the integrity of the dataset.\n",
    "\n",
    "Look for all lines containing NaN. How many do you find? How many lines does the file contain? Will the dataset be compromised if you eliminate all NaN-containing lines?\n",
    "If not, drop all the lines containing NaN values"
   ]
  },
  {
   "cell_type": "code",
   "execution_count": 3,
   "metadata": {
    "collapsed": false
   },
   "outputs": [],
   "source": [
    "# Enumerate NaN values in each column. Are they few enough not to change statistical significance of the dataset?\n",
    "\n",
    "# If so, delete the lines with NaN values\n"
   ]
  },
  {
   "cell_type": "markdown",
   "metadata": {},
   "source": [
    "We consider the number of protein coding genes as the output and the genome size and percentage of coding genome as features. Import numpy, generate feature matrix $\\mathbf{X}$ and generate output array $\\mathbf{y}$ "
   ]
  },
  {
   "cell_type": "code",
   "execution_count": 4,
   "metadata": {
    "collapsed": false
   },
   "outputs": [],
   "source": [
    "import numpy as np\n",
    "\n",
    "# Feature matrix X\n",
    "\n",
    "# Output array y"
   ]
  },
  {
   "cell_type": "markdown",
   "metadata": {},
   "source": [
    "Print first row to check"
   ]
  },
  {
   "cell_type": "code",
   "execution_count": null,
   "metadata": {
    "collapsed": false
   },
   "outputs": [],
   "source": []
  },
  {
   "cell_type": "markdown",
   "metadata": {},
   "source": [
    "Scatter plots for $\\mathbf{y}$ against each considered feature.\n",
    "Given the diversity of the organisms, quantities might need to be plotted in logarithmic scale!"
   ]
  },
  {
   "cell_type": "markdown",
   "metadata": {},
   "source": [
    "Protein coding genes vs. genome length"
   ]
  },
  {
   "cell_type": "code",
   "execution_count": 17,
   "metadata": {
    "collapsed": false
   },
   "outputs": [],
   "source": [
    "import matplotlib.pyplot as plt # This is the graphic library of Python\n",
    "# Command to make figures appear in Jupyter\n",
    "%matplotlib inline \n",
    "\n",
    "\n",
    "## plt.scatter(...) # Produces a scatter plot. It needs two arguments (Xs and Ys)\n",
    "## plt.title(\"Scatter plot of protein coding genes vs. genome length\") # Set the title\n",
    "## plt.xlabel(\"Genome length\") # Label the x axis\n",
    "## plt.ylabel(\"PCG\") # Label the y axis"
   ]
  },
  {
   "cell_type": "markdown",
   "metadata": {},
   "source": [
    "Protein coding genes vs. percentage of coding genome"
   ]
  },
  {
   "cell_type": "code",
   "execution_count": 6,
   "metadata": {
    "collapsed": false,
    "scrolled": true
   },
   "outputs": [],
   "source": [
    "# Same..."
   ]
  },
  {
   "cell_type": "markdown",
   "metadata": {},
   "source": [
    "Now plot the two scatter plots at once in a single figure with the command **plt.subplots()**. You will have to specify that the Y axis is the same for the two plots."
   ]
  },
  {
   "cell_type": "code",
   "execution_count": 18,
   "metadata": {
    "collapsed": false
   },
   "outputs": [],
   "source": [
    "# There are two ways of using matplotlib: by calling functions (ex: plt.function())\n",
    "#  or by defining figure and axis objects and using their methods (ex: ax.set_function())\n",
    "#  Here, you will have to use the second way, which gives you more options\n",
    "\n",
    "## fig, axs = plt.subplots() \n",
    "## axs[0].scatter(...)\n",
    "## axs[1].scatter(...)\n",
    "## etc..."
   ]
  },
  {
   "cell_type": "markdown",
   "metadata": {},
   "source": [
    "Are both the two features correlated to the output? What could be the cause?"
   ]
  },
  {
   "cell_type": "markdown",
   "metadata": {},
   "source": [
    "Make the same two graphs, but this time color values belonging to each domain differently (one color for Eukaryotes, one for Bacteria, etc.). What do you notice?"
   ]
  },
  {
   "cell_type": "code",
   "execution_count": null,
   "metadata": {
    "collapsed": false
   },
   "outputs": [],
   "source": []
  },
  {
   "cell_type": "markdown",
   "metadata": {},
   "source": [
    "## B. Simple linear regression"
   ]
  },
  {
   "cell_type": "markdown",
   "metadata": {},
   "source": [
    "To start, we will work only with data from **Eukaryotes** only. Extract the Eukaryotes data from the DataFrame and define the usual feature matrix and output vector.\n",
    "Import linear regression functions from Scikit-learn."
   ]
  },
  {
   "cell_type": "code",
   "execution_count": 8,
   "metadata": {
    "collapsed": true
   },
   "outputs": [],
   "source": [
    "from sklearn import linear_model as lm\n",
    "from sklearn import metrics as met\n",
    "\n",
    "# Define X and y again"
   ]
  },
  {
   "cell_type": "markdown",
   "metadata": {},
   "source": [
    "Make a linear regression for the Genome length feature. Be careful: what are the variables that linearly correlate?"
   ]
  },
  {
   "cell_type": "code",
   "execution_count": 20,
   "metadata": {
    "collapsed": false
   },
   "outputs": [],
   "source": [
    "# Transform X and y so that they linearly correlate\n",
    "\n",
    "# Define the linear regressor object\n",
    "\n",
    "## linreg_1 = lm.LinearRegression()\n",
    "\n",
    "# Train the linear regressor\n",
    "\n",
    "## linreg_1.fit(...)\n",
    "\n",
    "# Calculate the MSE, RMSE, R^2\n",
    "\n",
    "## MSE_1 = met.mean_squared_error(...)\n",
    "## RMSE_1 = np.sqrt(...)\n",
    "## R_2_1 =  met.r2_score(...)\n",
    "\n",
    "# Print the quantities you calculated\n",
    "\n",
    "## print('beta_0 = {}, beta_1 = {}'.format(linreg_1.intercept_[0],\n",
    "##                                         linreg_1.coef_[0,0]))\n",
    "## print('MSE = ',MSE_1)\n",
    "## print('RMSE = ',RMSE_1)\n",
    "## print('R^2 = ',R_2_1)\n",
    "\n",
    "# Use the regressor to predict the regression segment. \n",
    "#  What are the x-extrema of the segment?\n",
    "\n",
    "# Scatter plot the data and the prediction line\n"
   ]
  },
  {
   "cell_type": "markdown",
   "metadata": {},
   "source": [
    "Make a linear regression for the Coding genome percentage feature."
   ]
  },
  {
   "cell_type": "code",
   "execution_count": 21,
   "metadata": {
    "collapsed": false
   },
   "outputs": [],
   "source": [
    "# Same..."
   ]
  },
  {
   "cell_type": "markdown",
   "metadata": {},
   "source": [
    "## C. Multiple linear regression with 2 explanatory variables"
   ]
  },
  {
   "cell_type": "markdown",
   "metadata": {},
   "source": [
    "Linear regression for both features"
   ]
  },
  {
   "cell_type": "code",
   "execution_count": 22,
   "metadata": {
    "collapsed": false,
    "scrolled": true
   },
   "outputs": [],
   "source": [
    "# Generalize what you did in B to account for 2 input dimensions"
   ]
  },
  {
   "cell_type": "markdown",
   "metadata": {},
   "source": [
    "Plot predicted surface and data points for genome length and percentage of coding genome"
   ]
  },
  {
   "cell_type": "code",
   "execution_count": 23,
   "metadata": {
    "collapsed": false,
    "scrolled": true
   },
   "outputs": [
    {
     "data": {
      "image/png": "[encoded data removed]",
      "text/plain": [
       "<matplotlib.figure.Figure at 0x7fd883df3cf8>"
      ]
     },
     "metadata": {},
     "output_type": "display_data"
    }
   ],
   "source": [
    "from mpl_toolkits.mplot3d import Axes3D    # For plotting 3D graphs\n",
    "fig = plt.figure()\n",
    "ax = fig.gca(projection='3d')\n",
    "\n",
    "# This time you will have to predict a plane, not a line. A plane embedded in a 3D space \n",
    "#  has 2 input dimensions and 1 output dimension...\n",
    "\n",
    "# Plot the predicted plane\n",
    "# ax.plot_surface(x1, x2, y, alpha = 0.2)    # alpha is the color channel for transparency\n",
    "# etc..."
   ]
  },
  {
   "cell_type": "markdown",
   "metadata": {},
   "source": [
    "## D. Multiple linear regression with interaction"
   ]
  },
  {
   "cell_type": "markdown",
   "metadata": {},
   "source": [
    "Let's work with a more difficult part of the dataset: **Mitochondrial DNA**.\n",
    "Try to apply the simple regression model of part B to the two features. What do you notice?"
   ]
  },
  {
   "cell_type": "code",
   "execution_count": 24,
   "metadata": {
    "collapsed": false
   },
   "outputs": [],
   "source": [
    "# Define X and y for Mitochondrial records (don't forget the usual transformations)\n",
    "\n",
    "# Plot the two features side by side\n"
   ]
  },
  {
   "cell_type": "markdown",
   "metadata": {},
   "source": [
    "Is there a better explanatory feature than the two we have worked with so far? Provided the genes are all about of the same length, the length of the genome multiplied by the percentage of coding genome should give us a better estimate of how many coding genes there are. We will thus try to use an interaction term that relates the two variables.\n",
    "\n",
    "Define again the matrix and the vector, and add to the matrix a new column given by the product of the two features. Linear regression for genome length and percentage of coding genome spendings with additional interaction term. Plot this new interaction feature against the output and make a simple regression model. Is it any better?"
   ]
  },
  {
   "cell_type": "code",
   "execution_count": 25,
   "metadata": {
    "collapsed": false
   },
   "outputs": [],
   "source": [
    "# Define an interaction feature and plot it against the PCG"
   ]
  },
  {
   "cell_type": "markdown",
   "metadata": {},
   "source": [
    "Obtain linear regression coefficients and evaluate model adequacy indicators"
   ]
  },
  {
   "cell_type": "code",
   "execution_count": 26,
   "metadata": {
    "collapsed": false,
    "scrolled": true
   },
   "outputs": [],
   "source": [
    "# Train a linear regressor on the data you plotted, \n",
    "#  and plot the usual statistics and the resulting graph\n"
   ]
  },
  {
   "cell_type": "markdown",
   "metadata": {
    "collapsed": true
   },
   "source": [
    "Do a residual/leverage analysis to check if there are outliers and outliers with high leverage. To obtain the leverage scores you will need to evaluate a matrix inverse and to retrieve the diagonal elements of a matrix, these operations can be done with the numpy commands linalg.inv and diag respectively."
   ]
  },
  {
   "cell_type": "code",
   "execution_count": 27,
   "metadata": {
    "collapsed": false
   },
   "outputs": [],
   "source": [
    "# Calculate h\n",
    "\n",
    "# Calculate the residuals\n",
    "\n",
    "# Scatter plot h against the residuals\n"
   ]
  },
  {
   "cell_type": "markdown",
   "metadata": {},
   "source": [
    "Make a multivariate analysis like you did in Section C, but this time add to the feacture matrix a column containing the interaction term you calculated in this section. How does the fit look?"
   ]
  },
  {
   "cell_type": "code",
   "execution_count": null,
   "metadata": {
    "collapsed": false
   },
   "outputs": [],
   "source": []
  },
  {
   "cell_type": "markdown",
   "metadata": {},
   "source": [
    "Confirm your analysis by repeating the residual/leverage analysis for the multivariate+interaction case"
   ]
  },
  {
   "cell_type": "code",
   "execution_count": null,
   "metadata": {
    "collapsed": false
   },
   "outputs": [],
   "source": []
  }
 ],
 "metadata": {
  "anaconda-cloud": {},
  "kernelspec": {
   "display_name": "Python 3",
   "language": "python",
   "name": "python3"
  },
  "language_info": {
   "codemirror_mode": {
    "name": "ipython",
    "version": 3
   },
   "file_extension": ".py",
   "mimetype": "text/x-python",
   "name": "python",
   "nbconvert_exporter": "python",
   "pygments_lexer": "ipython3",
   "version": "3.6.1"
  },
  "toc": {
   "colors": {
    "hover_highlight": "#DAA520",
    "running_highlight": "#FF0000",
    "selected_highlight": "#FFD700"
   },
   "moveMenuLeft": true,
   "nav_menu": {
    "height": "63px",
    "width": "252px"
   },
   "navigate_menu": true,
   "number_sections": true,
   "sideBar": true,
   "threshold": 4,
   "toc_cell": false,
   "toc_section_display": "block",
   "toc_window_display": false,
   "widenNotebook": false
  }
 },
 "nbformat": 4,
 "nbformat_minor": 1
}
