{
 "cells": [
  {
   "cell_type": "markdown",
   "metadata": {
    "nbpresent": {
     "id": "11fab20f-a5cb-42ff-8112-19cb19457f46"
    }
   },
   "source": [
    "# Introduction to AI: assignment 2 - Regression"
   ]
  },
  {
   "cell_type": "markdown",
   "metadata": {},
   "source": [
    "In this assignment you are going to apply linear regression methods to analyze a genomic dataset<sup>1</sup>: *genome_sizes.csv*.\n",
    "\n",
    "### Motivation\n",
    "The genome of an organism encodes all the information for producing proteins, which in turn are the actors of all cellular functions. The number of different coded proteins varies widely between species, and is a measure of the complexity of the chemical pathways of an organism. Moreover, not all genetic material gets translated into proteins: *coding* and *non-coding* parts are present, and their extension and number widely changes between different organisms.\n",
    "**Is there a relationship between genome length, number of coded proteins, and extension of coding/noncoding parts?**\n",
    "\n",
    "### Aim\n",
    "We will base our enquiry on the data provided by Hou & Lin in a study on genome sizes of a large variety of species<sup>1</sup>. We will first read, clean and visualize the dataset (part A), then we will analyze it by applying linear regression methods of increasing complexity (parts B, C, D).\n",
    "\n",
    "<sup>1</sup>The data is extracted from: *Hou Y, Lin S. Distinct gene number-genome size relationships for eukaryotes and non-eukaryotes: gene content estimation for dinoflagellate genomes. PLoS One. 2009;4(9):e6978*\n",
    "[doi:10.1371/journal.pone.0006978](https://journals.plos.org/plosone/article?id=10.1371/journal.pone.0006978)"
   ]
  },
  {
   "cell_type": "markdown",
   "metadata": {
    "nbpresent": {
     "id": "5e44b8fa-6165-4862-9c1c-3411063b4d93"
    }
   },
   "source": [
    "## A. Reading and visualizing the Hou-Lin data set"
   ]
  },
  {
   "cell_type": "markdown",
   "metadata": {},
   "source": [
    "**Always have a look at the data first!**\n",
    "\n",
    "Open the genome_sizes.csv file with a text editor (or print it on a terminal with your favorite command: cat, less, more, head,...). \n",
    "1. How is the file formatted?\n",
    "2. Are there missing data?\n",
    "3. Are there header lines?"
   ]
  },
  {
   "cell_type": "code",
   "execution_count": 1,
   "metadata": {
    "collapsed": true
   },
   "outputs": [],
   "source": [
    "#"
   ]
  },
  {
   "cell_type": "markdown",
   "metadata": {},
   "source": [
    "To read the csv file genome_sizes.csv, you can use a library called [**pandas**](https://pandas.pydata.org/docs/getting_started/intro_tutorials/index.html). \n",
    "\n",
    "* Import the pandas library here, and use the function [*read_csv*](https://pandas.pydata.org/docs/reference/api/pandas.read_csv.html) to read the dataset into a DataFrame.\n",
    "\n",
    "* Read the documentation in order to import this file correctly: remember for example to consider the function arguments for parsing header lines.\n",
    "\n",
    "* Give these names to the columns in the file:\n",
    "    1. \"ScientificName\"\n",
    "    2. \"Domain\"\n",
    "    3. \"GenomeLength\"<sup>2</sup>\n",
    "    4. \"ProteinCodingGenes\"<sup>3</sup>\n",
    "    5. \"Genes\"\n",
    "    6. \"CodingPercentage\"<sup>4</sup>\n",
    "    \n",
    "<sup>2</sup>Expressed in kilobases.\n",
    "\n",
    "<sup>3</sup>Genes usually code for proteins, but can also code for types of RNA that do not get translated into polypeptides. For example, *ribosomal* and *transfer RNA* (rRNA and tRNA) genes code for special RNA machineries that do not have any corresponding protein.\n",
    "\n",
    "<sup>4</sup>Percentage of the whole genome that's coding for proteins or nucleic acids."
   ]
  },
  {
   "cell_type": "code",
   "execution_count": 2,
   "metadata": {
    "collapsed": true
   },
   "outputs": [],
   "source": [
    "import pandas as pd\n",
    "df = pd.read_csv(\"genome_sizes.csv\",\n",
    "                 header=None, \n",
    "                 names=[\"ScientificName\", \"Domain\", \"GenomeLength\", \"ProteinCodingGenes\", \"Genes\", \"CodingPercentage\"])"
   ]
  },
  {
   "cell_type": "markdown",
   "metadata": {},
   "source": [
    "Show what is inside the data frame"
   ]
  },
  {
   "cell_type": "code",
   "execution_count": 3,
   "metadata": {
    "collapsed": false
   },
   "outputs": [
    {
     "name": "stdout",
     "output_type": "stream",
     "text": [
      "                                         ScientificName        Domain  \\\n",
      "0                                Anopheles gambiae PEST    Eukaryotes   \n",
      "1                                   Apis mellifera DH4     Eukaryotes   \n",
      "2                         Arabidopsis thaliana columbia    Eukaryotes   \n",
      "3                          Aspergillus fumigatus Af293     Eukaryotes   \n",
      "4                          Aspergillus nidulans FGSC A4    Eukaryotes   \n",
      "5                          Aspergillus niger CBS 513.88    Eukaryotes   \n",
      "6                           Aspergillus terreus NIH2624    Eukaryotes   \n",
      "7                       Bigelowiella natans nucleomorph    Eukaryotes   \n",
      "8                                           Bombyx mori    Eukaryotes   \n",
      "9                                Caenorhabditis elegans    Eukaryotes   \n",
      "10                              Candida albicans SC5314    Eukaryotes   \n",
      "11                             Candida glabrata CBS 138    Eukaryotes   \n",
      "12                                     Canis familiaris    Eukaryotes   \n",
      "13                            Chlamydomonas reinhardtii    Eukaryotes   \n",
      "14             Cryptococcus neoformans neoformans JEC21    Eukaryotes   \n",
      "15      Cryptococcus neoformans var. neoformans B-3501A    Eukaryotes   \n",
      "16                        Cryptosporidium hominis TU502    Eukaryotes   \n",
      "17                  Cryptosporidium parvum Iowa type II    Eukaryotes   \n",
      "18                          Cyanidioschyzon merolae 10D    Eukaryotes   \n",
      "19                                Danio rerio Tuebingen    Eukaryotes   \n",
      "20                         Debaryomyces hansenii CBS767    Eukaryotes   \n",
      "21                         Dictyostelium discoideum AX4    Eukaryotes   \n",
      "22                             Drosophila melanogaster     Eukaryotes   \n",
      "23                       Encephalitozoon cuniculi GB-M1    Eukaryotes   \n",
      "24                      Entamoeba histolytica HM-1:IMSS    Eukaryotes   \n",
      "25                                Eremothecium gossypii    Eukaryotes   \n",
      "26                                        Gallus gallus    Eukaryotes   \n",
      "27                           Giardia lamblia ATCC 50803    Eukaryotes   \n",
      "28                                 Gibberella zeae PH-1    Eukaryotes   \n",
      "29                         Guillardia theta nucleomorph    Eukaryotes   \n",
      "...                                                 ...           ...   \n",
      "1080                  Verasper variegatus mitochondrion  Mitochondria   \n",
      "1081                     Volemys kikuchii mitochondrion  Mitochondria   \n",
      "1082                Watasenia scintillans mitochondrion  Mitochondria   \n",
      "1083                  Xenopeltis unicolor mitochondrion  Mitochondria   \n",
      "1084                  Yarrowia lipolytica mitochondrion  Mitochondria   \n",
      "1085                             Acorus calamus plastid  Chloroplasts   \n",
      "1086              Adiantum capillus-veneris chloroplast  Chloroplasts   \n",
      "1087                    Anthoceros formosae chloroplast  Chloroplasts   \n",
      "1088                   Arabidopsis thaliana chloroplast  Chloroplasts   \n",
      "1089                      Atropa belladonna chloroplast  Chloroplasts   \n",
      "1090      Calycanthus floridus var. glaucus chloroplast  Chloroplasts   \n",
      "1091             Chaetosphaeridium globosum chloroplast  Chloroplasts   \n",
      "1092                        Cucumis sativus chloroplast  Chloroplasts   \n",
      "1093                    Cyanophora paradoxa chloroplast  Chloroplasts   \n",
      "1094                      Emiliania huxleyi chloroplast  Chloroplasts   \n",
      "1095                       Euglena gracilis chloroplast  Chloroplasts   \n",
      "1096                            Glycine max chloroplast  Chloroplasts   \n",
      "1097                     Gossypium hirsutum chloroplast  Chloroplasts   \n",
      "1098    Gracilaria tenuistipitata var. liui chloroplast  Chloroplasts   \n",
      "1099                         Lactuca sativa chloroplast  Chloroplasts   \n",
      "1100                Lycopersicon esculentum chloroplast  Chloroplasts   \n",
      "1101                          Nicotiana tabacum plastid  Chloroplasts   \n",
      "1102              Nicotiana tomentosiformis chloroplast  Chloroplasts   \n",
      "1103  Phalaenopsis aphrodite subsp. formosana chloro...  Chloroplasts   \n",
      "1104                     Porphyra yezoensis chloroplast  Chloroplasts   \n",
      "1105                         Psilotum nudum chloroplast  Chloroplasts   \n",
      "1106                  Solanum bulbocastanum chloroplast  Chloroplasts   \n",
      "1107                          Spinacia oleracea plastid  Chloroplasts   \n",
      "1108          Theileria parva strain Muguga apicoplast   Chloroplasts   \n",
      "1109           Toxoplasma gondii apicoplast chloroplast  Chloroplasts   \n",
      "\n",
      "      GenomeLength  ProteinCodingGenes    Genes  CodingPercentage  \n",
      "0         230466.9             13260.0  13749.0             19.11  \n",
      "1         217194.9             15948.0  16360.0               NaN  \n",
      "2         119707.4             26735.0  31392.0             49.99  \n",
      "3          29384.9              9923.0  10152.0             55.39  \n",
      "4          30166.8              9541.0   9727.0             59.16  \n",
      "5          33975.5             14086.0  14431.0             65.46  \n",
      "6          29164.9             10406.0  10556.0             59.92  \n",
      "7            372.9               293.0    340.0               NaN  \n",
      "8         428700.0             18510.0      NaN               NaN  \n",
      "9         100281.2             20056.0  20935.0             59.88  \n",
      "10         28504.7             14105.0  14144.0             63.97  \n",
      "11         12280.4              5181.0   5397.0             64.37  \n",
      "12       2445110.1             33202.0  50110.0               NaN  \n",
      "13        121000.0             15143.0      NaN               NaN  \n",
      "14         19051.9              6475.0   6609.0             66.88  \n",
      "15         19699.8              6500.0   6609.0             64.93  \n",
      "16          8171.0              3886.0   3956.0             64.91  \n",
      "17          9098.4              3396.0   3886.0             68.90  \n",
      "18         16520.3              5331.0   5373.0             44.90  \n",
      "19       1097524.4             37724.0  38017.0             38.23  \n",
      "20         12220.8              6893.0   7108.0             76.14  \n",
      "21         33928.5             13322.0  13362.0             68.76  \n",
      "22        120401.1             14081.0  21116.0             61.37  \n",
      "23          2497.5              1996.0   2053.0             86.99  \n",
      "24         21581.5              9772.0  10202.0             54.53  \n",
      "25          8742.4              4718.0   4987.0             80.17  \n",
      "26       1031880.1             15288.0  15700.0              3.10  \n",
      "27          9717.5              6569.0   6598.0             94.45  \n",
      "28         36487.3             11640.0  11640.0             55.64  \n",
      "29           551.3               486.0    553.0             90.34  \n",
      "...            ...                 ...      ...               ...  \n",
      "1080          14.8                13.0     39.0             74.00  \n",
      "1081          16.3                13.0     37.0             69.00  \n",
      "1082          20.1                18.0     43.0               NaN  \n",
      "1083          18.9                13.0     37.0             59.00  \n",
      "1084          48.0                24.0     53.0             45.00  \n",
      "1085         153.8                84.0    130.0             49.00  \n",
      "1086         151.0                87.0    130.0               NaN  \n",
      "1087         161.0                90.0    135.0               NaN  \n",
      "1088         154.0                87.0    132.0               NaN  \n",
      "1089         156.7                87.0    132.0             51.00  \n",
      "1090         153.0                88.0    134.0               NaN  \n",
      "1091         131.0                98.0    141.0               NaN  \n",
      "1092         155.3                85.0    131.0             49.00  \n",
      "1093         135.6               149.0    192.0               NaN  \n",
      "1094         105.3               119.0    155.0             76.00  \n",
      "1095         143.0                66.0    114.0             66.00  \n",
      "1096         152.0                 NaN    128.0             48.00  \n",
      "1097         160.0                 NaN    131.0             44.00  \n",
      "1098         183.9               203.0    238.0             80.00  \n",
      "1099         152.7                84.0    128.0             47.00  \n",
      "1100         155.0                86.0    132.0             54.00  \n",
      "1101         155.9               101.0    146.0             49.00  \n",
      "1102         155.7               109.0    155.0             54.00  \n",
      "1103         149.0                97.0    141.0             44.00  \n",
      "1104         192.0               209.0    264.0             51.00  \n",
      "1105         138.8               101.0    150.0             55.00  \n",
      "1106         155.0                 NaN    142.0             80.00  \n",
      "1107         151.0                98.0    143.0             48.00  \n",
      "1108          39.6                44.0     70.0             66.00  \n",
      "1109          35.0                26.0     63.0             52.00  \n",
      "\n",
      "[1110 rows x 6 columns]\n"
     ]
    }
   ],
   "source": [
    "print(df)"
   ]
  },
  {
   "cell_type": "markdown",
   "metadata": {},
   "source": [
    "How many different values does the \"Domain\" column take? Enumerate them"
   ]
  },
  {
   "cell_type": "code",
   "execution_count": 4,
   "metadata": {
    "collapsed": false
   },
   "outputs": [
    {
     "data": {
      "text/plain": [
       "array(['Eukaryotes', nan, 'Bacteria', 'Archaea', 'Virus', 'Mitochondria',\n",
       "       'Chloroplasts'], dtype=object)"
      ]
     },
     "execution_count": 4,
     "metadata": {},
     "output_type": "execute_result"
    }
   ],
   "source": [
    "df[\"Domain\"].unique()"
   ]
  },
  {
   "cell_type": "markdown",
   "metadata": {},
   "source": [
    "As you might have noticed, some lines contain NaN (Not a Number) values, which means that the table was not complete. Keeping NaN values in your table can soon generate issues: it is thus recommended to remove them, when this does not compromise the integrity of the dataset.\n",
    "\n",
    "Look for all lines containing NaN. How many do you find? How many lines does the file contain? Will the dataset be compromised if you eliminate all NaN-containing lines?\n",
    "If not, drop all the lines containing NaN values"
   ]
  },
  {
   "cell_type": "code",
   "execution_count": 5,
   "metadata": {
    "collapsed": false
   },
   "outputs": [
    {
     "name": "stdout",
     "output_type": "stream",
     "text": [
      "ScientificName         0\n",
      "Domain                13\n",
      "GenomeLength          13\n",
      "ProteinCodingGenes    17\n",
      "Genes                 19\n",
      "CodingPercentage      45\n",
      "dtype: int64\n",
      "                                         ScientificName        Domain  \\\n",
      "0                                Anopheles gambiae PEST    Eukaryotes   \n",
      "2                         Arabidopsis thaliana columbia    Eukaryotes   \n",
      "3                          Aspergillus fumigatus Af293     Eukaryotes   \n",
      "4                          Aspergillus nidulans FGSC A4    Eukaryotes   \n",
      "5                          Aspergillus niger CBS 513.88    Eukaryotes   \n",
      "6                           Aspergillus terreus NIH2624    Eukaryotes   \n",
      "9                                Caenorhabditis elegans    Eukaryotes   \n",
      "10                              Candida albicans SC5314    Eukaryotes   \n",
      "11                             Candida glabrata CBS 138    Eukaryotes   \n",
      "14             Cryptococcus neoformans neoformans JEC21    Eukaryotes   \n",
      "15      Cryptococcus neoformans var. neoformans B-3501A    Eukaryotes   \n",
      "16                        Cryptosporidium hominis TU502    Eukaryotes   \n",
      "17                  Cryptosporidium parvum Iowa type II    Eukaryotes   \n",
      "18                          Cyanidioschyzon merolae 10D    Eukaryotes   \n",
      "19                                Danio rerio Tuebingen    Eukaryotes   \n",
      "20                         Debaryomyces hansenii CBS767    Eukaryotes   \n",
      "21                         Dictyostelium discoideum AX4    Eukaryotes   \n",
      "22                             Drosophila melanogaster     Eukaryotes   \n",
      "23                       Encephalitozoon cuniculi GB-M1    Eukaryotes   \n",
      "24                      Entamoeba histolytica HM-1:IMSS    Eukaryotes   \n",
      "25                                Eremothecium gossypii    Eukaryotes   \n",
      "26                                        Gallus gallus    Eukaryotes   \n",
      "27                           Giardia lamblia ATCC 50803    Eukaryotes   \n",
      "28                                 Gibberella zeae PH-1    Eukaryotes   \n",
      "29                         Guillardia theta nucleomorph    Eukaryotes   \n",
      "31                                         Homo sapiens    Eukaryotes   \n",
      "32                     Kluyveromyces lactis NRRL Y-1140    Eukaryotes   \n",
      "33                             Magnaporthe grisea 70-15    Eukaryotes   \n",
      "34                                Mus musculus C57BL/6J    Eukaryotes   \n",
      "35                              Neurospora crassa OR74A    Eukaryotes   \n",
      "...                                                 ...           ...   \n",
      "1070                  Testudo horsfieldii mitochondrion  Mitochondria   \n",
      "1071                   Testudo kleinmanni mitochondrion  Mitochondria   \n",
      "1072                    Testudo marginata mitochondrion  Mitochondria   \n",
      "1073               Tetrahymena pyriformis mitochondrion  Mitochondria   \n",
      "1074               Tetraodon nigroviridis mitochondrion  Mitochondria   \n",
      "1075             Thalassiosira pseudonana mitochondrion  Mitochondria   \n",
      "1076                      Thrips imaginis mitochondrion  Mitochondria   \n",
      "1077                    Triticum aestivum mitochondrion  Mitochondria   \n",
      "1078                  Verasper variegatus mitochondrion  Mitochondria   \n",
      "1079                  Verasper variegatus mitochondrion  Mitochondria   \n",
      "1080                  Verasper variegatus mitochondrion  Mitochondria   \n",
      "1081                     Volemys kikuchii mitochondrion  Mitochondria   \n",
      "1083                  Xenopeltis unicolor mitochondrion  Mitochondria   \n",
      "1084                  Yarrowia lipolytica mitochondrion  Mitochondria   \n",
      "1085                             Acorus calamus plastid  Chloroplasts   \n",
      "1089                      Atropa belladonna chloroplast  Chloroplasts   \n",
      "1092                        Cucumis sativus chloroplast  Chloroplasts   \n",
      "1094                      Emiliania huxleyi chloroplast  Chloroplasts   \n",
      "1095                       Euglena gracilis chloroplast  Chloroplasts   \n",
      "1098    Gracilaria tenuistipitata var. liui chloroplast  Chloroplasts   \n",
      "1099                         Lactuca sativa chloroplast  Chloroplasts   \n",
      "1100                Lycopersicon esculentum chloroplast  Chloroplasts   \n",
      "1101                          Nicotiana tabacum plastid  Chloroplasts   \n",
      "1102              Nicotiana tomentosiformis chloroplast  Chloroplasts   \n",
      "1103  Phalaenopsis aphrodite subsp. formosana chloro...  Chloroplasts   \n",
      "1104                     Porphyra yezoensis chloroplast  Chloroplasts   \n",
      "1105                         Psilotum nudum chloroplast  Chloroplasts   \n",
      "1107                          Spinacia oleracea plastid  Chloroplasts   \n",
      "1108          Theileria parva strain Muguga apicoplast   Chloroplasts   \n",
      "1109           Toxoplasma gondii apicoplast chloroplast  Chloroplasts   \n",
      "\n",
      "      GenomeLength  ProteinCodingGenes    Genes  CodingPercentage  \n",
      "0         230466.9             13260.0  13749.0             19.11  \n",
      "2         119707.4             26735.0  31392.0             49.99  \n",
      "3          29384.9              9923.0  10152.0             55.39  \n",
      "4          30166.8              9541.0   9727.0             59.16  \n",
      "5          33975.5             14086.0  14431.0             65.46  \n",
      "6          29164.9             10406.0  10556.0             59.92  \n",
      "9         100281.2             20056.0  20935.0             59.88  \n",
      "10         28504.7             14105.0  14144.0             63.97  \n",
      "11         12280.4              5181.0   5397.0             64.37  \n",
      "14         19051.9              6475.0   6609.0             66.88  \n",
      "15         19699.8              6500.0   6609.0             64.93  \n",
      "16          8171.0              3886.0   3956.0             64.91  \n",
      "17          9098.4              3396.0   3886.0             68.90  \n",
      "18         16520.3              5331.0   5373.0             44.90  \n",
      "19       1097524.4             37724.0  38017.0             38.23  \n",
      "20         12220.8              6893.0   7108.0             76.14  \n",
      "21         33928.5             13322.0  13362.0             68.76  \n",
      "22        120401.1             14081.0  21116.0             61.37  \n",
      "23          2497.5              1996.0   2053.0             86.99  \n",
      "24         21581.5              9772.0  10202.0             54.53  \n",
      "25          8742.4              4718.0   4987.0             80.17  \n",
      "26       1031880.1             15288.0  15700.0              3.10  \n",
      "27          9717.5              6569.0   6598.0             94.45  \n",
      "28         36487.3             11640.0  11640.0             55.64  \n",
      "29           551.3               486.0    553.0             90.34  \n",
      "31       3080436.0             27727.0  38612.0             35.34  \n",
      "32         10689.2              5331.0   5502.0             70.93  \n",
      "33         41495.9             12832.0  13146.0             47.88  \n",
      "34       2644094.0             39625.0  60745.0             35.34  \n",
      "35         37097.3             10079.0  10082.0             45.49  \n",
      "...            ...                 ...      ...               ...  \n",
      "1070          17.1                13.0     37.0             66.00  \n",
      "1071          17.7                13.0     37.0             64.00  \n",
      "1072          19.5                13.0     37.0             58.00  \n",
      "1073          47.3                44.0     58.0             62.00  \n",
      "1074          16.5                13.0     37.0             69.00  \n",
      "1075          43.8                35.0     62.0             64.00  \n",
      "1076          15.4                13.0     38.0             70.00  \n",
      "1077         452.5                39.0     73.0              7.00  \n",
      "1078          17.3                13.0     37.0             24.00  \n",
      "1079          17.0                13.0     37.0             67.00  \n",
      "1080          14.8                13.0     39.0             74.00  \n",
      "1081          16.3                13.0     37.0             69.00  \n",
      "1083          18.9                13.0     37.0             59.00  \n",
      "1084          48.0                24.0     53.0             45.00  \n",
      "1085         153.8                84.0    130.0             49.00  \n",
      "1089         156.7                87.0    132.0             51.00  \n",
      "1092         155.3                85.0    131.0             49.00  \n",
      "1094         105.3               119.0    155.0             76.00  \n",
      "1095         143.0                66.0    114.0             66.00  \n",
      "1098         183.9               203.0    238.0             80.00  \n",
      "1099         152.7                84.0    128.0             47.00  \n",
      "1100         155.0                86.0    132.0             54.00  \n",
      "1101         155.9               101.0    146.0             49.00  \n",
      "1102         155.7               109.0    155.0             54.00  \n",
      "1103         149.0                97.0    141.0             44.00  \n",
      "1104         192.0               209.0    264.0             51.00  \n",
      "1105         138.8               101.0    150.0             55.00  \n",
      "1107         151.0                98.0    143.0             48.00  \n",
      "1108          39.6                44.0     70.0             66.00  \n",
      "1109          35.0                26.0     63.0             52.00  \n",
      "\n",
      "[1059 rows x 6 columns]\n"
     ]
    }
   ],
   "source": [
    "print(df.isnull().sum())\n",
    "\n",
    "df = df.dropna(axis=0)\n",
    "print(df)"
   ]
  },
  {
   "cell_type": "markdown",
   "metadata": {},
   "source": [
    "We consider the number of protein coding genes as the output and the genome size and percentage of coding genome as features. Import numpy, generate feature matrix $\\mathbf{X}$ and generate output array $\\mathbf{y}$ "
   ]
  },
  {
   "cell_type": "code",
   "execution_count": 6,
   "metadata": {
    "collapsed": false
   },
   "outputs": [],
   "source": [
    "import numpy as np\n",
    "X = df[df['Domain']=='Eukaryotes'][['GenomeLength','CodingPercentage']].as_matrix() # Genome length as x^(1), Coding percentage as x^(2)\n",
    "y = df[df['Domain']=='Eukaryotes'][['ProteinCodingGenes']].as_matrix()"
   ]
  },
  {
   "cell_type": "markdown",
   "metadata": {},
   "source": [
    "Print first row to check"
   ]
  },
  {
   "cell_type": "code",
   "execution_count": 7,
   "metadata": {
    "collapsed": false
   },
   "outputs": [
    {
     "name": "stdout",
     "output_type": "stream",
     "text": [
      "[2.304669e+05 1.911000e+01]\n",
      "[13260.]\n"
     ]
    }
   ],
   "source": [
    "print(X[0,:])\n",
    "print(y[0])"
   ]
  },
  {
   "cell_type": "markdown",
   "metadata": {},
   "source": [
    "Scatter plots for $\\mathbf{y}$ against each considered feature.\n",
    "Given the diversity of the organisms, quantities might need to be plotted in logarithmic scale!"
   ]
  },
  {
   "cell_type": "markdown",
   "metadata": {},
   "source": [
    "Protein coding genes vs. genome length"
   ]
  },
  {
   "cell_type": "code",
   "execution_count": 8,
   "metadata": {
    "collapsed": false
   },
   "outputs": [
    {
     "data": {
      "text/plain": [
       "<matplotlib.text.Text at 0x7fc4fedb6b00>"
      ]
     },
     "execution_count": 8,
     "metadata": {},
     "output_type": "execute_result"
    },
    {
     "data": {
      "image/png": "[encoded data removed]",
      "text/plain": [
       "<matplotlib.figure.Figure at 0x7fc4fe2bad68>"
      ]
     },
     "metadata": {},
     "output_type": "display_data"
    }
   ],
   "source": [
    "import matplotlib.pyplot as plt # This is the graphic library of Python\n",
    "# Command to make figures appear in Jupyter\n",
    "%matplotlib inline \n",
    "\n",
    "\n",
    "plt.scatter(np.log(X[:,0]),np.log(y)) # Produces a scatter plot. It needs two arguments (Xs and Ys)\n",
    "plt.title(\"Scatter plot of protein coding genes vs. genome length\") # Set the title\n",
    "plt.xlabel(\"Genome length\") # Label the x axis\n",
    "plt.ylabel(\"PCG\") # Label the y axis"
   ]
  },
  {
   "cell_type": "markdown",
   "metadata": {},
   "source": [
    "Protein coding genes vs. percentage of coding genome"
   ]
  },
  {
   "cell_type": "code",
   "execution_count": 9,
   "metadata": {
    "collapsed": false,
    "scrolled": true
   },
   "outputs": [
    {
     "data": {
      "text/plain": [
       "<matplotlib.text.Text at 0x7fc4fee47ba8>"
      ]
     },
     "execution_count": 9,
     "metadata": {},
     "output_type": "execute_result"
    },
    {
     "data": {
      "image/png": "[encoded data removed]",
      "text/plain": [
       "<matplotlib.figure.Figure at 0x7fc4fe248668>"
      ]
     },
     "metadata": {},
     "output_type": "display_data"
    }
   ],
   "source": [
    "plt.scatter(X[:,1],np.log(y))\n",
    "plt.title(\"Scatter plot of protein coding genes vs. genome length\")\n",
    "plt.xlabel(\"% coding genome\")\n",
    "plt.ylabel(\"PCG\")"
   ]
  },
  {
   "cell_type": "markdown",
   "metadata": {},
   "source": [
    "Now plot the two scatter plots at once in a single figure with the command **plt.subplots()**. You will have to specify that the Y axis is the same for the two plots."
   ]
  },
  {
   "cell_type": "code",
   "execution_count": 10,
   "metadata": {
    "collapsed": false
   },
   "outputs": [
    {
     "data": {
      "image/png": "[encoded data removed]",
      "text/plain": [
       "<matplotlib.figure.Figure at 0x7fc4fed314e0>"
      ]
     },
     "metadata": {},
     "output_type": "display_data"
    }
   ],
   "source": [
    "fig, axs = plt.subplots(1, 2, sharey=True, figsize=(7.5,3)) \n",
    "axs[0].scatter(np.log(X[:,0]),np.log(y))\n",
    "axs[1].scatter(X[:,1],np.log(y))\n",
    "axs[0].set_xlabel(\"Genome length\");\n",
    "axs[1].set_xlabel(\"% coding genome\");\n",
    "axs[0].set_ylabel(\"PCG\");"
   ]
  },
  {
   "cell_type": "markdown",
   "metadata": {},
   "source": [
    "Are both the two features correlated to the output? What could be the cause?"
   ]
  },
  {
   "cell_type": "markdown",
   "metadata": {},
   "source": [
    "Make the same two graphs, but this time color values belonging to each domain differently (one color for Eukaryotes, one for Bacteria, etc.). What do you notice?"
   ]
  },
  {
   "cell_type": "code",
   "execution_count": 11,
   "metadata": {
    "collapsed": false
   },
   "outputs": [
    {
     "data": {
      "text/plain": [
       "<matplotlib.legend.Legend at 0x7fc4ff26e898>"
      ]
     },
     "execution_count": 11,
     "metadata": {},
     "output_type": "execute_result"
    },
    {
     "data": {
      "image/png": "[encoded data removed]",
      "text/plain": [
       "<matplotlib.figure.Figure at 0x7fc4ff143908>"
      ]
     },
     "metadata": {},
     "output_type": "display_data"
    }
   ],
   "source": [
    "X1 = df[df['Domain']=='Eukaryotes'][['GenomeLength','CodingPercentage']].as_matrix()\n",
    "X2 = df[df['Domain']=='Bacteria'][['GenomeLength','CodingPercentage']].as_matrix()\n",
    "X3 = df[df['Domain']=='Archaea'][['GenomeLength','CodingPercentage']].as_matrix()\n",
    "X4 = df[df['Domain']=='Mitochondria'][['GenomeLength','CodingPercentage']].as_matrix()\n",
    "X5 = df[df['Domain']=='Chloroplasts'][['GenomeLength','CodingPercentage']].as_matrix()\n",
    "y1 = df[df['Domain']=='Eukaryotes'][['ProteinCodingGenes']].as_matrix()\n",
    "y2 = df[df['Domain']=='Bacteria'][['ProteinCodingGenes']].as_matrix()\n",
    "y3 = df[df['Domain']=='Archaea'][['ProteinCodingGenes']].as_matrix()\n",
    "y4 = df[df['Domain']=='Mitochondria'][['ProteinCodingGenes']].as_matrix()\n",
    "y5 = df[df['Domain']=='Chloroplasts'][['ProteinCodingGenes']].as_matrix()\n",
    "\n",
    "fig, axs = plt.subplots(1, 2, sharey=True,figsize=(15,6))\n",
    "axs[0].scatter(np.log(X1[:,0]),np.log(y1))\n",
    "axs[0].scatter(np.log(X2[:,0]),np.log(y2))\n",
    "axs[0].scatter(np.log(X3[:,0]),np.log(y3))\n",
    "axs[0].scatter(np.log(X4[:,0]),np.log(y4))\n",
    "axs[0].scatter(np.log(X5[:,0]),np.log(y5))\n",
    "axs[1].scatter(X1[:,1],np.log(y1))\n",
    "axs[1].scatter(X2[:,1],np.log(y2))\n",
    "axs[1].scatter(X3[:,1],np.log(y3))\n",
    "axs[1].scatter(X4[:,1],np.log(y4))\n",
    "axs[1].scatter(X5[:,1],np.log(y5))\n",
    "axs[0].set_xlabel(\"Genome length\");\n",
    "#axs[0].set_xlim([-5,np.max(X[:,0])+5]);\n",
    "axs[1].set_xlabel(\"% coding genome\");\n",
    "#axs[1].set_xlim([-5,np.max(X[:,1])+5]);\n",
    "axs[0].set_ylabel(\"PCG\");\n",
    "axs[1].legend(['Eukaryotes', 'Bacteria', 'Archaea', 'Mytochondria', 'Chloroplasts'])"
   ]
  },
  {
   "cell_type": "markdown",
   "metadata": {},
   "source": [
    "## B. Simple linear regression"
   ]
  },
  {
   "cell_type": "markdown",
   "metadata": {},
   "source": [
    "To start, we will work only with data from **Eukaryotes** only. Extract the Eukaryotes data from the DataFrame and define the usual feature matrix and output vector.\n",
    "Import linear regression functions from Scikit-learn."
   ]
  },
  {
   "cell_type": "code",
   "execution_count": 12,
   "metadata": {
    "collapsed": true
   },
   "outputs": [],
   "source": [
    "from sklearn import linear_model as lm\n",
    "from sklearn import metrics as met\n",
    "\n",
    "X = df[df['Domain']=='Eukaryotes'][['GenomeLength','CodingPercentage']].as_matrix()\n",
    "y = df[df['Domain']=='Eukaryotes'][['ProteinCodingGenes']].as_matrix()"
   ]
  },
  {
   "cell_type": "markdown",
   "metadata": {},
   "source": [
    "Make a linear regression for the Genome length feature. Be careful: what are the variables that linearly correlate?"
   ]
  },
  {
   "cell_type": "code",
   "execution_count": 13,
   "metadata": {
    "collapsed": false
   },
   "outputs": [
    {
     "name": "stdout",
     "output_type": "stream",
     "text": [
      "beta_0 = 4.967163161395629, beta_1 = 0.390225067830031\n",
      "MSE =  0.13609414466347466\n",
      "RMSE =  0.3689093989904224\n",
      "R^2 =  0.7838702977543056\n"
     ]
    },
    {
     "data": {
      "image/png": "[encoded data removed]",
      "text/plain": [
       "<matplotlib.figure.Figure at 0x7fc500972390>"
      ]
     },
     "metadata": {},
     "output_type": "display_data"
    }
   ],
   "source": [
    "X[:,[0]] = np.log(X[:,[0]])\n",
    "X[:,[1]] = X[:,[1]]/100\n",
    "y = np.log(y)\n",
    "\n",
    "linreg_1 = lm.LinearRegression()\n",
    "x_1 = X[:,[0]]\n",
    "linreg_1.fit(x_1, y)\n",
    "print('beta_0 = {}, beta_1 = {}'.format(linreg_1.intercept_[0],\n",
    "                                            linreg_1.coef_[0,0]))\n",
    "MSE_1 = met.mean_squared_error(y, linreg_1.predict(x_1))\n",
    "RMSE_1= np.sqrt(MSE_1)\n",
    "R_2_1 =  met.r2_score(y, linreg_1.predict(x_1))\n",
    "print('MSE = ',MSE_1)\n",
    "print('RMSE = ',RMSE_1)\n",
    "print('R^2 = ',R_2_1)\n",
    "x_test = np.linspace(np.min(X[:,0]),np.max(X[:,0]),20)\n",
    "y_hat  = linreg_1.predict(x_test.reshape(-1,1))\n",
    "plt.plot(x_test,y_hat,c='r');\n",
    "plt.scatter(X[:,0],y);\n",
    "plt.xlabel('Genome length');\n",
    "plt.ylabel('PCG');"
   ]
  },
  {
   "cell_type": "markdown",
   "metadata": {},
   "source": [
    "Make a linear regression for the Coding genome percentage feature."
   ]
  },
  {
   "cell_type": "code",
   "execution_count": 14,
   "metadata": {
    "collapsed": false
   },
   "outputs": [
    {
     "name": "stdout",
     "output_type": "stream",
     "text": [
      "beta_0 = 10.748927311007105, beta_1 = -2.8986016469638427\n",
      "MSE =  0.35826558781321705\n",
      "RMSE =  0.5985529114566372\n",
      "R^2 =  0.43104212888498605\n"
     ]
    },
    {
     "data": {
      "image/png": "[encoded data removed]",
      "text/plain": [
       "<matplotlib.figure.Figure at 0x7fc5009af2b0>"
      ]
     },
     "metadata": {},
     "output_type": "display_data"
    }
   ],
   "source": [
    "linreg_2 = lm.LinearRegression()\n",
    "x_2 = X[:,[1]]\n",
    "linreg_2.fit(x_2, y)\n",
    "print('beta_0 = {}, beta_1 = {}'.format(linreg_2.intercept_[0]\n",
    "                                          ,linreg_2.coef_[0,0]))\n",
    "MSE_2 = met.mean_squared_error(y, linreg_2.predict(x_2))\n",
    "RMSE_2= np.sqrt(MSE_2)\n",
    "R_2_2 =  met.r2_score(y, linreg_2.predict(x_2))\n",
    "print('MSE = ',MSE_2)\n",
    "print('RMSE = ',RMSE_2)\n",
    "print('R^2 = ',R_2_2)\n",
    "x_test = np.linspace(np.min(X[:,1]),np.max(X[:,1]),20)\n",
    "y_hat  = linreg_2.predict(x_test.reshape(-1,1))\n",
    "plt.plot(x_test,y_hat,c='r');\n",
    "plt.scatter(X[:,1],y);\n",
    "plt.xlabel('% coding genome');\n",
    "plt.ylabel('PCG');"
   ]
  },
  {
   "cell_type": "markdown",
   "metadata": {},
   "source": [
    "## C. Multiple linear regression with 2 explanatory variables"
   ]
  },
  {
   "cell_type": "markdown",
   "metadata": {},
   "source": [
    "Linear regression for both features"
   ]
  },
  {
   "cell_type": "code",
   "execution_count": 15,
   "metadata": {
    "collapsed": false,
    "scrolled": true
   },
   "outputs": [
    {
     "name": "stdout",
     "output_type": "stream",
     "text": [
      "beta_0 = 3.939943227062563, beta_1 beta_2 = [[0.44805175 0.7186935 ]]\n",
      "MSE =  0.1302471897587619\n",
      "RMSE =  0.3608977552697743\n",
      "R^2 =  0.7931557863087498\n"
     ]
    }
   ],
   "source": [
    "linreg_12 = lm.LinearRegression()\n",
    "X_12 = X[:,0:2]\n",
    "linreg_12.fit(X_12, y)\n",
    "print('beta_0 = {}, beta_1 beta_2 = {}'.format(\n",
    "                       linreg_12.intercept_[0],linreg_12.coef_))\n",
    "MSE_12 = met.mean_squared_error(y, linreg_12.predict(X_12))\n",
    "RMSE_12= np.sqrt(MSE_12)\n",
    "R_2_12 =  met.r2_score(y, linreg_12.predict(X_12))\n",
    "print('MSE = ',MSE_12)\n",
    "print('RMSE = ',RMSE_12)\n",
    "print('R^2 = ',R_2_12)"
   ]
  },
  {
   "cell_type": "markdown",
   "metadata": {},
   "source": [
    "Plot predicted surface and data points for genome length and percentage of coding genome"
   ]
  },
  {
   "cell_type": "code",
   "execution_count": 16,
   "metadata": {
    "collapsed": false,
    "scrolled": true
   },
   "outputs": [
    {
     "name": "stdout",
     "output_type": "stream",
     "text": [
      "[ 6.31227913  6.76640031  7.2205215   7.67464269  8.12876388  8.58288507\n",
      "  9.03700626  9.49112744  9.94524863 10.39936982 10.85349101 11.3076122\n",
      " 11.76173339 12.21585457 12.66997576 13.12409695 13.57821814 14.03233933\n",
      " 14.48646052 14.9405817 ]\n",
      "[[ 6.31227913  6.76640031  7.2205215   7.67464269  8.12876388  8.58288507\n",
      "   9.03700626  9.49112744  9.94524863 10.39936982 10.85349101 11.3076122\n",
      "  11.76173339 12.21585457 12.66997576 13.12409695 13.57821814 14.03233933\n",
      "  14.48646052 14.9405817 ]\n",
      " [ 6.31227913  6.76640031  7.2205215   7.67464269  8.12876388  8.58288507\n",
      "   9.03700626  9.49112744  9.94524863 10.39936982 10.85349101 11.3076122\n",
      "  11.76173339 12.21585457 12.66997576 13.12409695 13.57821814 14.03233933\n",
      "  14.48646052 14.9405817 ]\n",
      " [ 6.31227913  6.76640031  7.2205215   7.67464269  8.12876388  8.58288507\n",
      "   9.03700626  9.49112744  9.94524863 10.39936982 10.85349101 11.3076122\n",
      "  11.76173339 12.21585457 12.66997576 13.12409695 13.57821814 14.03233933\n",
      "  14.48646052 14.9405817 ]\n",
      " [ 6.31227913  6.76640031  7.2205215   7.67464269  8.12876388  8.58288507\n",
      "   9.03700626  9.49112744  9.94524863 10.39936982 10.85349101 11.3076122\n",
      "  11.76173339 12.21585457 12.66997576 13.12409695 13.57821814 14.03233933\n",
      "  14.48646052 14.9405817 ]\n",
      " [ 6.31227913  6.76640031  7.2205215   7.67464269  8.12876388  8.58288507\n",
      "   9.03700626  9.49112744  9.94524863 10.39936982 10.85349101 11.3076122\n",
      "  11.76173339 12.21585457 12.66997576 13.12409695 13.57821814 14.03233933\n",
      "  14.48646052 14.9405817 ]\n",
      " [ 6.31227913  6.76640031  7.2205215   7.67464269  8.12876388  8.58288507\n",
      "   9.03700626  9.49112744  9.94524863 10.39936982 10.85349101 11.3076122\n",
      "  11.76173339 12.21585457 12.66997576 13.12409695 13.57821814 14.03233933\n",
      "  14.48646052 14.9405817 ]\n",
      " [ 6.31227913  6.76640031  7.2205215   7.67464269  8.12876388  8.58288507\n",
      "   9.03700626  9.49112744  9.94524863 10.39936982 10.85349101 11.3076122\n",
      "  11.76173339 12.21585457 12.66997576 13.12409695 13.57821814 14.03233933\n",
      "  14.48646052 14.9405817 ]\n",
      " [ 6.31227913  6.76640031  7.2205215   7.67464269  8.12876388  8.58288507\n",
      "   9.03700626  9.49112744  9.94524863 10.39936982 10.85349101 11.3076122\n",
      "  11.76173339 12.21585457 12.66997576 13.12409695 13.57821814 14.03233933\n",
      "  14.48646052 14.9405817 ]\n",
      " [ 6.31227913  6.76640031  7.2205215   7.67464269  8.12876388  8.58288507\n",
      "   9.03700626  9.49112744  9.94524863 10.39936982 10.85349101 11.3076122\n",
      "  11.76173339 12.21585457 12.66997576 13.12409695 13.57821814 14.03233933\n",
      "  14.48646052 14.9405817 ]\n",
      " [ 6.31227913  6.76640031  7.2205215   7.67464269  8.12876388  8.58288507\n",
      "   9.03700626  9.49112744  9.94524863 10.39936982 10.85349101 11.3076122\n",
      "  11.76173339 12.21585457 12.66997576 13.12409695 13.57821814 14.03233933\n",
      "  14.48646052 14.9405817 ]\n",
      " [ 6.31227913  6.76640031  7.2205215   7.67464269  8.12876388  8.58288507\n",
      "   9.03700626  9.49112744  9.94524863 10.39936982 10.85349101 11.3076122\n",
      "  11.76173339 12.21585457 12.66997576 13.12409695 13.57821814 14.03233933\n",
      "  14.48646052 14.9405817 ]\n",
      " [ 6.31227913  6.76640031  7.2205215   7.67464269  8.12876388  8.58288507\n",
      "   9.03700626  9.49112744  9.94524863 10.39936982 10.85349101 11.3076122\n",
      "  11.76173339 12.21585457 12.66997576 13.12409695 13.57821814 14.03233933\n",
      "  14.48646052 14.9405817 ]\n",
      " [ 6.31227913  6.76640031  7.2205215   7.67464269  8.12876388  8.58288507\n",
      "   9.03700626  9.49112744  9.94524863 10.39936982 10.85349101 11.3076122\n",
      "  11.76173339 12.21585457 12.66997576 13.12409695 13.57821814 14.03233933\n",
      "  14.48646052 14.9405817 ]\n",
      " [ 6.31227913  6.76640031  7.2205215   7.67464269  8.12876388  8.58288507\n",
      "   9.03700626  9.49112744  9.94524863 10.39936982 10.85349101 11.3076122\n",
      "  11.76173339 12.21585457 12.66997576 13.12409695 13.57821814 14.03233933\n",
      "  14.48646052 14.9405817 ]\n",
      " [ 6.31227913  6.76640031  7.2205215   7.67464269  8.12876388  8.58288507\n",
      "   9.03700626  9.49112744  9.94524863 10.39936982 10.85349101 11.3076122\n",
      "  11.76173339 12.21585457 12.66997576 13.12409695 13.57821814 14.03233933\n",
      "  14.48646052 14.9405817 ]\n",
      " [ 6.31227913  6.76640031  7.2205215   7.67464269  8.12876388  8.58288507\n",
      "   9.03700626  9.49112744  9.94524863 10.39936982 10.85349101 11.3076122\n",
      "  11.76173339 12.21585457 12.66997576 13.12409695 13.57821814 14.03233933\n",
      "  14.48646052 14.9405817 ]\n",
      " [ 6.31227913  6.76640031  7.2205215   7.67464269  8.12876388  8.58288507\n",
      "   9.03700626  9.49112744  9.94524863 10.39936982 10.85349101 11.3076122\n",
      "  11.76173339 12.21585457 12.66997576 13.12409695 13.57821814 14.03233933\n",
      "  14.48646052 14.9405817 ]\n",
      " [ 6.31227913  6.76640031  7.2205215   7.67464269  8.12876388  8.58288507\n",
      "   9.03700626  9.49112744  9.94524863 10.39936982 10.85349101 11.3076122\n",
      "  11.76173339 12.21585457 12.66997576 13.12409695 13.57821814 14.03233933\n",
      "  14.48646052 14.9405817 ]\n",
      " [ 6.31227913  6.76640031  7.2205215   7.67464269  8.12876388  8.58288507\n",
      "   9.03700626  9.49112744  9.94524863 10.39936982 10.85349101 11.3076122\n",
      "  11.76173339 12.21585457 12.66997576 13.12409695 13.57821814 14.03233933\n",
      "  14.48646052 14.9405817 ]\n",
      " [ 6.31227913  6.76640031  7.2205215   7.67464269  8.12876388  8.58288507\n",
      "   9.03700626  9.49112744  9.94524863 10.39936982 10.85349101 11.3076122\n",
      "  11.76173339 12.21585457 12.66997576 13.12409695 13.57821814 14.03233933\n",
      "  14.48646052 14.9405817 ]]\n",
      "[[ 6.31227913  0.031     ]\n",
      " [ 6.76640031  0.031     ]\n",
      " [ 7.2205215   0.031     ]\n",
      " [ 7.67464269  0.031     ]\n",
      " [ 8.12876388  0.031     ]\n",
      " [ 8.58288507  0.031     ]\n",
      " [ 9.03700626  0.031     ]\n",
      " [ 9.49112744  0.031     ]\n",
      " [ 9.94524863  0.031     ]\n",
      " [10.39936982  0.031     ]\n",
      " [10.85349101  0.031     ]\n",
      " [11.3076122   0.031     ]\n",
      " [11.76173339  0.031     ]\n",
      " [12.21585457  0.031     ]\n",
      " [12.66997576  0.031     ]\n",
      " [13.12409695  0.031     ]\n",
      " [13.57821814  0.031     ]\n",
      " [14.03233933  0.031     ]\n",
      " [14.48646052  0.031     ]\n",
      " [14.9405817   0.031     ]\n",
      " [ 6.31227913  0.07907895]\n",
      " [ 6.76640031  0.07907895]\n",
      " [ 7.2205215   0.07907895]\n",
      " [ 7.67464269  0.07907895]\n",
      " [ 8.12876388  0.07907895]\n",
      " [ 8.58288507  0.07907895]\n",
      " [ 9.03700626  0.07907895]\n",
      " [ 9.49112744  0.07907895]\n",
      " [ 9.94524863  0.07907895]\n",
      " [10.39936982  0.07907895]\n",
      " [10.85349101  0.07907895]\n",
      " [11.3076122   0.07907895]\n",
      " [11.76173339  0.07907895]\n",
      " [12.21585457  0.07907895]\n",
      " [12.66997576  0.07907895]\n",
      " [13.12409695  0.07907895]\n",
      " [13.57821814  0.07907895]\n",
      " [14.03233933  0.07907895]\n",
      " [14.48646052  0.07907895]\n",
      " [14.9405817   0.07907895]\n",
      " [ 6.31227913  0.12715789]\n",
      " [ 6.76640031  0.12715789]\n",
      " [ 7.2205215   0.12715789]\n",
      " [ 7.67464269  0.12715789]\n",
      " [ 8.12876388  0.12715789]\n",
      " [ 8.58288507  0.12715789]\n",
      " [ 9.03700626  0.12715789]\n",
      " [ 9.49112744  0.12715789]\n",
      " [ 9.94524863  0.12715789]\n",
      " [10.39936982  0.12715789]\n",
      " [10.85349101  0.12715789]\n",
      " [11.3076122   0.12715789]\n",
      " [11.76173339  0.12715789]\n",
      " [12.21585457  0.12715789]\n",
      " [12.66997576  0.12715789]\n",
      " [13.12409695  0.12715789]\n",
      " [13.57821814  0.12715789]\n",
      " [14.03233933  0.12715789]\n",
      " [14.48646052  0.12715789]\n",
      " [14.9405817   0.12715789]\n",
      " [ 6.31227913  0.17523684]\n",
      " [ 6.76640031  0.17523684]\n",
      " [ 7.2205215   0.17523684]\n",
      " [ 7.67464269  0.17523684]\n",
      " [ 8.12876388  0.17523684]\n",
      " [ 8.58288507  0.17523684]\n",
      " [ 9.03700626  0.17523684]\n",
      " [ 9.49112744  0.17523684]\n",
      " [ 9.94524863  0.17523684]\n",
      " [10.39936982  0.17523684]\n",
      " [10.85349101  0.17523684]\n",
      " [11.3076122   0.17523684]\n",
      " [11.76173339  0.17523684]\n",
      " [12.21585457  0.17523684]\n",
      " [12.66997576  0.17523684]\n",
      " [13.12409695  0.17523684]\n",
      " [13.57821814  0.17523684]\n",
      " [14.03233933  0.17523684]\n",
      " [14.48646052  0.17523684]\n",
      " [14.9405817   0.17523684]\n",
      " [ 6.31227913  0.22331579]\n",
      " [ 6.76640031  0.22331579]\n",
      " [ 7.2205215   0.22331579]\n",
      " [ 7.67464269  0.22331579]\n",
      " [ 8.12876388  0.22331579]\n",
      " [ 8.58288507  0.22331579]\n",
      " [ 9.03700626  0.22331579]\n",
      " [ 9.49112744  0.22331579]\n",
      " [ 9.94524863  0.22331579]\n",
      " [10.39936982  0.22331579]\n",
      " [10.85349101  0.22331579]\n",
      " [11.3076122   0.22331579]\n",
      " [11.76173339  0.22331579]\n",
      " [12.21585457  0.22331579]\n",
      " [12.66997576  0.22331579]\n",
      " [13.12409695  0.22331579]\n",
      " [13.57821814  0.22331579]\n",
      " [14.03233933  0.22331579]\n",
      " [14.48646052  0.22331579]\n",
      " [14.9405817   0.22331579]\n",
      " [ 6.31227913  0.27139474]\n",
      " [ 6.76640031  0.27139474]\n",
      " [ 7.2205215   0.27139474]\n",
      " [ 7.67464269  0.27139474]\n",
      " [ 8.12876388  0.27139474]\n",
      " [ 8.58288507  0.27139474]\n",
      " [ 9.03700626  0.27139474]\n",
      " [ 9.49112744  0.27139474]\n",
      " [ 9.94524863  0.27139474]\n",
      " [10.39936982  0.27139474]\n",
      " [10.85349101  0.27139474]\n",
      " [11.3076122   0.27139474]\n",
      " [11.76173339  0.27139474]\n",
      " [12.21585457  0.27139474]\n",
      " [12.66997576  0.27139474]\n",
      " [13.12409695  0.27139474]\n",
      " [13.57821814  0.27139474]\n",
      " [14.03233933  0.27139474]\n",
      " [14.48646052  0.27139474]\n",
      " [14.9405817   0.27139474]\n",
      " [ 6.31227913  0.31947368]\n",
      " [ 6.76640031  0.31947368]\n",
      " [ 7.2205215   0.31947368]\n",
      " [ 7.67464269  0.31947368]\n",
      " [ 8.12876388  0.31947368]\n",
      " [ 8.58288507  0.31947368]\n",
      " [ 9.03700626  0.31947368]\n",
      " [ 9.49112744  0.31947368]\n",
      " [ 9.94524863  0.31947368]\n",
      " [10.39936982  0.31947368]\n",
      " [10.85349101  0.31947368]\n",
      " [11.3076122   0.31947368]\n",
      " [11.76173339  0.31947368]\n",
      " [12.21585457  0.31947368]\n",
      " [12.66997576  0.31947368]\n",
      " [13.12409695  0.31947368]\n",
      " [13.57821814  0.31947368]\n",
      " [14.03233933  0.31947368]\n",
      " [14.48646052  0.31947368]\n",
      " [14.9405817   0.31947368]\n",
      " [ 6.31227913  0.36755263]\n",
      " [ 6.76640031  0.36755263]\n",
      " [ 7.2205215   0.36755263]\n",
      " [ 7.67464269  0.36755263]\n",
      " [ 8.12876388  0.36755263]\n",
      " [ 8.58288507  0.36755263]\n",
      " [ 9.03700626  0.36755263]\n",
      " [ 9.49112744  0.36755263]\n",
      " [ 9.94524863  0.36755263]\n",
      " [10.39936982  0.36755263]\n",
      " [10.85349101  0.36755263]\n",
      " [11.3076122   0.36755263]\n",
      " [11.76173339  0.36755263]\n",
      " [12.21585457  0.36755263]\n",
      " [12.66997576  0.36755263]\n",
      " [13.12409695  0.36755263]\n",
      " [13.57821814  0.36755263]\n",
      " [14.03233933  0.36755263]\n",
      " [14.48646052  0.36755263]\n",
      " [14.9405817   0.36755263]\n",
      " [ 6.31227913  0.41563158]\n",
      " [ 6.76640031  0.41563158]\n",
      " [ 7.2205215   0.41563158]\n",
      " [ 7.67464269  0.41563158]\n",
      " [ 8.12876388  0.41563158]\n",
      " [ 8.58288507  0.41563158]\n",
      " [ 9.03700626  0.41563158]\n",
      " [ 9.49112744  0.41563158]\n",
      " [ 9.94524863  0.41563158]\n",
      " [10.39936982  0.41563158]\n",
      " [10.85349101  0.41563158]\n",
      " [11.3076122   0.41563158]\n",
      " [11.76173339  0.41563158]\n",
      " [12.21585457  0.41563158]\n",
      " [12.66997576  0.41563158]\n",
      " [13.12409695  0.41563158]\n",
      " [13.57821814  0.41563158]\n",
      " [14.03233933  0.41563158]\n",
      " [14.48646052  0.41563158]\n",
      " [14.9405817   0.41563158]\n",
      " [ 6.31227913  0.46371053]\n",
      " [ 6.76640031  0.46371053]\n",
      " [ 7.2205215   0.46371053]\n",
      " [ 7.67464269  0.46371053]\n",
      " [ 8.12876388  0.46371053]\n",
      " [ 8.58288507  0.46371053]\n",
      " [ 9.03700626  0.46371053]\n",
      " [ 9.49112744  0.46371053]\n",
      " [ 9.94524863  0.46371053]\n",
      " [10.39936982  0.46371053]\n",
      " [10.85349101  0.46371053]\n",
      " [11.3076122   0.46371053]\n",
      " [11.76173339  0.46371053]\n",
      " [12.21585457  0.46371053]\n",
      " [12.66997576  0.46371053]\n",
      " [13.12409695  0.46371053]\n",
      " [13.57821814  0.46371053]\n",
      " [14.03233933  0.46371053]\n",
      " [14.48646052  0.46371053]\n",
      " [14.9405817   0.46371053]\n",
      " [ 6.31227913  0.51178947]\n",
      " [ 6.76640031  0.51178947]\n",
      " [ 7.2205215   0.51178947]\n",
      " [ 7.67464269  0.51178947]\n",
      " [ 8.12876388  0.51178947]\n",
      " [ 8.58288507  0.51178947]\n",
      " [ 9.03700626  0.51178947]\n",
      " [ 9.49112744  0.51178947]\n",
      " [ 9.94524863  0.51178947]\n",
      " [10.39936982  0.51178947]\n",
      " [10.85349101  0.51178947]\n",
      " [11.3076122   0.51178947]\n",
      " [11.76173339  0.51178947]\n",
      " [12.21585457  0.51178947]\n",
      " [12.66997576  0.51178947]\n",
      " [13.12409695  0.51178947]\n",
      " [13.57821814  0.51178947]\n",
      " [14.03233933  0.51178947]\n",
      " [14.48646052  0.51178947]\n",
      " [14.9405817   0.51178947]\n",
      " [ 6.31227913  0.55986842]\n",
      " [ 6.76640031  0.55986842]\n",
      " [ 7.2205215   0.55986842]\n",
      " [ 7.67464269  0.55986842]\n",
      " [ 8.12876388  0.55986842]\n",
      " [ 8.58288507  0.55986842]\n",
      " [ 9.03700626  0.55986842]\n",
      " [ 9.49112744  0.55986842]\n",
      " [ 9.94524863  0.55986842]\n",
      " [10.39936982  0.55986842]\n",
      " [10.85349101  0.55986842]\n",
      " [11.3076122   0.55986842]\n",
      " [11.76173339  0.55986842]\n",
      " [12.21585457  0.55986842]\n",
      " [12.66997576  0.55986842]\n",
      " [13.12409695  0.55986842]\n",
      " [13.57821814  0.55986842]\n",
      " [14.03233933  0.55986842]\n",
      " [14.48646052  0.55986842]\n",
      " [14.9405817   0.55986842]\n",
      " [ 6.31227913  0.60794737]\n",
      " [ 6.76640031  0.60794737]\n",
      " [ 7.2205215   0.60794737]\n",
      " [ 7.67464269  0.60794737]\n",
      " [ 8.12876388  0.60794737]\n",
      " [ 8.58288507  0.60794737]\n",
      " [ 9.03700626  0.60794737]\n",
      " [ 9.49112744  0.60794737]\n",
      " [ 9.94524863  0.60794737]\n",
      " [10.39936982  0.60794737]\n",
      " [10.85349101  0.60794737]\n",
      " [11.3076122   0.60794737]\n",
      " [11.76173339  0.60794737]\n",
      " [12.21585457  0.60794737]\n",
      " [12.66997576  0.60794737]\n",
      " [13.12409695  0.60794737]\n",
      " [13.57821814  0.60794737]\n",
      " [14.03233933  0.60794737]\n",
      " [14.48646052  0.60794737]\n",
      " [14.9405817   0.60794737]\n",
      " [ 6.31227913  0.65602632]\n",
      " [ 6.76640031  0.65602632]\n",
      " [ 7.2205215   0.65602632]\n",
      " [ 7.67464269  0.65602632]\n",
      " [ 8.12876388  0.65602632]\n",
      " [ 8.58288507  0.65602632]\n",
      " [ 9.03700626  0.65602632]\n",
      " [ 9.49112744  0.65602632]\n",
      " [ 9.94524863  0.65602632]\n",
      " [10.39936982  0.65602632]\n",
      " [10.85349101  0.65602632]\n",
      " [11.3076122   0.65602632]\n",
      " [11.76173339  0.65602632]\n",
      " [12.21585457  0.65602632]\n",
      " [12.66997576  0.65602632]\n",
      " [13.12409695  0.65602632]\n",
      " [13.57821814  0.65602632]\n",
      " [14.03233933  0.65602632]\n",
      " [14.48646052  0.65602632]\n",
      " [14.9405817   0.65602632]\n",
      " [ 6.31227913  0.70410526]\n",
      " [ 6.76640031  0.70410526]\n",
      " [ 7.2205215   0.70410526]\n",
      " [ 7.67464269  0.70410526]\n",
      " [ 8.12876388  0.70410526]\n",
      " [ 8.58288507  0.70410526]\n",
      " [ 9.03700626  0.70410526]\n",
      " [ 9.49112744  0.70410526]\n",
      " [ 9.94524863  0.70410526]\n",
      " [10.39936982  0.70410526]\n",
      " [10.85349101  0.70410526]\n",
      " [11.3076122   0.70410526]\n",
      " [11.76173339  0.70410526]\n",
      " [12.21585457  0.70410526]\n",
      " [12.66997576  0.70410526]\n",
      " [13.12409695  0.70410526]\n",
      " [13.57821814  0.70410526]\n",
      " [14.03233933  0.70410526]\n",
      " [14.48646052  0.70410526]\n",
      " [14.9405817   0.70410526]\n",
      " [ 6.31227913  0.75218421]\n",
      " [ 6.76640031  0.75218421]\n",
      " [ 7.2205215   0.75218421]\n",
      " [ 7.67464269  0.75218421]\n",
      " [ 8.12876388  0.75218421]\n",
      " [ 8.58288507  0.75218421]\n",
      " [ 9.03700626  0.75218421]\n",
      " [ 9.49112744  0.75218421]\n",
      " [ 9.94524863  0.75218421]\n",
      " [10.39936982  0.75218421]\n",
      " [10.85349101  0.75218421]\n",
      " [11.3076122   0.75218421]\n",
      " [11.76173339  0.75218421]\n",
      " [12.21585457  0.75218421]\n",
      " [12.66997576  0.75218421]\n",
      " [13.12409695  0.75218421]\n",
      " [13.57821814  0.75218421]\n",
      " [14.03233933  0.75218421]\n",
      " [14.48646052  0.75218421]\n",
      " [14.9405817   0.75218421]\n",
      " [ 6.31227913  0.80026316]\n",
      " [ 6.76640031  0.80026316]\n",
      " [ 7.2205215   0.80026316]\n",
      " [ 7.67464269  0.80026316]\n",
      " [ 8.12876388  0.80026316]\n",
      " [ 8.58288507  0.80026316]\n",
      " [ 9.03700626  0.80026316]\n",
      " [ 9.49112744  0.80026316]\n",
      " [ 9.94524863  0.80026316]\n",
      " [10.39936982  0.80026316]\n",
      " [10.85349101  0.80026316]\n",
      " [11.3076122   0.80026316]\n",
      " [11.76173339  0.80026316]\n",
      " [12.21585457  0.80026316]\n",
      " [12.66997576  0.80026316]\n",
      " [13.12409695  0.80026316]\n",
      " [13.57821814  0.80026316]\n",
      " [14.03233933  0.80026316]\n",
      " [14.48646052  0.80026316]\n",
      " [14.9405817   0.80026316]\n",
      " [ 6.31227913  0.84834211]\n",
      " [ 6.76640031  0.84834211]\n",
      " [ 7.2205215   0.84834211]\n",
      " [ 7.67464269  0.84834211]\n",
      " [ 8.12876388  0.84834211]\n",
      " [ 8.58288507  0.84834211]\n",
      " [ 9.03700626  0.84834211]\n",
      " [ 9.49112744  0.84834211]\n",
      " [ 9.94524863  0.84834211]\n",
      " [10.39936982  0.84834211]\n",
      " [10.85349101  0.84834211]\n",
      " [11.3076122   0.84834211]\n",
      " [11.76173339  0.84834211]\n",
      " [12.21585457  0.84834211]\n",
      " [12.66997576  0.84834211]\n",
      " [13.12409695  0.84834211]\n",
      " [13.57821814  0.84834211]\n",
      " [14.03233933  0.84834211]\n",
      " [14.48646052  0.84834211]\n",
      " [14.9405817   0.84834211]\n",
      " [ 6.31227913  0.89642105]\n",
      " [ 6.76640031  0.89642105]\n",
      " [ 7.2205215   0.89642105]\n",
      " [ 7.67464269  0.89642105]\n",
      " [ 8.12876388  0.89642105]\n",
      " [ 8.58288507  0.89642105]\n",
      " [ 9.03700626  0.89642105]\n",
      " [ 9.49112744  0.89642105]\n",
      " [ 9.94524863  0.89642105]\n",
      " [10.39936982  0.89642105]\n",
      " [10.85349101  0.89642105]\n",
      " [11.3076122   0.89642105]\n",
      " [11.76173339  0.89642105]\n",
      " [12.21585457  0.89642105]\n",
      " [12.66997576  0.89642105]\n",
      " [13.12409695  0.89642105]\n",
      " [13.57821814  0.89642105]\n",
      " [14.03233933  0.89642105]\n",
      " [14.48646052  0.89642105]\n",
      " [14.9405817   0.89642105]\n",
      " [ 6.31227913  0.9445    ]\n",
      " [ 6.76640031  0.9445    ]\n",
      " [ 7.2205215   0.9445    ]\n",
      " [ 7.67464269  0.9445    ]\n",
      " [ 8.12876388  0.9445    ]\n",
      " [ 8.58288507  0.9445    ]\n",
      " [ 9.03700626  0.9445    ]\n",
      " [ 9.49112744  0.9445    ]\n",
      " [ 9.94524863  0.9445    ]\n",
      " [10.39936982  0.9445    ]\n",
      " [10.85349101  0.9445    ]\n",
      " [11.3076122   0.9445    ]\n",
      " [11.76173339  0.9445    ]\n",
      " [12.21585457  0.9445    ]\n",
      " [12.66997576  0.9445    ]\n",
      " [13.12409695  0.9445    ]\n",
      " [13.57821814  0.9445    ]\n",
      " [14.03233933  0.9445    ]\n",
      " [14.48646052  0.9445    ]\n",
      " [14.9405817   0.9445    ]]\n",
      "[[ 6.79045042]\n",
      " [ 6.99392021]\n",
      " [ 7.19739   ]\n",
      " [ 7.4008598 ]\n",
      " [ 7.60432959]\n",
      " [ 7.80779938]\n",
      " [ 8.01126917]\n",
      " [ 8.21473896]\n",
      " [ 8.41820876]\n",
      " [ 8.62167855]\n",
      " [ 8.82514834]\n",
      " [ 9.02861813]\n",
      " [ 9.23208793]\n",
      " [ 9.43555772]\n",
      " [ 9.63902751]\n",
      " [ 9.8424973 ]\n",
      " [10.04596709]\n",
      " [10.24943689]\n",
      " [10.45290668]\n",
      " [10.65637647]\n",
      " [ 6.82500445]\n",
      " [ 7.02847424]\n",
      " [ 7.23194403]\n",
      " [ 7.43541382]\n",
      " [ 7.63888362]\n",
      " [ 7.84235341]\n",
      " [ 8.0458232 ]\n",
      " [ 8.24929299]\n",
      " [ 8.45276278]\n",
      " [ 8.65623258]\n",
      " [ 8.85970237]\n",
      " [ 9.06317216]\n",
      " [ 9.26664195]\n",
      " [ 9.47011174]\n",
      " [ 9.67358154]\n",
      " [ 9.87705133]\n",
      " [10.08052112]\n",
      " [10.28399091]\n",
      " [10.4874607 ]\n",
      " [10.6909305 ]\n",
      " [ 6.85955847]\n",
      " [ 7.06302827]\n",
      " [ 7.26649806]\n",
      " [ 7.46996785]\n",
      " [ 7.67343764]\n",
      " [ 7.87690743]\n",
      " [ 8.08037723]\n",
      " [ 8.28384702]\n",
      " [ 8.48731681]\n",
      " [ 8.6907866 ]\n",
      " [ 8.8942564 ]\n",
      " [ 9.09772619]\n",
      " [ 9.30119598]\n",
      " [ 9.50466577]\n",
      " [ 9.70813556]\n",
      " [ 9.91160536]\n",
      " [10.11507515]\n",
      " [10.31854494]\n",
      " [10.52201473]\n",
      " [10.72548452]\n",
      " [ 6.8941125 ]\n",
      " [ 7.09758229]\n",
      " [ 7.30105209]\n",
      " [ 7.50452188]\n",
      " [ 7.70799167]\n",
      " [ 7.91146146]\n",
      " [ 8.11493125]\n",
      " [ 8.31840105]\n",
      " [ 8.52187084]\n",
      " [ 8.72534063]\n",
      " [ 8.92881042]\n",
      " [ 9.13228021]\n",
      " [ 9.33575001]\n",
      " [ 9.5392198 ]\n",
      " [ 9.74268959]\n",
      " [ 9.94615938]\n",
      " [10.14962917]\n",
      " [10.35309897]\n",
      " [10.55656876]\n",
      " [10.76003855]\n",
      " [ 6.92866653]\n",
      " [ 7.13213632]\n",
      " [ 7.33560611]\n",
      " [ 7.5390759 ]\n",
      " [ 7.7425457 ]\n",
      " [ 7.94601549]\n",
      " [ 8.14948528]\n",
      " [ 8.35295507]\n",
      " [ 8.55642486]\n",
      " [ 8.75989466]\n",
      " [ 8.96336445]\n",
      " [ 9.16683424]\n",
      " [ 9.37030403]\n",
      " [ 9.57377383]\n",
      " [ 9.77724362]\n",
      " [ 9.98071341]\n",
      " [10.1841832 ]\n",
      " [10.38765299]\n",
      " [10.59112279]\n",
      " [10.79459258]\n",
      " [ 6.96322055]\n",
      " [ 7.16669035]\n",
      " [ 7.37016014]\n",
      " [ 7.57362993]\n",
      " [ 7.77709972]\n",
      " [ 7.98056952]\n",
      " [ 8.18403931]\n",
      " [ 8.3875091 ]\n",
      " [ 8.59097889]\n",
      " [ 8.79444868]\n",
      " [ 8.99791848]\n",
      " [ 9.20138827]\n",
      " [ 9.40485806]\n",
      " [ 9.60832785]\n",
      " [ 9.81179764]\n",
      " [10.01526744]\n",
      " [10.21873723]\n",
      " [10.42220702]\n",
      " [10.62567681]\n",
      " [10.8291466 ]\n",
      " [ 6.99777458]\n",
      " [ 7.20124437]\n",
      " [ 7.40471417]\n",
      " [ 7.60818396]\n",
      " [ 7.81165375]\n",
      " [ 8.01512354]\n",
      " [ 8.21859333]\n",
      " [ 8.42206313]\n",
      " [ 8.62553292]\n",
      " [ 8.82900271]\n",
      " [ 9.0324725 ]\n",
      " [ 9.2359423 ]\n",
      " [ 9.43941209]\n",
      " [ 9.64288188]\n",
      " [ 9.84635167]\n",
      " [10.04982146]\n",
      " [10.25329126]\n",
      " [10.45676105]\n",
      " [10.66023084]\n",
      " [10.86370063]\n",
      " [ 7.03232861]\n",
      " [ 7.2357984 ]\n",
      " [ 7.43926819]\n",
      " [ 7.64273799]\n",
      " [ 7.84620778]\n",
      " [ 8.04967757]\n",
      " [ 8.25314736]\n",
      " [ 8.45661715]\n",
      " [ 8.66008695]\n",
      " [ 8.86355674]\n",
      " [ 9.06702653]\n",
      " [ 9.27049632]\n",
      " [ 9.47396611]\n",
      " [ 9.67743591]\n",
      " [ 9.8809057 ]\n",
      " [10.08437549]\n",
      " [10.28784528]\n",
      " [10.49131507]\n",
      " [10.69478487]\n",
      " [10.89825466]\n",
      " [ 7.06688264]\n",
      " [ 7.27035243]\n",
      " [ 7.47382222]\n",
      " [ 7.67729201]\n",
      " [ 7.8807618 ]\n",
      " [ 8.0842316 ]\n",
      " [ 8.28770139]\n",
      " [ 8.49117118]\n",
      " [ 8.69464097]\n",
      " [ 8.89811076]\n",
      " [ 9.10158056]\n",
      " [ 9.30505035]\n",
      " [ 9.50852014]\n",
      " [ 9.71198993]\n",
      " [ 9.91545973]\n",
      " [10.11892952]\n",
      " [10.32239931]\n",
      " [10.5258691 ]\n",
      " [10.72933889]\n",
      " [10.93280869]\n",
      " [ 7.10143666]\n",
      " [ 7.30490646]\n",
      " [ 7.50837625]\n",
      " [ 7.71184604]\n",
      " [ 7.91531583]\n",
      " [ 8.11878562]\n",
      " [ 8.32225542]\n",
      " [ 8.52572521]\n",
      " [ 8.729195  ]\n",
      " [ 8.93266479]\n",
      " [ 9.13613458]\n",
      " [ 9.33960438]\n",
      " [ 9.54307417]\n",
      " [ 9.74654396]\n",
      " [ 9.95001375]\n",
      " [10.15348354]\n",
      " [10.35695334]\n",
      " [10.56042313]\n",
      " [10.76389292]\n",
      " [10.96736271]\n",
      " [ 7.13599069]\n",
      " [ 7.33946048]\n",
      " [ 7.54293027]\n",
      " [ 7.74640007]\n",
      " [ 7.94986986]\n",
      " [ 8.15333965]\n",
      " [ 8.35680944]\n",
      " [ 8.56027923]\n",
      " [ 8.76374903]\n",
      " [ 8.96721882]\n",
      " [ 9.17068861]\n",
      " [ 9.3741584 ]\n",
      " [ 9.5776282 ]\n",
      " [ 9.78109799]\n",
      " [ 9.98456778]\n",
      " [10.18803757]\n",
      " [10.39150736]\n",
      " [10.59497716]\n",
      " [10.79844695]\n",
      " [11.00191674]\n",
      " [ 7.17054472]\n",
      " [ 7.37401451]\n",
      " [ 7.5774843 ]\n",
      " [ 7.78095409]\n",
      " [ 7.98442389]\n",
      " [ 8.18789368]\n",
      " [ 8.39136347]\n",
      " [ 8.59483326]\n",
      " [ 8.79830305]\n",
      " [ 9.00177285]\n",
      " [ 9.20524264]\n",
      " [ 9.40871243]\n",
      " [ 9.61218222]\n",
      " [ 9.81565201]\n",
      " [10.01912181]\n",
      " [10.2225916 ]\n",
      " [10.42606139]\n",
      " [10.62953118]\n",
      " [10.83300097]\n",
      " [11.03647077]\n",
      " [ 7.20509874]\n",
      " [ 7.40856854]\n",
      " [ 7.61203833]\n",
      " [ 7.81550812]\n",
      " [ 8.01897791]\n",
      " [ 8.2224477 ]\n",
      " [ 8.4259175 ]\n",
      " [ 8.62938729]\n",
      " [ 8.83285708]\n",
      " [ 9.03632687]\n",
      " [ 9.23979666]\n",
      " [ 9.44326646]\n",
      " [ 9.64673625]\n",
      " [ 9.85020604]\n",
      " [10.05367583]\n",
      " [10.25714563]\n",
      " [10.46061542]\n",
      " [10.66408521]\n",
      " [10.867555  ]\n",
      " [11.07102479]\n",
      " [ 7.23965277]\n",
      " [ 7.44312256]\n",
      " [ 7.64659236]\n",
      " [ 7.85006215]\n",
      " [ 8.05353194]\n",
      " [ 8.25700173]\n",
      " [ 8.46047152]\n",
      " [ 8.66394132]\n",
      " [ 8.86741111]\n",
      " [ 9.0708809 ]\n",
      " [ 9.27435069]\n",
      " [ 9.47782048]\n",
      " [ 9.68129028]\n",
      " [ 9.88476007]\n",
      " [10.08822986]\n",
      " [10.29169965]\n",
      " [10.49516944]\n",
      " [10.69863924]\n",
      " [10.90210903]\n",
      " [11.10557882]\n",
      " [ 7.2742068 ]\n",
      " [ 7.47767659]\n",
      " [ 7.68114638]\n",
      " [ 7.88461617]\n",
      " [ 8.08808597]\n",
      " [ 8.29155576]\n",
      " [ 8.49502555]\n",
      " [ 8.69849534]\n",
      " [ 8.90196513]\n",
      " [ 9.10543493]\n",
      " [ 9.30890472]\n",
      " [ 9.51237451]\n",
      " [ 9.7158443 ]\n",
      " [ 9.9193141 ]\n",
      " [10.12278389]\n",
      " [10.32625368]\n",
      " [10.52972347]\n",
      " [10.73319326]\n",
      " [10.93666306]\n",
      " [11.14013285]\n",
      " [ 7.30876082]\n",
      " [ 7.51223062]\n",
      " [ 7.71570041]\n",
      " [ 7.9191702 ]\n",
      " [ 8.12263999]\n",
      " [ 8.32610979]\n",
      " [ 8.52957958]\n",
      " [ 8.73304937]\n",
      " [ 8.93651916]\n",
      " [ 9.13998895]\n",
      " [ 9.34345875]\n",
      " [ 9.54692854]\n",
      " [ 9.75039833]\n",
      " [ 9.95386812]\n",
      " [10.15733791]\n",
      " [10.36080771]\n",
      " [10.5642775 ]\n",
      " [10.76774729]\n",
      " [10.97121708]\n",
      " [11.17468687]\n",
      " [ 7.34331485]\n",
      " [ 7.54678464]\n",
      " [ 7.75025444]\n",
      " [ 7.95372423]\n",
      " [ 8.15719402]\n",
      " [ 8.36066381]\n",
      " [ 8.5641336 ]\n",
      " [ 8.7676034 ]\n",
      " [ 8.97107319]\n",
      " [ 9.17454298]\n",
      " [ 9.37801277]\n",
      " [ 9.58148257]\n",
      " [ 9.78495236]\n",
      " [ 9.98842215]\n",
      " [10.19189194]\n",
      " [10.39536173]\n",
      " [10.59883153]\n",
      " [10.80230132]\n",
      " [11.00577111]\n",
      " [11.2092409 ]\n",
      " [ 7.37786888]\n",
      " [ 7.58133867]\n",
      " [ 7.78480846]\n",
      " [ 7.98827826]\n",
      " [ 8.19174805]\n",
      " [ 8.39521784]\n",
      " [ 8.59868763]\n",
      " [ 8.80215742]\n",
      " [ 9.00562722]\n",
      " [ 9.20909701]\n",
      " [ 9.4125668 ]\n",
      " [ 9.61603659]\n",
      " [ 9.81950638]\n",
      " [10.02297618]\n",
      " [10.22644597]\n",
      " [10.42991576]\n",
      " [10.63338555]\n",
      " [10.83685534]\n",
      " [11.04032514]\n",
      " [11.24379493]\n",
      " [ 7.41242291]\n",
      " [ 7.6158927 ]\n",
      " [ 7.81936249]\n",
      " [ 8.02283228]\n",
      " [ 8.22630207]\n",
      " [ 8.42977187]\n",
      " [ 8.63324166]\n",
      " [ 8.83671145]\n",
      " [ 9.04018124]\n",
      " [ 9.24365103]\n",
      " [ 9.44712083]\n",
      " [ 9.65059062]\n",
      " [ 9.85406041]\n",
      " [10.0575302 ]\n",
      " [10.261     ]\n",
      " [10.46446979]\n",
      " [10.66793958]\n",
      " [10.87140937]\n",
      " [11.07487916]\n",
      " [11.27834896]\n",
      " [ 7.44697693]\n",
      " [ 7.65044672]\n",
      " [ 7.85391652]\n",
      " [ 8.05738631]\n",
      " [ 8.2608561 ]\n",
      " [ 8.46432589]\n",
      " [ 8.66779569]\n",
      " [ 8.87126548]\n",
      " [ 9.07473527]\n",
      " [ 9.27820506]\n",
      " [ 9.48167485]\n",
      " [ 9.68514465]\n",
      " [ 9.88861444]\n",
      " [10.09208423]\n",
      " [10.29555402]\n",
      " [10.49902381]\n",
      " [10.70249361]\n",
      " [10.9059634 ]\n",
      " [11.10943319]\n",
      " [11.31290298]]\n"
     ]
    },
    {
     "data": {
      "image/png": "[encoded data removed]",
      "text/plain": [
       "<matplotlib.figure.Figure at 0x7fc500975d30>"
      ]
     },
     "metadata": {},
     "output_type": "display_data"
    }
   ],
   "source": [
    "from mpl_toolkits.mplot3d import Axes3D\n",
    "fig = plt.figure()\n",
    "ax = fig.gca(projection='3d')\n",
    "\n",
    "x_test_1 = np.linspace(np.min(X[:,0]),np.max(X[:,0]),20)\n",
    "x_test_2 = np.linspace(np.min(X[:,1]),np.max(X[:,1]),20)\n",
    "print(x_test_1)\n",
    "x_grid_1,x_grid_2= np.meshgrid(x_test_1,x_test_2)\n",
    "print(x_grid_1)\n",
    "X_test   = np.column_stack((x_grid_1.reshape(-1,1),\n",
    "                                   x_grid_2.reshape(-1,1)))\n",
    "print(X_test)\n",
    "y_hat  = linreg_12.predict(X_test)\n",
    "print(y_hat)\n",
    "y_hat_grid = np.reshape(y_hat,[20,20])\n",
    "\n",
    "ax.plot_surface(x_grid_1, x_grid_2, y_hat_grid,alpha = 0.2)\n",
    "ax.scatter(X[:,0], X[:,1], y, c='r');\n",
    "ax.set_xlabel('Genome length');\n",
    "ax.set_ylabel('% coding genome');\n",
    "ax.set_zlabel('PCG');"
   ]
  },
  {
   "cell_type": "markdown",
   "metadata": {},
   "source": [
    "## D. Multiple linear regression with interaction"
   ]
  },
  {
   "cell_type": "markdown",
   "metadata": {},
   "source": [
    "Let's work with a more difficult part of the dataset: **Mitochondrial DNA**.\n",
    "Try to apply the simple regression model of part B to the two features. What do you notice?"
   ]
  },
  {
   "cell_type": "code",
   "execution_count": 17,
   "metadata": {
    "collapsed": false
   },
   "outputs": [
    {
     "data": {
      "text/plain": [
       "<matplotlib.collections.PathCollection at 0x7fc5009d7ef0>"
      ]
     },
     "execution_count": 17,
     "metadata": {},
     "output_type": "execute_result"
    },
    {
     "data": {
      "image/png": "[encoded data removed]",
      "text/plain": [
       "<matplotlib.figure.Figure at 0x7fc4ff2d9518>"
      ]
     },
     "metadata": {},
     "output_type": "display_data"
    }
   ],
   "source": [
    "X = df[df['Domain']=='Mitochondria'][['GenomeLength','CodingPercentage']].as_matrix()\n",
    "y = df[df['Domain']=='Mitochondria'][['ProteinCodingGenes']].as_matrix()\n",
    "X[:,[1]] = X[:,[1]]/100\n",
    "X[:,[0]] = np.log(X[:,[0]])\n",
    "y = np.log(y)\n",
    "\n",
    "fig, axs = plt.subplots(1, 2, sharey=True,figsize=(7.5,3))\n",
    "axs[0].scatter(X[:,0], y)\n",
    "axs[1].scatter(X[:,1], y)"
   ]
  },
  {
   "cell_type": "markdown",
   "metadata": {},
   "source": [
    "Is there a better explanatory feature than the two we have worked with so far? Provided the genes are all about of the same length, the length of the genome multiplied by the percentage of coding genome should give us a better estimate of how many coding genes there are. We will thus try to use an interaction term that relates the two variables.\n",
    "\n",
    "Define again the matrix and the vector, and add to the matrix a new column given by the product of the two features. Linear regression for genome length and percentage of coding genome spendings with additional interaction term. Plot this new interaction feature against the output and make a simple regression model. Is it any better?"
   ]
  },
  {
   "cell_type": "code",
   "execution_count": 18,
   "metadata": {
    "collapsed": false
   },
   "outputs": [
    {
     "name": "stdout",
     "output_type": "stream",
     "text": [
      "[2.81540872 0.68       2.42974624]\n"
     ]
    },
    {
     "data": {
      "text/plain": [
       "<matplotlib.collections.PathCollection at 0x7fc501253a90>"
      ]
     },
     "execution_count": 18,
     "metadata": {},
     "output_type": "execute_result"
    },
    {
     "data": {
      "image/png": "[encoded data removed]",
      "text/plain": [
       "<matplotlib.figure.Figure at 0x7fc501174860>"
      ]
     },
     "metadata": {},
     "output_type": "display_data"
    }
   ],
   "source": [
    "X = df[df['Domain']=='Mitochondria'][['GenomeLength','CodingPercentage']].as_matrix()\n",
    "y = df[df['Domain']=='Mitochondria'][['ProteinCodingGenes']].as_matrix()\n",
    "X[:,[1]] = X[:,[1]]/100\n",
    "x_int = np.log(X[:,[0]]*X[:,[1]])\n",
    "X[:,[0]] = np.log(X[:,[0]])\n",
    "y = np.log(y)\n",
    "X_int = np.column_stack((X[:,0:2],x_int))\n",
    "print(X_int[1,:])\n",
    "\n",
    "plt.scatter(X_int[:,2], y)"
   ]
  },
  {
   "cell_type": "markdown",
   "metadata": {},
   "source": [
    "Obtain linear regression coefficients and evaluate model adequacy indicators"
   ]
  },
  {
   "cell_type": "code",
   "execution_count": 19,
   "metadata": {
    "collapsed": false,
    "scrolled": true
   },
   "outputs": [
    {
     "name": "stdout",
     "output_type": "stream",
     "text": [
      "beta_0 = 0.7880345166915563, beta_1 beta_2 beta_12 = [[0.74823529]]\n",
      "MSE =  0.04739216640636496\n",
      "RMSE =  0.21769741938379739\n",
      "R^2 =  0.7046223948025296\n"
     ]
    },
    {
     "data": {
      "image/png": "[encoded data removed]",
      "text/plain": [
       "<matplotlib.figure.Figure at 0x7fc501275080>"
      ]
     },
     "metadata": {},
     "output_type": "display_data"
    }
   ],
   "source": [
    "linreg_int = lm.LinearRegression()\n",
    "linreg_int.fit(x_int, y)\n",
    "print('beta_0 = {}, beta_1 beta_2 beta_12 = {}'.format(\n",
    "                     linreg_int.intercept_[0],linreg_int.coef_))\n",
    "MSE_int = met.mean_squared_error(y, linreg_int.predict(x_int))\n",
    "RMSE_int= np.sqrt(MSE_int)\n",
    "R_2_int =  met.r2_score(y, linreg_int.predict(x_int))\n",
    "print('MSE = ',MSE_int)\n",
    "print('RMSE = ',RMSE_int)\n",
    "print('R^2 = ',R_2_int)\n",
    "x_test = np.linspace(np.min(X_int[:,2]),np.max(X_int[:,2]),20)\n",
    "y_hat  = linreg_int.predict(x_test.reshape(-1,1))\n",
    "plt.plot(x_test,y_hat,c='r');\n",
    "plt.scatter(X_int[:,2],y);\n",
    "plt.xlabel('Genome length');\n",
    "plt.ylabel('PCG');"
   ]
  },
  {
   "cell_type": "markdown",
   "metadata": {
    "collapsed": true
   },
   "source": [
    "Do a residual/leverage analysis to check if there are outliers and outliers with high leverage. To obtain the leverage scores you will need to evaluate a matrix inverse and to retrieve the diagonal el- ements of a matrix, these operations can be done with the numpy commands linalg.inv and diag respectively."
   ]
  },
  {
   "cell_type": "code",
   "execution_count": 20,
   "metadata": {
    "collapsed": false
   },
   "outputs": [
    {
     "data": {
      "image/png": "[encoded data removed]",
      "text/plain": [
       "<matplotlib.figure.Figure at 0x7fc5009a0d30>"
      ]
     },
     "metadata": {},
     "output_type": "display_data"
    }
   ],
   "source": [
    "#x_int  = np.multiply(X[:,0],X[:,1])\n",
    "#X_int = np.column_stack((X[:,0:2],x_int))\n",
    "X = df[df['Domain']=='Mitochondria'][['GenomeLength','CodingPercentage']].as_matrix()\n",
    "y = df[df['Domain']=='Mitochondria'][['ProteinCodingGenes']].as_matrix()\n",
    "X[:,[1]] = X[:,[1]]/100\n",
    "x_int = np.log(X[:,[0]]*X[:,[1]])\n",
    "X[:,[0]] = np.log(X[:,[0]])\n",
    "y = np.log(y)\n",
    "X_int = np.column_stack((X[:,0:2],x_int))\n",
    "\n",
    "linreg_int = lm.LinearRegression()\n",
    "linreg_int.fit(x_int, y)\n",
    "h = np.diag(np.dot(X_int,np.dot(np.linalg.inv(\n",
    "                               np.dot(X_int.T,X_int)),X_int.T)))\n",
    "\n",
    "residuals = np.divide(np.ravel(y)-\n",
    "      np.ravel(linreg_int.predict(x_int.reshape(-1,1))),RMSE_int*np.sqrt(1-h))\n",
    "plt.scatter(h,residuals);\n",
    "plt.xlabel('h');\n",
    "plt.ylabel('Residuals');"
   ]
  },
  {
   "cell_type": "markdown",
   "metadata": {},
   "source": [
    "Make a multivariate analysis like you did in Section C, but this time add to the feacture matrix a column containing the interaction term you calculated in this section. How does the fit look?"
   ]
  },
  {
   "cell_type": "code",
   "execution_count": 22,
   "metadata": {
    "collapsed": false
   },
   "outputs": [
    {
     "name": "stdout",
     "output_type": "stream",
     "text": [
      "(400, 1) (400, 2)\n"
     ]
    },
    {
     "data": {
      "image/png": "[encoded data removed]",
      "text/plain": [
       "<matplotlib.figure.Figure at 0x7fc5017a23c8>"
      ]
     },
     "metadata": {},
     "output_type": "display_data"
    }
   ],
   "source": [
    "fig = plt.figure()\n",
    "ax = fig.gca(projection='3d')\n",
    "\n",
    "x_test_1 = np.linspace(np.min(X[:,0]),np.max(X[:,0]),20)\n",
    "x_test_2 = np.linspace(np.min(X[:,1]),np.max(X[:,1]),20)\n",
    "x_grid_1,x_grid_2= np.meshgrid(x_test_1,x_test_2)\n",
    "X_test   = np.column_stack((x_grid_1.reshape(-1,1),\n",
    "                                 x_grid_2.reshape(-1,1)))\n",
    "x_int = np.log(X_test[:,[0]]*X_test[:,[1]])\n",
    "#x_int  = np.multiply(X_test[:,0],X_test[:,1])\n",
    "print(x_int.shape, X_test.shape)\n",
    "X_test = np.column_stack((X_test,x_int))\n",
    "\n",
    "linreg_int = lm.LinearRegression()\n",
    "linreg_int.fit(X_int, y)\n",
    "y_hat  = linreg_int.predict(X_test)\n",
    "y_hat_grid = np.reshape(y_hat,[20,20])\n",
    "\n",
    "ax.plot_surface(x_grid_1, x_grid_2, y_hat_grid,alpha = 0.2)\n",
    "ax.scatter(X[:,0], X[:,1], y, c='r');\n",
    "ax.set_xlabel('TV');\n",
    "ax.set_ylabel('Radio');\n",
    "ax.set_zlabel('Sales');"
   ]
  },
  {
   "cell_type": "markdown",
   "metadata": {},
   "source": [
    "Confirm your analysis by repeating the residual/leverage analysis for the multivariate+interaction case"
   ]
  },
  {
   "cell_type": "code",
   "execution_count": 22,
   "metadata": {
    "collapsed": false
   },
   "outputs": [
    {
     "data": {
      "image/png": "[encoded data removed]",
      "text/plain": [
       "<matplotlib.figure.Figure at 0x7f91499da400>"
      ]
     },
     "metadata": {},
     "output_type": "display_data"
    }
   ],
   "source": [
    "x_int  = np.multiply(X[:,0],X[:,1])\n",
    "X_int = np.column_stack((X[:,0:2],x_int))\n",
    "h = np.diag(np.dot(X_int,np.dot(np.linalg.inv(\n",
    "                               np.dot(X_int.T,X_int)),X_int.T)))\n",
    "residuals = np.divide(np.ravel(y)-\n",
    "      np.ravel(linreg_int.predict(X_int)),RMSE_int*np.sqrt(1-h))\n",
    "plt.scatter(h,residuals);\n",
    "plt.xlabel('h');\n",
    "plt.ylabel('Residuals');"
   ]
  }
 ],
 "metadata": {
  "anaconda-cloud": {},
  "kernelspec": {
   "display_name": "Python 3",
   "language": "python",
   "name": "python3"
  },
  "language_info": {
   "codemirror_mode": {
    "name": "ipython",
    "version": 3
   },
   "file_extension": ".py",
   "mimetype": "text/x-python",
   "name": "python",
   "nbconvert_exporter": "python",
   "pygments_lexer": "ipython3",
   "version": "3.6.1"
  },
  "toc": {
   "colors": {
    "hover_highlight": "#DAA520",
    "running_highlight": "#FF0000",
    "selected_highlight": "#FFD700"
   },
   "moveMenuLeft": true,
   "nav_menu": {
    "height": "63px",
    "width": "252px"
   },
   "navigate_menu": true,
   "number_sections": true,
   "sideBar": true,
   "threshold": 4,
   "toc_cell": false,
   "toc_section_display": "block",
   "toc_window_display": false,
   "widenNotebook": false
  }
 },
 "nbformat": 4,
 "nbformat_minor": 1
}
