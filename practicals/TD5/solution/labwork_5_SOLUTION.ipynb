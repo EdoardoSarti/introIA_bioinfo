{
 "cells": [
  {
   "cell_type": "markdown",
   "metadata": {},
   "source": [
    "# First steps with the random forest in Scikit-Learn"
   ]
  },
  {
   "cell_type": "markdown",
   "metadata": {},
   "source": [
    "## 1. Classification with all the features of Iris dataset"
   ]
  },
  {
   "cell_type": "markdown",
   "metadata": {},
   "source": [
    "Import machine learning libraries"
   ]
  },
  {
   "cell_type": "code",
   "execution_count": 1,
   "metadata": {},
   "outputs": [],
   "source": [
    "%matplotlib inline\n",
    "from sklearn.datasets import load_iris\n",
    "from sklearn import tree\n",
    "from sklearn.model_selection import train_test_split\n",
    "from sklearn.metrics import accuracy_score"
   ]
  },
  {
   "cell_type": "markdown",
   "metadata": {},
   "source": [
    "Import the library to draw the decision tree"
   ]
  },
  {
   "cell_type": "markdown",
   "metadata": {},
   "source": [
    "### How to install \"graphviz\"?\n",
    "\n",
    "1- you must install the python package \"graphviz\" with the \"anaconda navigator\" interface or \"pip install\"\n",
    "\n",
    "2- you must verify that the graphviz binary package (not the python one) is also installed. The installation procedure is described on https://graphviz.org/download/"
   ]
  },
  {
   "cell_type": "code",
   "execution_count": 5,
   "metadata": {},
   "outputs": [
    {
     "name": "stdout",
     "output_type": "stream",
     "text": [
      "Collecting graphviz\n",
      "  Downloading graphviz-0.19-py3-none-any.whl (46 kB)\n",
      "\u001b[K     |████████████████████████████████| 46 kB 1.6 MB/s eta 0:00:01\n",
      "\u001b[?25hInstalling collected packages: graphviz\n",
      "Successfully installed graphviz-0.19\n",
      "Note: you may need to restart the kernel to use updated packages.\n"
     ]
    }
   ],
   "source": [
    "# To install the Python graphviz package, you may use \"pip\" as follows\n",
    "%pip install graphviz"
   ]
  },
  {
   "cell_type": "code",
   "execution_count": 6,
   "metadata": {},
   "outputs": [],
   "source": [
    "# install the package python-graphviz\n",
    "import graphviz "
   ]
  },
  {
   "cell_type": "markdown",
   "metadata": {},
   "source": [
    "Load the iris dataset"
   ]
  },
  {
   "cell_type": "code",
   "execution_count": 7,
   "metadata": {},
   "outputs": [],
   "source": [
    "iris = load_iris()\n",
    "\n",
    "X = iris.data # attributes\n",
    "y = iris.target # labels"
   ]
  },
  {
   "cell_type": "markdown",
   "metadata": {},
   "source": [
    "Print the feature names"
   ]
  },
  {
   "cell_type": "code",
   "execution_count": 8,
   "metadata": {},
   "outputs": [
    {
     "name": "stdout",
     "output_type": "stream",
     "text": [
      "['sepal length (cm)', 'sepal width (cm)', 'petal length (cm)', 'petal width (cm)']\n"
     ]
    }
   ],
   "source": [
    "print(iris.feature_names)"
   ]
  },
  {
   "cell_type": "markdown",
   "metadata": {},
   "source": [
    "Print the label names"
   ]
  },
  {
   "cell_type": "code",
   "execution_count": 9,
   "metadata": {},
   "outputs": [
    {
     "name": "stdout",
     "output_type": "stream",
     "text": [
      "['setosa' 'versicolor' 'virginica']\n"
     ]
    }
   ],
   "source": [
    "print(iris.target_names)"
   ]
  },
  {
   "cell_type": "markdown",
   "metadata": {},
   "source": [
    "Splitting into train and test sets"
   ]
  },
  {
   "cell_type": "markdown",
   "metadata": {},
   "source": [
    "**Question 1: what is the percentage of testing data? What is the interest of the seed?**"
   ]
  },
  {
   "cell_type": "markdown",
   "metadata": {},
   "source": [
    "Complete the sentence:\n",
    "The goal of the seed is to control how the split is done. For a given seed, you get the same split.\n",
    "\n",
    "The percentage of testing data is given by the argument \"test_size\"."
   ]
  },
  {
   "cell_type": "code",
   "execution_count": 10,
   "metadata": {},
   "outputs": [],
   "source": [
    "# Setting random seed\n",
    "seed = 100\n",
    "X_train, X_test, y_train, y_test = train_test_split(X, y, test_size = 0.34, random_state = seed )"
   ]
  },
  {
   "cell_type": "code",
   "execution_count": 11,
   "metadata": {},
   "outputs": [
    {
     "name": "stdout",
     "output_type": "stream",
     "text": [
      "(150, 4)\n",
      "(52, 4)\n",
      "51.00000000000001\n"
     ]
    }
   ],
   "source": [
    "import numpy as np\n",
    "print(np.shape(X))\n",
    "print(np.shape(X_test))\n",
    "print(150*0.34)"
   ]
  },
  {
   "cell_type": "markdown",
   "metadata": {},
   "source": [
    "Learn a decision tree with the iris dataset"
   ]
  },
  {
   "cell_type": "markdown",
   "metadata": {},
   "source": [
    "**Question 2: what is the meaning of \"min_samples_leaf\" in the following cell?**"
   ]
  },
  {
   "cell_type": "markdown",
   "metadata": {},
   "source": [
    "Complete the sentence:\n",
    "It corresponds to the minimum number of samples required to split an internal node."
   ]
  },
  {
   "cell_type": "code",
   "execution_count": 12,
   "metadata": {},
   "outputs": [
    {
     "name": "stdout",
     "output_type": "stream",
     "text": [
      "DecisionTreeClassifier()\n"
     ]
    }
   ],
   "source": [
    "clf = tree.DecisionTreeClassifier(min_samples_leaf=1)\n",
    "print(clf)"
   ]
  },
  {
   "cell_type": "markdown",
   "metadata": {},
   "source": [
    "**Question 3: Train the decision tree.**"
   ]
  },
  {
   "cell_type": "markdown",
   "metadata": {},
   "source": [
    "Training the decision tree"
   ]
  },
  {
   "cell_type": "code",
   "execution_count": 13,
   "metadata": {},
   "outputs": [
    {
     "data": {
      "text/plain": [
       "DecisionTreeClassifier()"
      ]
     },
     "execution_count": 13,
     "metadata": {},
     "output_type": "execute_result"
    }
   ],
   "source": [
    "clf.fit(X_train, y_train) # training the decision tree"
   ]
  },
  {
   "cell_type": "markdown",
   "metadata": {},
   "source": [
    "Export the tree into a pdf file"
   ]
  },
  {
   "cell_type": "code",
   "execution_count": 14,
   "metadata": {},
   "outputs": [
    {
     "data": {
      "text/plain": [
       "'iris.pdf'"
      ]
     },
     "execution_count": 14,
     "metadata": {},
     "output_type": "execute_result"
    }
   ],
   "source": [
    "dot_data = tree.export_graphviz(clf, out_file=None) \n",
    "graph = graphviz.Source(dot_data) \n",
    "graph.render(\"iris\")"
   ]
  },
  {
   "cell_type": "markdown",
   "metadata": {},
   "source": [
    "Draw the decision tree"
   ]
  },
  {
   "cell_type": "markdown",
   "metadata": {},
   "source": [
    "**Question 4: Explain the content presented in each note. What does it mean? what is the criterion used to split a node?**"
   ]
  },
  {
   "cell_type": "markdown",
   "metadata": {},
   "source": [
    "The splitting is based on the Gini index as explained in the lecture.\n",
    "At each node, we wee :\n",
    "\n",
    "    - the attribute that is used for the splitting\n",
    "    \n",
    "    - the value of the Gini index\n",
    "    \n",
    "    - the number of processed samples\n",
    "    \n",
    "    - the proportions of the classes\n",
    "    \n",
    "    - the class that is decided at this node\n",
    "    "
   ]
  },
  {
   "cell_type": "code",
   "execution_count": 15,
   "metadata": {},
   "outputs": [
    {
     "data": {
      "image/svg+xml": [
       "<?xml version=\"1.0\" encoding=\"UTF-8\" standalone=\"no\"?>\n",
       "<!DOCTYPE svg PUBLIC \"-//W3C//DTD SVG 1.1//EN\"\n",
       " \"http://www.w3.org/Graphics/SVG/1.1/DTD/svg11.dtd\">\n",
       "<!-- Generated by graphviz version 2.43.0 (0)\n",
       " -->\n",
       "<!-- Title: Tree Pages: 1 -->\n",
       "<svg width=\"624pt\" height=\"528pt\"\n",
       " viewBox=\"0.00 0.00 623.83 528.00\" xmlns=\"http://www.w3.org/2000/svg\" xmlns:xlink=\"http://www.w3.org/1999/xlink\">\n",
       "<g id=\"graph0\" class=\"graph\" transform=\"scale(1 1) rotate(0) translate(4 524)\">\n",
       "<title>Tree</title>\n",
       "<polygon fill=\"white\" stroke=\"transparent\" points=\"-4,4 -4,-524 619.83,-524 619.83,4 -4,4\"/>\n",
       "<!-- 0 -->\n",
       "<g id=\"node1\" class=\"node\">\n",
       "<title>0</title>\n",
       "<path fill=\"#edfdf4\" stroke=\"black\" d=\"M303.36,-520C303.36,-520 164.4,-520 164.4,-520 158.4,-520 152.4,-514 152.4,-508 152.4,-508 152.4,-454 152.4,-454 152.4,-448 158.4,-442 164.4,-442 164.4,-442 303.36,-442 303.36,-442 309.36,-442 315.36,-448 315.36,-454 315.36,-454 315.36,-508 315.36,-508 315.36,-514 309.36,-520 303.36,-520\"/>\n",
       "<text text-anchor=\"start\" x=\"160.39\" y=\"-504.8\" font-family=\"Helvetica,sans-Serif\" font-size=\"14.00\">petal length (cm) ≤ 2.45</text>\n",
       "<text text-anchor=\"start\" x=\"197.49\" y=\"-490.8\" font-family=\"Helvetica,sans-Serif\" font-size=\"14.00\">gini = 0.661</text>\n",
       "<text text-anchor=\"start\" x=\"192.05\" y=\"-476.8\" font-family=\"Helvetica,sans-Serif\" font-size=\"14.00\">samples = 98</text>\n",
       "<text text-anchor=\"start\" x=\"174.14\" y=\"-462.8\" font-family=\"Helvetica,sans-Serif\" font-size=\"14.00\">value = [28, 38, 32]</text>\n",
       "<text text-anchor=\"start\" x=\"180\" y=\"-448.8\" font-family=\"Helvetica,sans-Serif\" font-size=\"14.00\">class = versicolor</text>\n",
       "</g>\n",
       "<!-- 1 -->\n",
       "<g id=\"node2\" class=\"node\">\n",
       "<title>1</title>\n",
       "<path fill=\"#e58139\" stroke=\"black\" d=\"M203.78,-399C203.78,-399 107.97,-399 107.97,-399 101.97,-399 95.97,-393 95.97,-387 95.97,-387 95.97,-347 95.97,-347 95.97,-341 101.97,-335 107.97,-335 107.97,-335 203.78,-335 203.78,-335 209.78,-335 215.78,-341 215.78,-347 215.78,-347 215.78,-387 215.78,-387 215.78,-393 209.78,-399 203.78,-399\"/>\n",
       "<text text-anchor=\"start\" x=\"127.27\" y=\"-383.8\" font-family=\"Helvetica,sans-Serif\" font-size=\"14.00\">gini = 0.0</text>\n",
       "<text text-anchor=\"start\" x=\"114.05\" y=\"-369.8\" font-family=\"Helvetica,sans-Serif\" font-size=\"14.00\">samples = 28</text>\n",
       "<text text-anchor=\"start\" x=\"103.92\" y=\"-355.8\" font-family=\"Helvetica,sans-Serif\" font-size=\"14.00\">value = [28, 0, 0]</text>\n",
       "<text text-anchor=\"start\" x=\"111.33\" y=\"-341.8\" font-family=\"Helvetica,sans-Serif\" font-size=\"14.00\">class = setosa</text>\n",
       "</g>\n",
       "<!-- 0&#45;&gt;1 -->\n",
       "<g id=\"edge1\" class=\"edge\">\n",
       "<title>0&#45;&gt;1</title>\n",
       "<path fill=\"none\" stroke=\"black\" d=\"M207.25,-441.77C199.52,-430.66 191.05,-418.51 183.27,-407.33\"/>\n",
       "<polygon fill=\"black\" stroke=\"black\" points=\"186.06,-405.22 177.47,-399.01 180.32,-409.22 186.06,-405.22\"/>\n",
       "<text text-anchor=\"middle\" x=\"173.07\" y=\"-419.42\" font-family=\"Helvetica,sans-Serif\" font-size=\"14.00\">True</text>\n",
       "</g>\n",
       "<!-- 2 -->\n",
       "<g id=\"node3\" class=\"node\">\n",
       "<title>2</title>\n",
       "<path fill=\"#e0fbeb\" stroke=\"black\" d=\"M379.4,-406C379.4,-406 246.36,-406 246.36,-406 240.36,-406 234.36,-400 234.36,-394 234.36,-394 234.36,-340 234.36,-340 234.36,-334 240.36,-328 246.36,-328 246.36,-328 379.4,-328 379.4,-328 385.4,-328 391.4,-334 391.4,-340 391.4,-340 391.4,-394 391.4,-394 391.4,-400 385.4,-406 379.4,-406\"/>\n",
       "<text text-anchor=\"start\" x=\"242.12\" y=\"-390.8\" font-family=\"Helvetica,sans-Serif\" font-size=\"14.00\">petal width (cm) ≤ 1.65</text>\n",
       "<text text-anchor=\"start\" x=\"276.49\" y=\"-376.8\" font-family=\"Helvetica,sans-Serif\" font-size=\"14.00\">gini = 0.496</text>\n",
       "<text text-anchor=\"start\" x=\"271.05\" y=\"-362.8\" font-family=\"Helvetica,sans-Serif\" font-size=\"14.00\">samples = 70</text>\n",
       "<text text-anchor=\"start\" x=\"257.03\" y=\"-348.8\" font-family=\"Helvetica,sans-Serif\" font-size=\"14.00\">value = [0, 38, 32]</text>\n",
       "<text text-anchor=\"start\" x=\"259\" y=\"-334.8\" font-family=\"Helvetica,sans-Serif\" font-size=\"14.00\">class = versicolor</text>\n",
       "</g>\n",
       "<!-- 0&#45;&gt;2 -->\n",
       "<g id=\"edge2\" class=\"edge\">\n",
       "<title>0&#45;&gt;2</title>\n",
       "<path fill=\"none\" stroke=\"black\" d=\"M260.84,-441.77C267.07,-432.94 273.76,-423.45 280.21,-414.32\"/>\n",
       "<polygon fill=\"black\" stroke=\"black\" points=\"283.13,-416.25 286.03,-406.06 277.41,-412.21 283.13,-416.25\"/>\n",
       "<text text-anchor=\"middle\" x=\"290.29\" y=\"-426.49\" font-family=\"Helvetica,sans-Serif\" font-size=\"14.00\">False</text>\n",
       "</g>\n",
       "<!-- 3 -->\n",
       "<g id=\"node4\" class=\"node\">\n",
       "<title>3</title>\n",
       "<path fill=\"#49e78b\" stroke=\"black\" d=\"M290.57,-292C290.57,-292 159.18,-292 159.18,-292 153.18,-292 147.18,-286 147.18,-280 147.18,-280 147.18,-226 147.18,-226 147.18,-220 153.18,-214 159.18,-214 159.18,-214 290.57,-214 290.57,-214 296.57,-214 302.57,-220 302.57,-226 302.57,-226 302.57,-280 302.57,-280 302.57,-286 296.57,-292 290.57,-292\"/>\n",
       "<text text-anchor=\"start\" x=\"155.28\" y=\"-276.8\" font-family=\"Helvetica,sans-Serif\" font-size=\"14.00\">petal length (cm) ≤ 5.0</text>\n",
       "<text text-anchor=\"start\" x=\"188.49\" y=\"-262.8\" font-family=\"Helvetica,sans-Serif\" font-size=\"14.00\">gini = 0.139</text>\n",
       "<text text-anchor=\"start\" x=\"183.05\" y=\"-248.8\" font-family=\"Helvetica,sans-Serif\" font-size=\"14.00\">samples = 40</text>\n",
       "<text text-anchor=\"start\" x=\"172.92\" y=\"-234.8\" font-family=\"Helvetica,sans-Serif\" font-size=\"14.00\">value = [0, 37, 3]</text>\n",
       "<text text-anchor=\"start\" x=\"171\" y=\"-220.8\" font-family=\"Helvetica,sans-Serif\" font-size=\"14.00\">class = versicolor</text>\n",
       "</g>\n",
       "<!-- 2&#45;&gt;3 -->\n",
       "<g id=\"edge3\" class=\"edge\">\n",
       "<title>2&#45;&gt;3</title>\n",
       "<path fill=\"none\" stroke=\"black\" d=\"M282.84,-327.77C275.83,-318.85 268.29,-309.26 261.05,-300.04\"/>\n",
       "<polygon fill=\"black\" stroke=\"black\" points=\"263.71,-297.76 254.78,-292.06 258.21,-302.08 263.71,-297.76\"/>\n",
       "</g>\n",
       "<!-- 8 -->\n",
       "<g id=\"node9\" class=\"node\">\n",
       "<title>8</title>\n",
       "<path fill=\"#8540e6\" stroke=\"black\" d=\"M471.36,-292C471.36,-292 332.4,-292 332.4,-292 326.4,-292 320.4,-286 320.4,-280 320.4,-280 320.4,-226 320.4,-226 320.4,-220 326.4,-214 332.4,-214 332.4,-214 471.36,-214 471.36,-214 477.36,-214 483.36,-220 483.36,-226 483.36,-226 483.36,-280 483.36,-280 483.36,-286 477.36,-292 471.36,-292\"/>\n",
       "<text text-anchor=\"start\" x=\"328.39\" y=\"-276.8\" font-family=\"Helvetica,sans-Serif\" font-size=\"14.00\">petal length (cm) ≤ 4.85</text>\n",
       "<text text-anchor=\"start\" x=\"365.49\" y=\"-262.8\" font-family=\"Helvetica,sans-Serif\" font-size=\"14.00\">gini = 0.064</text>\n",
       "<text text-anchor=\"start\" x=\"360.05\" y=\"-248.8\" font-family=\"Helvetica,sans-Serif\" font-size=\"14.00\">samples = 30</text>\n",
       "<text text-anchor=\"start\" x=\"349.92\" y=\"-234.8\" font-family=\"Helvetica,sans-Serif\" font-size=\"14.00\">value = [0, 1, 29]</text>\n",
       "<text text-anchor=\"start\" x=\"352.28\" y=\"-220.8\" font-family=\"Helvetica,sans-Serif\" font-size=\"14.00\">class = virginica</text>\n",
       "</g>\n",
       "<!-- 2&#45;&gt;8 -->\n",
       "<g id=\"edge8\" class=\"edge\">\n",
       "<title>2&#45;&gt;8</title>\n",
       "<path fill=\"none\" stroke=\"black\" d=\"M343.26,-327.77C350.35,-318.85 357.97,-309.26 365.29,-300.04\"/>\n",
       "<polygon fill=\"black\" stroke=\"black\" points=\"368.15,-302.07 371.63,-292.06 362.67,-297.71 368.15,-302.07\"/>\n",
       "</g>\n",
       "<!-- 4 -->\n",
       "<g id=\"node5\" class=\"node\">\n",
       "<title>4</title>\n",
       "<path fill=\"#39e581\" stroke=\"black\" d=\"M111.63,-171C111.63,-171 12.12,-171 12.12,-171 6.12,-171 0.12,-165 0.12,-159 0.12,-159 0.12,-119 0.12,-119 0.12,-113 6.12,-107 12.12,-107 12.12,-107 111.63,-107 111.63,-107 117.63,-107 123.63,-113 123.63,-119 123.63,-119 123.63,-159 123.63,-159 123.63,-165 117.63,-171 111.63,-171\"/>\n",
       "<text text-anchor=\"start\" x=\"33.27\" y=\"-155.8\" font-family=\"Helvetica,sans-Serif\" font-size=\"14.00\">gini = 0.0</text>\n",
       "<text text-anchor=\"start\" x=\"20.05\" y=\"-141.8\" font-family=\"Helvetica,sans-Serif\" font-size=\"14.00\">samples = 36</text>\n",
       "<text text-anchor=\"start\" x=\"9.92\" y=\"-127.8\" font-family=\"Helvetica,sans-Serif\" font-size=\"14.00\">value = [0, 36, 0]</text>\n",
       "<text text-anchor=\"start\" x=\"8\" y=\"-113.8\" font-family=\"Helvetica,sans-Serif\" font-size=\"14.00\">class = versicolor</text>\n",
       "</g>\n",
       "<!-- 3&#45;&gt;4 -->\n",
       "<g id=\"edge4\" class=\"edge\">\n",
       "<title>3&#45;&gt;4</title>\n",
       "<path fill=\"none\" stroke=\"black\" d=\"M169.24,-213.77C151.8,-201.79 132.6,-188.6 115.32,-176.72\"/>\n",
       "<polygon fill=\"black\" stroke=\"black\" points=\"117.23,-173.79 107.01,-171.01 113.27,-179.56 117.23,-173.79\"/>\n",
       "</g>\n",
       "<!-- 5 -->\n",
       "<g id=\"node6\" class=\"node\">\n",
       "<title>5</title>\n",
       "<path fill=\"#ab7bee\" stroke=\"black\" d=\"M295.97,-178C295.97,-178 153.79,-178 153.79,-178 147.79,-178 141.79,-172 141.79,-166 141.79,-166 141.79,-112 141.79,-112 141.79,-106 147.79,-100 153.79,-100 153.79,-100 295.97,-100 295.97,-100 301.97,-100 307.97,-106 307.97,-112 307.97,-112 307.97,-166 307.97,-166 307.97,-172 301.97,-178 295.97,-178\"/>\n",
       "<text text-anchor=\"start\" x=\"149.83\" y=\"-162.8\" font-family=\"Helvetica,sans-Serif\" font-size=\"14.00\">sepal length (cm) ≤ 6.05</text>\n",
       "<text text-anchor=\"start\" x=\"188.49\" y=\"-148.8\" font-family=\"Helvetica,sans-Serif\" font-size=\"14.00\">gini = 0.375</text>\n",
       "<text text-anchor=\"start\" x=\"186.94\" y=\"-134.8\" font-family=\"Helvetica,sans-Serif\" font-size=\"14.00\">samples = 4</text>\n",
       "<text text-anchor=\"start\" x=\"176.82\" y=\"-120.8\" font-family=\"Helvetica,sans-Serif\" font-size=\"14.00\">value = [0, 1, 3]</text>\n",
       "<text text-anchor=\"start\" x=\"175.28\" y=\"-106.8\" font-family=\"Helvetica,sans-Serif\" font-size=\"14.00\">class = virginica</text>\n",
       "</g>\n",
       "<!-- 3&#45;&gt;5 -->\n",
       "<g id=\"edge5\" class=\"edge\">\n",
       "<title>3&#45;&gt;5</title>\n",
       "<path fill=\"none\" stroke=\"black\" d=\"M224.88,-213.77C224.88,-205.57 224.88,-196.8 224.88,-188.28\"/>\n",
       "<polygon fill=\"black\" stroke=\"black\" points=\"228.38,-188.06 224.88,-178.06 221.38,-188.06 228.38,-188.06\"/>\n",
       "</g>\n",
       "<!-- 6 -->\n",
       "<g id=\"node7\" class=\"node\">\n",
       "<title>6</title>\n",
       "<path fill=\"#39e581\" stroke=\"black\" d=\"M148.63,-64C148.63,-64 49.12,-64 49.12,-64 43.12,-64 37.12,-58 37.12,-52 37.12,-52 37.12,-12 37.12,-12 37.12,-6 43.12,0 49.12,0 49.12,0 148.63,0 148.63,0 154.63,0 160.63,-6 160.63,-12 160.63,-12 160.63,-52 160.63,-52 160.63,-58 154.63,-64 148.63,-64\"/>\n",
       "<text text-anchor=\"start\" x=\"70.27\" y=\"-48.8\" font-family=\"Helvetica,sans-Serif\" font-size=\"14.00\">gini = 0.0</text>\n",
       "<text text-anchor=\"start\" x=\"60.94\" y=\"-34.8\" font-family=\"Helvetica,sans-Serif\" font-size=\"14.00\">samples = 1</text>\n",
       "<text text-anchor=\"start\" x=\"50.82\" y=\"-20.8\" font-family=\"Helvetica,sans-Serif\" font-size=\"14.00\">value = [0, 1, 0]</text>\n",
       "<text text-anchor=\"start\" x=\"45\" y=\"-6.8\" font-family=\"Helvetica,sans-Serif\" font-size=\"14.00\">class = versicolor</text>\n",
       "</g>\n",
       "<!-- 5&#45;&gt;6 -->\n",
       "<g id=\"edge6\" class=\"edge\">\n",
       "<title>5&#45;&gt;6</title>\n",
       "<path fill=\"none\" stroke=\"black\" d=\"M179.03,-99.8C167.6,-90.27 155.35,-80.06 143.95,-70.56\"/>\n",
       "<polygon fill=\"black\" stroke=\"black\" points=\"146.14,-67.83 136.22,-64.12 141.66,-73.21 146.14,-67.83\"/>\n",
       "</g>\n",
       "<!-- 7 -->\n",
       "<g id=\"node8\" class=\"node\">\n",
       "<title>7</title>\n",
       "<path fill=\"#8139e5\" stroke=\"black\" d=\"M281.58,-64C281.58,-64 190.17,-64 190.17,-64 184.17,-64 178.17,-58 178.17,-52 178.17,-52 178.17,-12 178.17,-12 178.17,-6 184.17,0 190.17,0 190.17,0 281.58,0 281.58,0 287.58,0 293.58,-6 293.58,-12 293.58,-12 293.58,-52 293.58,-52 293.58,-58 287.58,-64 281.58,-64\"/>\n",
       "<text text-anchor=\"start\" x=\"207.27\" y=\"-48.8\" font-family=\"Helvetica,sans-Serif\" font-size=\"14.00\">gini = 0.0</text>\n",
       "<text text-anchor=\"start\" x=\"197.94\" y=\"-34.8\" font-family=\"Helvetica,sans-Serif\" font-size=\"14.00\">samples = 3</text>\n",
       "<text text-anchor=\"start\" x=\"187.82\" y=\"-20.8\" font-family=\"Helvetica,sans-Serif\" font-size=\"14.00\">value = [0, 0, 3]</text>\n",
       "<text text-anchor=\"start\" x=\"186.28\" y=\"-6.8\" font-family=\"Helvetica,sans-Serif\" font-size=\"14.00\">class = virginica</text>\n",
       "</g>\n",
       "<!-- 5&#45;&gt;7 -->\n",
       "<g id=\"edge7\" class=\"edge\">\n",
       "<title>5&#45;&gt;7</title>\n",
       "<path fill=\"none\" stroke=\"black\" d=\"M228.88,-99.8C229.75,-91.46 230.68,-82.6 231.57,-74.15\"/>\n",
       "<polygon fill=\"black\" stroke=\"black\" points=\"235.06,-74.43 232.62,-64.12 228.09,-73.7 235.06,-74.43\"/>\n",
       "</g>\n",
       "<!-- 9 -->\n",
       "<g id=\"node10\" class=\"node\">\n",
       "<title>9</title>\n",
       "<path fill=\"#ab7bee\" stroke=\"black\" d=\"M466.22,-178C466.22,-178 337.54,-178 337.54,-178 331.54,-178 325.54,-172 325.54,-166 325.54,-166 325.54,-112 325.54,-112 325.54,-106 331.54,-100 337.54,-100 337.54,-100 466.22,-100 466.22,-100 472.22,-100 478.22,-106 478.22,-112 478.22,-112 478.22,-166 478.22,-166 478.22,-172 472.22,-178 466.22,-178\"/>\n",
       "<text text-anchor=\"start\" x=\"333.46\" y=\"-162.8\" font-family=\"Helvetica,sans-Serif\" font-size=\"14.00\">sepal width (cm) ≤ 3.1</text>\n",
       "<text text-anchor=\"start\" x=\"365.49\" y=\"-148.8\" font-family=\"Helvetica,sans-Serif\" font-size=\"14.00\">gini = 0.375</text>\n",
       "<text text-anchor=\"start\" x=\"363.94\" y=\"-134.8\" font-family=\"Helvetica,sans-Serif\" font-size=\"14.00\">samples = 4</text>\n",
       "<text text-anchor=\"start\" x=\"353.82\" y=\"-120.8\" font-family=\"Helvetica,sans-Serif\" font-size=\"14.00\">value = [0, 1, 3]</text>\n",
       "<text text-anchor=\"start\" x=\"352.28\" y=\"-106.8\" font-family=\"Helvetica,sans-Serif\" font-size=\"14.00\">class = virginica</text>\n",
       "</g>\n",
       "<!-- 8&#45;&gt;9 -->\n",
       "<g id=\"edge9\" class=\"edge\">\n",
       "<title>8&#45;&gt;9</title>\n",
       "<path fill=\"none\" stroke=\"black\" d=\"M401.88,-213.77C401.88,-205.57 401.88,-196.8 401.88,-188.28\"/>\n",
       "<polygon fill=\"black\" stroke=\"black\" points=\"405.38,-188.06 401.88,-178.06 398.38,-188.06 405.38,-188.06\"/>\n",
       "</g>\n",
       "<!-- 12 -->\n",
       "<g id=\"node13\" class=\"node\">\n",
       "<title>12</title>\n",
       "<path fill=\"#8139e5\" stroke=\"black\" d=\"M603.78,-171C603.78,-171 507.97,-171 507.97,-171 501.97,-171 495.97,-165 495.97,-159 495.97,-159 495.97,-119 495.97,-119 495.97,-113 501.97,-107 507.97,-107 507.97,-107 603.78,-107 603.78,-107 609.78,-107 615.78,-113 615.78,-119 615.78,-119 615.78,-159 615.78,-159 615.78,-165 609.78,-171 603.78,-171\"/>\n",
       "<text text-anchor=\"start\" x=\"527.27\" y=\"-155.8\" font-family=\"Helvetica,sans-Serif\" font-size=\"14.00\">gini = 0.0</text>\n",
       "<text text-anchor=\"start\" x=\"514.05\" y=\"-141.8\" font-family=\"Helvetica,sans-Serif\" font-size=\"14.00\">samples = 26</text>\n",
       "<text text-anchor=\"start\" x=\"503.92\" y=\"-127.8\" font-family=\"Helvetica,sans-Serif\" font-size=\"14.00\">value = [0, 0, 26]</text>\n",
       "<text text-anchor=\"start\" x=\"506.28\" y=\"-113.8\" font-family=\"Helvetica,sans-Serif\" font-size=\"14.00\">class = virginica</text>\n",
       "</g>\n",
       "<!-- 8&#45;&gt;12 -->\n",
       "<g id=\"edge12\" class=\"edge\">\n",
       "<title>8&#45;&gt;12</title>\n",
       "<path fill=\"none\" stroke=\"black\" d=\"M454.44,-213.77C470.77,-201.9 488.73,-188.84 504.94,-177.05\"/>\n",
       "<polygon fill=\"black\" stroke=\"black\" points=\"507.21,-179.72 513.24,-171.01 503.09,-174.06 507.21,-179.72\"/>\n",
       "</g>\n",
       "<!-- 10 -->\n",
       "<g id=\"node11\" class=\"node\">\n",
       "<title>10</title>\n",
       "<path fill=\"#8139e5\" stroke=\"black\" d=\"M436.58,-64C436.58,-64 345.17,-64 345.17,-64 339.17,-64 333.17,-58 333.17,-52 333.17,-52 333.17,-12 333.17,-12 333.17,-6 339.17,0 345.17,0 345.17,0 436.58,0 436.58,0 442.58,0 448.58,-6 448.58,-12 448.58,-12 448.58,-52 448.58,-52 448.58,-58 442.58,-64 436.58,-64\"/>\n",
       "<text text-anchor=\"start\" x=\"362.27\" y=\"-48.8\" font-family=\"Helvetica,sans-Serif\" font-size=\"14.00\">gini = 0.0</text>\n",
       "<text text-anchor=\"start\" x=\"352.94\" y=\"-34.8\" font-family=\"Helvetica,sans-Serif\" font-size=\"14.00\">samples = 3</text>\n",
       "<text text-anchor=\"start\" x=\"342.82\" y=\"-20.8\" font-family=\"Helvetica,sans-Serif\" font-size=\"14.00\">value = [0, 0, 3]</text>\n",
       "<text text-anchor=\"start\" x=\"341.28\" y=\"-6.8\" font-family=\"Helvetica,sans-Serif\" font-size=\"14.00\">class = virginica</text>\n",
       "</g>\n",
       "<!-- 9&#45;&gt;10 -->\n",
       "<g id=\"edge10\" class=\"edge\">\n",
       "<title>9&#45;&gt;10</title>\n",
       "<path fill=\"none\" stroke=\"black\" d=\"M397.88,-99.8C397,-91.46 396.07,-82.6 395.19,-74.15\"/>\n",
       "<polygon fill=\"black\" stroke=\"black\" points=\"398.66,-73.7 394.14,-64.12 391.7,-74.43 398.66,-73.7\"/>\n",
       "</g>\n",
       "<!-- 11 -->\n",
       "<g id=\"node12\" class=\"node\">\n",
       "<title>11</title>\n",
       "<path fill=\"#39e581\" stroke=\"black\" d=\"M577.63,-64C577.63,-64 478.12,-64 478.12,-64 472.12,-64 466.12,-58 466.12,-52 466.12,-52 466.12,-12 466.12,-12 466.12,-6 472.12,0 478.12,0 478.12,0 577.63,0 577.63,0 583.63,0 589.63,-6 589.63,-12 589.63,-12 589.63,-52 589.63,-52 589.63,-58 583.63,-64 577.63,-64\"/>\n",
       "<text text-anchor=\"start\" x=\"499.27\" y=\"-48.8\" font-family=\"Helvetica,sans-Serif\" font-size=\"14.00\">gini = 0.0</text>\n",
       "<text text-anchor=\"start\" x=\"489.94\" y=\"-34.8\" font-family=\"Helvetica,sans-Serif\" font-size=\"14.00\">samples = 1</text>\n",
       "<text text-anchor=\"start\" x=\"479.82\" y=\"-20.8\" font-family=\"Helvetica,sans-Serif\" font-size=\"14.00\">value = [0, 1, 0]</text>\n",
       "<text text-anchor=\"start\" x=\"474\" y=\"-6.8\" font-family=\"Helvetica,sans-Serif\" font-size=\"14.00\">class = versicolor</text>\n",
       "</g>\n",
       "<!-- 9&#45;&gt;11 -->\n",
       "<g id=\"edge11\" class=\"edge\">\n",
       "<title>9&#45;&gt;11</title>\n",
       "<path fill=\"none\" stroke=\"black\" d=\"M447.72,-99.8C459.16,-90.27 471.41,-80.06 482.8,-70.56\"/>\n",
       "<polygon fill=\"black\" stroke=\"black\" points=\"485.1,-73.21 490.54,-64.12 480.61,-67.83 485.1,-73.21\"/>\n",
       "</g>\n",
       "</g>\n",
       "</svg>\n"
      ],
      "text/plain": [
       "<graphviz.sources.Source at 0x7fac68e0a760>"
      ]
     },
     "execution_count": 15,
     "metadata": {},
     "output_type": "execute_result"
    }
   ],
   "source": [
    " dot_data = tree.export_graphviz(clf, out_file=None, \n",
    "                         feature_names=iris.feature_names,  \n",
    "                         class_names=iris.target_names,  \n",
    "                         filled=True, rounded=True,  \n",
    "                         special_characters=True)  \n",
    "graph = graphviz.Source(dot_data)  \n",
    "graph"
   ]
  },
  {
   "cell_type": "markdown",
   "metadata": {},
   "source": [
    "**Question 5: Compute the accuracy on the training dataset and the test dataset?.**"
   ]
  },
  {
   "cell_type": "markdown",
   "metadata": {},
   "source": [
    "Compute the accuracy on the training set"
   ]
  },
  {
   "cell_type": "code",
   "execution_count": 16,
   "metadata": {},
   "outputs": [
    {
     "name": "stdout",
     "output_type": "stream",
     "text": [
      "DecisionTreeClassifier training accuracy score: 1.0\n"
     ]
    }
   ],
   "source": [
    "y_train_pred = clf.predict(X_train)\n",
    "accuracy = accuracy_score(y_train, y_train_pred)\n",
    "print('DecisionTreeClassifier training accuracy score: {}'.format(accuracy))"
   ]
  },
  {
   "cell_type": "markdown",
   "metadata": {},
   "source": [
    "Compute the accuracy on the testing set"
   ]
  },
  {
   "cell_type": "code",
   "execution_count": 17,
   "metadata": {},
   "outputs": [
    {
     "name": "stdout",
     "output_type": "stream",
     "text": [
      "DecisionTreeClassifier test accuracy score: 0.9615384615384616\n"
     ]
    }
   ],
   "source": [
    "y_pred = clf.predict(X_test)\n",
    "accuracy = accuracy_score(y_test, y_pred)\n",
    "print('DecisionTreeClassifier test accuracy score: {}'.format(accuracy))"
   ]
  },
  {
   "cell_type": "markdown",
   "metadata": {},
   "source": [
    "**Question 6: We observe a gap between the training accuracy and the testing accuracy. What does it mean?**"
   ]
  },
  {
   "cell_type": "markdown",
   "metadata": {},
   "source": [
    "The gap might be explained by overfitting: the decision tree contains two many nodes."
   ]
  },
  {
   "cell_type": "markdown",
   "metadata": {},
   "source": [
    "**Question 7: Propose a simple modification of the code to reduce this gap.**"
   ]
  },
  {
   "cell_type": "code",
   "execution_count": 18,
   "metadata": {},
   "outputs": [
    {
     "name": "stdout",
     "output_type": "stream",
     "text": [
      "DecisionTreeClassifier accuracy score: 0.9591836734693877\n",
      "DecisionTreeClassifier accuracy score: 0.9615384615384616\n"
     ]
    }
   ],
   "source": [
    "# We can reduce the depth of the tree\n",
    "clf = tree.DecisionTreeClassifier(max_depth=2)\n",
    "clf.fit(X_train, y_train) # training the decision tree\n",
    "y_train_pred = clf.predict(X_train)\n",
    "accuracy = accuracy_score(y_train, y_train_pred)\n",
    "print('DecisionTreeClassifier accuracy score: {}'.format(accuracy))\n",
    "y_pred = clf.predict(X_test)\n",
    "accuracy = accuracy_score(y_test, y_pred)\n",
    "print('DecisionTreeClassifier accuracy score: {}'.format(accuracy))"
   ]
  },
  {
   "cell_type": "markdown",
   "metadata": {},
   "source": [
    "## 2. Classification with only two features of Iris dataset"
   ]
  },
  {
   "cell_type": "markdown",
   "metadata": {},
   "source": [
    "**We would like to undertand more precisely the behavior of the decision tree.\n",
    "For this purpose, we want to study the decision regions learned by the decision tree.\n",
    "Since it is simpler in 2D, we will study only 2 attributes**"
   ]
  },
  {
   "cell_type": "markdown",
   "metadata": {},
   "source": [
    "Import some libraries"
   ]
  },
  {
   "cell_type": "code",
   "execution_count": 19,
   "metadata": {},
   "outputs": [],
   "source": [
    "import numpy as np\n",
    "import matplotlib.pyplot as plt"
   ]
  },
  {
   "cell_type": "markdown",
   "metadata": {},
   "source": [
    "Study just one pair of attributes"
   ]
  },
  {
   "cell_type": "markdown",
   "metadata": {},
   "source": [
    "**Question 8: Select only the two attributes 'sepal length (cm)' and 'petal width (cm)'**"
   ]
  },
  {
   "cell_type": "code",
   "execution_count": 20,
   "metadata": {},
   "outputs": [],
   "source": [
    "pair = [ 0,3]\n",
    "X_train2D = X_train[:,pair]\n",
    "X_test2D = X_test[:,pair]"
   ]
  },
  {
   "cell_type": "markdown",
   "metadata": {},
   "source": [
    "**Question 9: Train the decision tree of the reduced dataset.**"
   ]
  },
  {
   "cell_type": "code",
   "execution_count": 21,
   "metadata": {},
   "outputs": [
    {
     "data": {
      "text/plain": [
       "DecisionTreeClassifier()"
      ]
     },
     "execution_count": 21,
     "metadata": {},
     "output_type": "execute_result"
    }
   ],
   "source": [
    "clf2D = tree.DecisionTreeClassifier()\n",
    "clf2D.fit(X_train2D, y_train) # training the decision tree"
   ]
  },
  {
   "cell_type": "markdown",
   "metadata": {},
   "source": [
    "Compute the accuracies for only two attributes"
   ]
  },
  {
   "cell_type": "markdown",
   "metadata": {},
   "source": [
    "**Question 10: Compute the training and testing accuracies.**"
   ]
  },
  {
   "cell_type": "code",
   "execution_count": 22,
   "metadata": {},
   "outputs": [
    {
     "name": "stdout",
     "output_type": "stream",
     "text": [
      "DecisionTreeClassifier 2D training accuracy score: 0.9795918367346939\n"
     ]
    }
   ],
   "source": [
    "y_train_pred2D = clf2D.predict(X_train2D)\n",
    "accuracy = accuracy_score(y_train, y_train_pred2D)\n",
    "print('DecisionTreeClassifier 2D training accuracy score: {}'.format(accuracy))"
   ]
  },
  {
   "cell_type": "code",
   "execution_count": 23,
   "metadata": {},
   "outputs": [
    {
     "name": "stdout",
     "output_type": "stream",
     "text": [
      "DecisionTreeClassifier 2D test accuracy score: 0.9423076923076923\n"
     ]
    }
   ],
   "source": [
    "y_test_pred2D = clf2D.predict(X_test2D)\n",
    "accuracy = accuracy_score(y_test, y_test_pred2D)\n",
    "print('DecisionTreeClassifier 2D test accuracy score: {}'.format(accuracy))"
   ]
  },
  {
   "cell_type": "markdown",
   "metadata": {},
   "source": [
    "Plot the decision regions"
   ]
  },
  {
   "cell_type": "code",
   "execution_count": 24,
   "metadata": {},
   "outputs": [
    {
     "data": {
      "image/png": "[encoded data removed]",
      "text/plain": [
       "<Figure size 432x288 with 1 Axes>"
      ]
     },
     "metadata": {
      "needs_background": "light"
     },
     "output_type": "display_data"
    }
   ],
   "source": [
    "# Parameters\n",
    "plot_step = 0.02\n",
    "n_classes = iris.target_names.shape[0]\n",
    "plot_colors = \"bry\" # colors assigned to the labels\n",
    "\n",
    "# Sampling the 2D plane\n",
    "x_min, x_max = X_train2D[:, 0].min() - 1, X_train2D[:, 0].max() + 1\n",
    "y_min, y_max = X_train2D[:, 1].min() - 1, X_train2D[:, 1].max() + 1\n",
    "xx, yy = np.meshgrid(np.arange(x_min, x_max, plot_step), np.arange(y_min, y_max, plot_step))\n",
    "\n",
    "# Compute the decisions\n",
    "Z = clf2D.predict(np.c_[xx.ravel(), yy.ravel()])\n",
    "Z = Z.reshape(xx.shape) # reshape as a 2D matrix\n",
    "\n",
    "# Plot the decision contours\n",
    "cs = plt.contourf(xx, yy, Z, cmap=plt.cm.RdYlBu)\n",
    "\n",
    "# Change the axis names\n",
    "plt.xlabel(iris.feature_names[pair[0]])\n",
    "plt.ylabel(iris.feature_names[pair[1]])\n",
    "plt.axis()\n",
    " \n",
    "# Plot the training points\n",
    "for i, color in zip(range(n_classes), plot_colors):\n",
    "    idx = np.where(y_train == i)\n",
    "    plt.scatter(X_train2D[idx, 0], X_train2D[idx, 1], c=color,\n",
    "                 label=iris.target_names[i],\n",
    "                 cmap=plt.cm.RdYlBu)\n",
    "# Put a legend\n",
    "plt.legend(loc=\"upper left\")\n",
    "plt.show()"
   ]
  },
  {
   "cell_type": "markdown",
   "metadata": {},
   "source": [
    "Draw the decision tree"
   ]
  },
  {
   "cell_type": "markdown",
   "metadata": {},
   "source": [
    "**Question 11: draw the decision tree. Is it consistent with the decision regions plot above?**"
   ]
  },
  {
   "cell_type": "markdown",
   "metadata": {},
   "source": [
    "Comment: yes, of course. The decision tree rules are consistent with the decision regions plot."
   ]
  },
  {
   "cell_type": "code",
   "execution_count": 25,
   "metadata": {},
   "outputs": [
    {
     "data": {
      "image/svg+xml": [
       "<?xml version=\"1.0\" encoding=\"UTF-8\" standalone=\"no\"?>\n",
       "<!DOCTYPE svg PUBLIC \"-//W3C//DTD SVG 1.1//EN\"\n",
       " \"http://www.w3.org/Graphics/SVG/1.1/DTD/svg11.dtd\">\n",
       "<!-- Generated by graphviz version 2.43.0 (0)\n",
       " -->\n",
       "<!-- Title: Tree Pages: 1 -->\n",
       "<svg width=\"805pt\" height=\"1098pt\"\n",
       " viewBox=\"0.00 0.00 804.83 1098.00\" xmlns=\"http://www.w3.org/2000/svg\" xmlns:xlink=\"http://www.w3.org/1999/xlink\">\n",
       "<g id=\"graph0\" class=\"graph\" transform=\"scale(1 1) rotate(0) translate(4 1094)\">\n",
       "<title>Tree</title>\n",
       "<polygon fill=\"white\" stroke=\"transparent\" points=\"-4,4 -4,-1094 800.83,-1094 800.83,4 -4,4\"/>\n",
       "<!-- 0 -->\n",
       "<g id=\"node1\" class=\"node\">\n",
       "<title>0</title>\n",
       "<path fill=\"#edfdf4\" stroke=\"black\" d=\"M474.61,-1090C474.61,-1090 349.15,-1090 349.15,-1090 343.15,-1090 337.15,-1084 337.15,-1078 337.15,-1078 337.15,-1024 337.15,-1024 337.15,-1018 343.15,-1012 349.15,-1012 349.15,-1012 474.61,-1012 474.61,-1012 480.61,-1012 486.61,-1018 486.61,-1024 486.61,-1024 486.61,-1078 486.61,-1078 486.61,-1084 480.61,-1090 474.61,-1090\"/>\n",
       "<text text-anchor=\"start\" x=\"345.01\" y=\"-1074.8\" font-family=\"Helvetica,sans-Serif\" font-size=\"14.00\">petal width (cm) ≤ 0.8</text>\n",
       "<text text-anchor=\"start\" x=\"375.49\" y=\"-1060.8\" font-family=\"Helvetica,sans-Serif\" font-size=\"14.00\">gini = 0.661</text>\n",
       "<text text-anchor=\"start\" x=\"370.05\" y=\"-1046.8\" font-family=\"Helvetica,sans-Serif\" font-size=\"14.00\">samples = 98</text>\n",
       "<text text-anchor=\"start\" x=\"352.14\" y=\"-1032.8\" font-family=\"Helvetica,sans-Serif\" font-size=\"14.00\">value = [28, 38, 32]</text>\n",
       "<text text-anchor=\"start\" x=\"358\" y=\"-1018.8\" font-family=\"Helvetica,sans-Serif\" font-size=\"14.00\">class = versicolor</text>\n",
       "</g>\n",
       "<!-- 1 -->\n",
       "<g id=\"node2\" class=\"node\">\n",
       "<title>1</title>\n",
       "<path fill=\"#e58139\" stroke=\"black\" d=\"M381.78,-969C381.78,-969 285.97,-969 285.97,-969 279.97,-969 273.97,-963 273.97,-957 273.97,-957 273.97,-917 273.97,-917 273.97,-911 279.97,-905 285.97,-905 285.97,-905 381.78,-905 381.78,-905 387.78,-905 393.78,-911 393.78,-917 393.78,-917 393.78,-957 393.78,-957 393.78,-963 387.78,-969 381.78,-969\"/>\n",
       "<text text-anchor=\"start\" x=\"305.27\" y=\"-953.8\" font-family=\"Helvetica,sans-Serif\" font-size=\"14.00\">gini = 0.0</text>\n",
       "<text text-anchor=\"start\" x=\"292.05\" y=\"-939.8\" font-family=\"Helvetica,sans-Serif\" font-size=\"14.00\">samples = 28</text>\n",
       "<text text-anchor=\"start\" x=\"281.92\" y=\"-925.8\" font-family=\"Helvetica,sans-Serif\" font-size=\"14.00\">value = [28, 0, 0]</text>\n",
       "<text text-anchor=\"start\" x=\"289.33\" y=\"-911.8\" font-family=\"Helvetica,sans-Serif\" font-size=\"14.00\">class = setosa</text>\n",
       "</g>\n",
       "<!-- 0&#45;&gt;1 -->\n",
       "<g id=\"edge1\" class=\"edge\">\n",
       "<title>0&#45;&gt;1</title>\n",
       "<path fill=\"none\" stroke=\"black\" d=\"M385.25,-1011.77C377.52,-1000.66 369.05,-988.51 361.27,-977.33\"/>\n",
       "<polygon fill=\"black\" stroke=\"black\" points=\"364.06,-975.22 355.47,-969.01 358.32,-979.22 364.06,-975.22\"/>\n",
       "<text text-anchor=\"middle\" x=\"351.07\" y=\"-989.42\" font-family=\"Helvetica,sans-Serif\" font-size=\"14.00\">True</text>\n",
       "</g>\n",
       "<!-- 2 -->\n",
       "<g id=\"node3\" class=\"node\">\n",
       "<title>2</title>\n",
       "<path fill=\"#e0fbeb\" stroke=\"black\" d=\"M557.4,-976C557.4,-976 424.36,-976 424.36,-976 418.36,-976 412.36,-970 412.36,-964 412.36,-964 412.36,-910 412.36,-910 412.36,-904 418.36,-898 424.36,-898 424.36,-898 557.4,-898 557.4,-898 563.4,-898 569.4,-904 569.4,-910 569.4,-910 569.4,-964 569.4,-964 569.4,-970 563.4,-976 557.4,-976\"/>\n",
       "<text text-anchor=\"start\" x=\"420.12\" y=\"-960.8\" font-family=\"Helvetica,sans-Serif\" font-size=\"14.00\">petal width (cm) ≤ 1.65</text>\n",
       "<text text-anchor=\"start\" x=\"454.49\" y=\"-946.8\" font-family=\"Helvetica,sans-Serif\" font-size=\"14.00\">gini = 0.496</text>\n",
       "<text text-anchor=\"start\" x=\"449.05\" y=\"-932.8\" font-family=\"Helvetica,sans-Serif\" font-size=\"14.00\">samples = 70</text>\n",
       "<text text-anchor=\"start\" x=\"435.03\" y=\"-918.8\" font-family=\"Helvetica,sans-Serif\" font-size=\"14.00\">value = [0, 38, 32]</text>\n",
       "<text text-anchor=\"start\" x=\"437\" y=\"-904.8\" font-family=\"Helvetica,sans-Serif\" font-size=\"14.00\">class = versicolor</text>\n",
       "</g>\n",
       "<!-- 0&#45;&gt;2 -->\n",
       "<g id=\"edge2\" class=\"edge\">\n",
       "<title>0&#45;&gt;2</title>\n",
       "<path fill=\"none\" stroke=\"black\" d=\"M438.84,-1011.77C445.07,-1002.94 451.76,-993.45 458.21,-984.32\"/>\n",
       "<polygon fill=\"black\" stroke=\"black\" points=\"461.13,-986.25 464.03,-976.06 455.41,-982.21 461.13,-986.25\"/>\n",
       "<text text-anchor=\"middle\" x=\"468.29\" y=\"-996.49\" font-family=\"Helvetica,sans-Serif\" font-size=\"14.00\">False</text>\n",
       "</g>\n",
       "<!-- 3 -->\n",
       "<g id=\"node4\" class=\"node\">\n",
       "<title>3</title>\n",
       "<path fill=\"#49e78b\" stroke=\"black\" d=\"M468.18,-862C468.18,-862 333.57,-862 333.57,-862 327.57,-862 321.57,-856 321.57,-850 321.57,-850 321.57,-796 321.57,-796 321.57,-790 327.57,-784 333.57,-784 333.57,-784 468.18,-784 468.18,-784 474.18,-784 480.18,-790 480.18,-796 480.18,-796 480.18,-850 480.18,-850 480.18,-856 474.18,-862 468.18,-862\"/>\n",
       "<text text-anchor=\"start\" x=\"329.73\" y=\"-846.8\" font-family=\"Helvetica,sans-Serif\" font-size=\"14.00\">sepal length (cm) ≤ 7.1</text>\n",
       "<text text-anchor=\"start\" x=\"364.49\" y=\"-832.8\" font-family=\"Helvetica,sans-Serif\" font-size=\"14.00\">gini = 0.139</text>\n",
       "<text text-anchor=\"start\" x=\"359.05\" y=\"-818.8\" font-family=\"Helvetica,sans-Serif\" font-size=\"14.00\">samples = 40</text>\n",
       "<text text-anchor=\"start\" x=\"348.92\" y=\"-804.8\" font-family=\"Helvetica,sans-Serif\" font-size=\"14.00\">value = [0, 37, 3]</text>\n",
       "<text text-anchor=\"start\" x=\"347\" y=\"-790.8\" font-family=\"Helvetica,sans-Serif\" font-size=\"14.00\">class = versicolor</text>\n",
       "</g>\n",
       "<!-- 2&#45;&gt;3 -->\n",
       "<g id=\"edge3\" class=\"edge\">\n",
       "<title>2&#45;&gt;3</title>\n",
       "<path fill=\"none\" stroke=\"black\" d=\"M460.16,-897.77C452.99,-888.85 445.28,-879.26 437.87,-870.04\"/>\n",
       "<polygon fill=\"black\" stroke=\"black\" points=\"440.45,-867.66 431.46,-862.06 435,-872.05 440.45,-867.66\"/>\n",
       "</g>\n",
       "<!-- 18 -->\n",
       "<g id=\"node19\" class=\"node\">\n",
       "<title>18</title>\n",
       "<path fill=\"#8540e6\" stroke=\"black\" d=\"M651.97,-862C651.97,-862 509.79,-862 509.79,-862 503.79,-862 497.79,-856 497.79,-850 497.79,-850 497.79,-796 497.79,-796 497.79,-790 503.79,-784 509.79,-784 509.79,-784 651.97,-784 651.97,-784 657.97,-784 663.97,-790 663.97,-796 663.97,-796 663.97,-850 663.97,-850 663.97,-856 657.97,-862 651.97,-862\"/>\n",
       "<text text-anchor=\"start\" x=\"505.83\" y=\"-846.8\" font-family=\"Helvetica,sans-Serif\" font-size=\"14.00\">sepal length (cm) ≤ 5.95</text>\n",
       "<text text-anchor=\"start\" x=\"544.49\" y=\"-832.8\" font-family=\"Helvetica,sans-Serif\" font-size=\"14.00\">gini = 0.064</text>\n",
       "<text text-anchor=\"start\" x=\"539.05\" y=\"-818.8\" font-family=\"Helvetica,sans-Serif\" font-size=\"14.00\">samples = 30</text>\n",
       "<text text-anchor=\"start\" x=\"528.92\" y=\"-804.8\" font-family=\"Helvetica,sans-Serif\" font-size=\"14.00\">value = [0, 1, 29]</text>\n",
       "<text text-anchor=\"start\" x=\"531.28\" y=\"-790.8\" font-family=\"Helvetica,sans-Serif\" font-size=\"14.00\">class = virginica</text>\n",
       "</g>\n",
       "<!-- 2&#45;&gt;18 -->\n",
       "<g id=\"edge18\" class=\"edge\">\n",
       "<title>2&#45;&gt;18</title>\n",
       "<path fill=\"none\" stroke=\"black\" d=\"M521.6,-897.77C528.77,-888.85 536.47,-879.26 543.88,-870.04\"/>\n",
       "<polygon fill=\"black\" stroke=\"black\" points=\"546.76,-872.05 550.29,-862.06 541.3,-867.66 546.76,-872.05\"/>\n",
       "</g>\n",
       "<!-- 4 -->\n",
       "<g id=\"node5\" class=\"node\">\n",
       "<title>4</title>\n",
       "<path fill=\"#44e688\" stroke=\"black\" d=\"M318.97,-748C318.97,-748 176.79,-748 176.79,-748 170.79,-748 164.79,-742 164.79,-736 164.79,-736 164.79,-682 164.79,-682 164.79,-676 170.79,-670 176.79,-670 176.79,-670 318.97,-670 318.97,-670 324.97,-670 330.97,-676 330.97,-682 330.97,-682 330.97,-736 330.97,-736 330.97,-742 324.97,-748 318.97,-748\"/>\n",
       "<text text-anchor=\"start\" x=\"172.83\" y=\"-732.8\" font-family=\"Helvetica,sans-Serif\" font-size=\"14.00\">sepal length (cm) ≤ 6.05</text>\n",
       "<text text-anchor=\"start\" x=\"211.49\" y=\"-718.8\" font-family=\"Helvetica,sans-Serif\" font-size=\"14.00\">gini = 0.097</text>\n",
       "<text text-anchor=\"start\" x=\"206.05\" y=\"-704.8\" font-family=\"Helvetica,sans-Serif\" font-size=\"14.00\">samples = 39</text>\n",
       "<text text-anchor=\"start\" x=\"195.92\" y=\"-690.8\" font-family=\"Helvetica,sans-Serif\" font-size=\"14.00\">value = [0, 37, 2]</text>\n",
       "<text text-anchor=\"start\" x=\"194\" y=\"-676.8\" font-family=\"Helvetica,sans-Serif\" font-size=\"14.00\">class = versicolor</text>\n",
       "</g>\n",
       "<!-- 3&#45;&gt;4 -->\n",
       "<g id=\"edge4\" class=\"edge\">\n",
       "<title>3&#45;&gt;4</title>\n",
       "<path fill=\"none\" stroke=\"black\" d=\"M348.65,-783.77C335.6,-774.22 321.51,-763.9 308.11,-754.09\"/>\n",
       "<polygon fill=\"black\" stroke=\"black\" points=\"310,-751.14 299.87,-748.06 305.87,-756.79 310,-751.14\"/>\n",
       "</g>\n",
       "<!-- 17 -->\n",
       "<g id=\"node18\" class=\"node\">\n",
       "<title>17</title>\n",
       "<path fill=\"#8139e5\" stroke=\"black\" d=\"M452.58,-741C452.58,-741 361.17,-741 361.17,-741 355.17,-741 349.17,-735 349.17,-729 349.17,-729 349.17,-689 349.17,-689 349.17,-683 355.17,-677 361.17,-677 361.17,-677 452.58,-677 452.58,-677 458.58,-677 464.58,-683 464.58,-689 464.58,-689 464.58,-729 464.58,-729 464.58,-735 458.58,-741 452.58,-741\"/>\n",
       "<text text-anchor=\"start\" x=\"378.27\" y=\"-725.8\" font-family=\"Helvetica,sans-Serif\" font-size=\"14.00\">gini = 0.0</text>\n",
       "<text text-anchor=\"start\" x=\"368.94\" y=\"-711.8\" font-family=\"Helvetica,sans-Serif\" font-size=\"14.00\">samples = 1</text>\n",
       "<text text-anchor=\"start\" x=\"358.82\" y=\"-697.8\" font-family=\"Helvetica,sans-Serif\" font-size=\"14.00\">value = [0, 0, 1]</text>\n",
       "<text text-anchor=\"start\" x=\"357.28\" y=\"-683.8\" font-family=\"Helvetica,sans-Serif\" font-size=\"14.00\">class = virginica</text>\n",
       "</g>\n",
       "<!-- 3&#45;&gt;17 -->\n",
       "<g id=\"edge17\" class=\"edge\">\n",
       "<title>3&#45;&gt;17</title>\n",
       "<path fill=\"none\" stroke=\"black\" d=\"M402.93,-783.77C403.49,-773.31 404.1,-761.94 404.66,-751.32\"/>\n",
       "<polygon fill=\"black\" stroke=\"black\" points=\"408.18,-751.18 405.22,-741.01 401.19,-750.81 408.18,-751.18\"/>\n",
       "</g>\n",
       "<!-- 5 -->\n",
       "<g id=\"node6\" class=\"node\">\n",
       "<title>5</title>\n",
       "<path fill=\"#39e581\" stroke=\"black\" d=\"M179.63,-627C179.63,-627 80.12,-627 80.12,-627 74.12,-627 68.12,-621 68.12,-615 68.12,-615 68.12,-575 68.12,-575 68.12,-569 74.12,-563 80.12,-563 80.12,-563 179.63,-563 179.63,-563 185.63,-563 191.63,-569 191.63,-575 191.63,-575 191.63,-615 191.63,-615 191.63,-621 185.63,-627 179.63,-627\"/>\n",
       "<text text-anchor=\"start\" x=\"101.27\" y=\"-611.8\" font-family=\"Helvetica,sans-Serif\" font-size=\"14.00\">gini = 0.0</text>\n",
       "<text text-anchor=\"start\" x=\"88.05\" y=\"-597.8\" font-family=\"Helvetica,sans-Serif\" font-size=\"14.00\">samples = 22</text>\n",
       "<text text-anchor=\"start\" x=\"77.92\" y=\"-583.8\" font-family=\"Helvetica,sans-Serif\" font-size=\"14.00\">value = [0, 22, 0]</text>\n",
       "<text text-anchor=\"start\" x=\"76\" y=\"-569.8\" font-family=\"Helvetica,sans-Serif\" font-size=\"14.00\">class = versicolor</text>\n",
       "</g>\n",
       "<!-- 4&#45;&gt;5 -->\n",
       "<g id=\"edge5\" class=\"edge\">\n",
       "<title>4&#45;&gt;5</title>\n",
       "<path fill=\"none\" stroke=\"black\" d=\"M207.6,-669.77C195.43,-658.22 182.09,-645.55 169.94,-634.02\"/>\n",
       "<polygon fill=\"black\" stroke=\"black\" points=\"172.21,-631.36 162.55,-627.01 167.39,-636.43 172.21,-631.36\"/>\n",
       "</g>\n",
       "<!-- 6 -->\n",
       "<g id=\"node7\" class=\"node\">\n",
       "<title>6</title>\n",
       "<path fill=\"#53e892\" stroke=\"black\" d=\"M363.97,-634C363.97,-634 221.79,-634 221.79,-634 215.79,-634 209.79,-628 209.79,-622 209.79,-622 209.79,-568 209.79,-568 209.79,-562 215.79,-556 221.79,-556 221.79,-556 363.97,-556 363.97,-556 369.97,-556 375.97,-562 375.97,-568 375.97,-568 375.97,-622 375.97,-622 375.97,-628 369.97,-634 363.97,-634\"/>\n",
       "<text text-anchor=\"start\" x=\"217.83\" y=\"-618.8\" font-family=\"Helvetica,sans-Serif\" font-size=\"14.00\">sepal length (cm) ≤ 6.35</text>\n",
       "<text text-anchor=\"start\" x=\"256.49\" y=\"-604.8\" font-family=\"Helvetica,sans-Serif\" font-size=\"14.00\">gini = 0.208</text>\n",
       "<text text-anchor=\"start\" x=\"251.05\" y=\"-590.8\" font-family=\"Helvetica,sans-Serif\" font-size=\"14.00\">samples = 17</text>\n",
       "<text text-anchor=\"start\" x=\"240.92\" y=\"-576.8\" font-family=\"Helvetica,sans-Serif\" font-size=\"14.00\">value = [0, 15, 2]</text>\n",
       "<text text-anchor=\"start\" x=\"239\" y=\"-562.8\" font-family=\"Helvetica,sans-Serif\" font-size=\"14.00\">class = versicolor</text>\n",
       "</g>\n",
       "<!-- 4&#45;&gt;6 -->\n",
       "<g id=\"edge6\" class=\"edge\">\n",
       "<title>4&#45;&gt;6</title>\n",
       "<path fill=\"none\" stroke=\"black\" d=\"M263.24,-669.77C266.64,-661.3 270.29,-652.22 273.82,-643.44\"/>\n",
       "<polygon fill=\"black\" stroke=\"black\" points=\"277.11,-644.64 277.59,-634.06 270.61,-642.03 277.11,-644.64\"/>\n",
       "</g>\n",
       "<!-- 7 -->\n",
       "<g id=\"node8\" class=\"node\">\n",
       "<title>7</title>\n",
       "<path fill=\"#72eca5\" stroke=\"black\" d=\"M280.4,-520C280.4,-520 147.36,-520 147.36,-520 141.36,-520 135.36,-514 135.36,-508 135.36,-508 135.36,-454 135.36,-454 135.36,-448 141.36,-442 147.36,-442 147.36,-442 280.4,-442 280.4,-442 286.4,-442 292.4,-448 292.4,-454 292.4,-454 292.4,-508 292.4,-508 292.4,-514 286.4,-520 280.4,-520\"/>\n",
       "<text text-anchor=\"start\" x=\"143.12\" y=\"-504.8\" font-family=\"Helvetica,sans-Serif\" font-size=\"14.00\">petal width (cm) ≤ 1.35</text>\n",
       "<text text-anchor=\"start\" x=\"177.49\" y=\"-490.8\" font-family=\"Helvetica,sans-Serif\" font-size=\"14.00\">gini = 0.346</text>\n",
       "<text text-anchor=\"start\" x=\"175.94\" y=\"-476.8\" font-family=\"Helvetica,sans-Serif\" font-size=\"14.00\">samples = 9</text>\n",
       "<text text-anchor=\"start\" x=\"165.82\" y=\"-462.8\" font-family=\"Helvetica,sans-Serif\" font-size=\"14.00\">value = [0, 7, 2]</text>\n",
       "<text text-anchor=\"start\" x=\"160\" y=\"-448.8\" font-family=\"Helvetica,sans-Serif\" font-size=\"14.00\">class = versicolor</text>\n",
       "</g>\n",
       "<!-- 6&#45;&gt;7 -->\n",
       "<g id=\"edge7\" class=\"edge\">\n",
       "<title>6&#45;&gt;7</title>\n",
       "<path fill=\"none\" stroke=\"black\" d=\"M265.91,-555.77C259.68,-546.94 252.99,-537.45 246.55,-528.32\"/>\n",
       "<polygon fill=\"black\" stroke=\"black\" points=\"249.35,-526.21 240.72,-520.06 243.63,-530.25 249.35,-526.21\"/>\n",
       "</g>\n",
       "<!-- 16 -->\n",
       "<g id=\"node17\" class=\"node\">\n",
       "<title>16</title>\n",
       "<path fill=\"#39e581\" stroke=\"black\" d=\"M422.63,-513C422.63,-513 323.12,-513 323.12,-513 317.12,-513 311.12,-507 311.12,-501 311.12,-501 311.12,-461 311.12,-461 311.12,-455 317.12,-449 323.12,-449 323.12,-449 422.63,-449 422.63,-449 428.63,-449 434.63,-455 434.63,-461 434.63,-461 434.63,-501 434.63,-501 434.63,-507 428.63,-513 422.63,-513\"/>\n",
       "<text text-anchor=\"start\" x=\"344.27\" y=\"-497.8\" font-family=\"Helvetica,sans-Serif\" font-size=\"14.00\">gini = 0.0</text>\n",
       "<text text-anchor=\"start\" x=\"334.94\" y=\"-483.8\" font-family=\"Helvetica,sans-Serif\" font-size=\"14.00\">samples = 8</text>\n",
       "<text text-anchor=\"start\" x=\"324.82\" y=\"-469.8\" font-family=\"Helvetica,sans-Serif\" font-size=\"14.00\">value = [0, 8, 0]</text>\n",
       "<text text-anchor=\"start\" x=\"319\" y=\"-455.8\" font-family=\"Helvetica,sans-Serif\" font-size=\"14.00\">class = versicolor</text>\n",
       "</g>\n",
       "<!-- 6&#45;&gt;16 -->\n",
       "<g id=\"edge16\" class=\"edge\">\n",
       "<title>6&#45;&gt;16</title>\n",
       "<path fill=\"none\" stroke=\"black\" d=\"M320.19,-555.77C328.12,-544.66 336.8,-532.51 344.78,-521.33\"/>\n",
       "<polygon fill=\"black\" stroke=\"black\" points=\"347.76,-523.18 350.73,-513.01 342.07,-519.11 347.76,-523.18\"/>\n",
       "</g>\n",
       "<!-- 8 -->\n",
       "<g id=\"node9\" class=\"node\">\n",
       "<title>8</title>\n",
       "<path fill=\"#39e581\" stroke=\"black\" d=\"M184.63,-399C184.63,-399 85.12,-399 85.12,-399 79.12,-399 73.12,-393 73.12,-387 73.12,-387 73.12,-347 73.12,-347 73.12,-341 79.12,-335 85.12,-335 85.12,-335 184.63,-335 184.63,-335 190.63,-335 196.63,-341 196.63,-347 196.63,-347 196.63,-387 196.63,-387 196.63,-393 190.63,-399 184.63,-399\"/>\n",
       "<text text-anchor=\"start\" x=\"106.27\" y=\"-383.8\" font-family=\"Helvetica,sans-Serif\" font-size=\"14.00\">gini = 0.0</text>\n",
       "<text text-anchor=\"start\" x=\"96.94\" y=\"-369.8\" font-family=\"Helvetica,sans-Serif\" font-size=\"14.00\">samples = 2</text>\n",
       "<text text-anchor=\"start\" x=\"86.82\" y=\"-355.8\" font-family=\"Helvetica,sans-Serif\" font-size=\"14.00\">value = [0, 2, 0]</text>\n",
       "<text text-anchor=\"start\" x=\"81\" y=\"-341.8\" font-family=\"Helvetica,sans-Serif\" font-size=\"14.00\">class = versicolor</text>\n",
       "</g>\n",
       "<!-- 7&#45;&gt;8 -->\n",
       "<g id=\"edge8\" class=\"edge\">\n",
       "<title>7&#45;&gt;8</title>\n",
       "<path fill=\"none\" stroke=\"black\" d=\"M186.91,-441.77C179.07,-430.66 170.5,-418.51 162.62,-407.33\"/>\n",
       "<polygon fill=\"black\" stroke=\"black\" points=\"165.37,-405.16 156.75,-399.01 159.65,-409.2 165.37,-405.16\"/>\n",
       "</g>\n",
       "<!-- 9 -->\n",
       "<g id=\"node10\" class=\"node\">\n",
       "<title>9</title>\n",
       "<path fill=\"#88efb3\" stroke=\"black\" d=\"M360.4,-406C360.4,-406 227.36,-406 227.36,-406 221.36,-406 215.36,-400 215.36,-394 215.36,-394 215.36,-340 215.36,-340 215.36,-334 221.36,-328 227.36,-328 227.36,-328 360.4,-328 360.4,-328 366.4,-328 372.4,-334 372.4,-340 372.4,-340 372.4,-394 372.4,-394 372.4,-400 366.4,-406 360.4,-406\"/>\n",
       "<text text-anchor=\"start\" x=\"223.12\" y=\"-390.8\" font-family=\"Helvetica,sans-Serif\" font-size=\"14.00\">petal width (cm) ≤ 1.55</text>\n",
       "<text text-anchor=\"start\" x=\"257.49\" y=\"-376.8\" font-family=\"Helvetica,sans-Serif\" font-size=\"14.00\">gini = 0.408</text>\n",
       "<text text-anchor=\"start\" x=\"255.94\" y=\"-362.8\" font-family=\"Helvetica,sans-Serif\" font-size=\"14.00\">samples = 7</text>\n",
       "<text text-anchor=\"start\" x=\"245.82\" y=\"-348.8\" font-family=\"Helvetica,sans-Serif\" font-size=\"14.00\">value = [0, 5, 2]</text>\n",
       "<text text-anchor=\"start\" x=\"240\" y=\"-334.8\" font-family=\"Helvetica,sans-Serif\" font-size=\"14.00\">class = versicolor</text>\n",
       "</g>\n",
       "<!-- 7&#45;&gt;9 -->\n",
       "<g id=\"edge9\" class=\"edge\">\n",
       "<title>7&#45;&gt;9</title>\n",
       "<path fill=\"none\" stroke=\"black\" d=\"M241.19,-441.77C247.49,-432.94 254.27,-423.45 260.79,-414.32\"/>\n",
       "<polygon fill=\"black\" stroke=\"black\" points=\"263.73,-416.23 266.69,-406.06 258.03,-412.16 263.73,-416.23\"/>\n",
       "</g>\n",
       "<!-- 10 -->\n",
       "<g id=\"node11\" class=\"node\">\n",
       "<title>10</title>\n",
       "<path fill=\"#9cf2c0\" stroke=\"black\" d=\"M282.97,-292C282.97,-292 140.79,-292 140.79,-292 134.79,-292 128.79,-286 128.79,-280 128.79,-280 128.79,-226 128.79,-226 128.79,-220 134.79,-214 140.79,-214 140.79,-214 282.97,-214 282.97,-214 288.97,-214 294.97,-220 294.97,-226 294.97,-226 294.97,-280 294.97,-280 294.97,-286 288.97,-292 282.97,-292\"/>\n",
       "<text text-anchor=\"start\" x=\"136.83\" y=\"-276.8\" font-family=\"Helvetica,sans-Serif\" font-size=\"14.00\">sepal length (cm) ≤ 6.25</text>\n",
       "<text text-anchor=\"start\" x=\"175.49\" y=\"-262.8\" font-family=\"Helvetica,sans-Serif\" font-size=\"14.00\">gini = 0.444</text>\n",
       "<text text-anchor=\"start\" x=\"173.94\" y=\"-248.8\" font-family=\"Helvetica,sans-Serif\" font-size=\"14.00\">samples = 6</text>\n",
       "<text text-anchor=\"start\" x=\"163.82\" y=\"-234.8\" font-family=\"Helvetica,sans-Serif\" font-size=\"14.00\">value = [0, 4, 2]</text>\n",
       "<text text-anchor=\"start\" x=\"158\" y=\"-220.8\" font-family=\"Helvetica,sans-Serif\" font-size=\"14.00\">class = versicolor</text>\n",
       "</g>\n",
       "<!-- 9&#45;&gt;10 -->\n",
       "<g id=\"edge10\" class=\"edge\">\n",
       "<title>9&#45;&gt;10</title>\n",
       "<path fill=\"none\" stroke=\"black\" d=\"M265.89,-327.77C259.42,-318.94 252.48,-309.45 245.79,-300.32\"/>\n",
       "<polygon fill=\"black\" stroke=\"black\" points=\"248.47,-298.06 239.74,-292.06 242.83,-302.19 248.47,-298.06\"/>\n",
       "</g>\n",
       "<!-- 15 -->\n",
       "<g id=\"node16\" class=\"node\">\n",
       "<title>15</title>\n",
       "<path fill=\"#39e581\" stroke=\"black\" d=\"M424.63,-285C424.63,-285 325.12,-285 325.12,-285 319.12,-285 313.12,-279 313.12,-273 313.12,-273 313.12,-233 313.12,-233 313.12,-227 319.12,-221 325.12,-221 325.12,-221 424.63,-221 424.63,-221 430.63,-221 436.63,-227 436.63,-233 436.63,-233 436.63,-273 436.63,-273 436.63,-279 430.63,-285 424.63,-285\"/>\n",
       "<text text-anchor=\"start\" x=\"346.27\" y=\"-269.8\" font-family=\"Helvetica,sans-Serif\" font-size=\"14.00\">gini = 0.0</text>\n",
       "<text text-anchor=\"start\" x=\"336.94\" y=\"-255.8\" font-family=\"Helvetica,sans-Serif\" font-size=\"14.00\">samples = 1</text>\n",
       "<text text-anchor=\"start\" x=\"326.82\" y=\"-241.8\" font-family=\"Helvetica,sans-Serif\" font-size=\"14.00\">value = [0, 1, 0]</text>\n",
       "<text text-anchor=\"start\" x=\"321\" y=\"-227.8\" font-family=\"Helvetica,sans-Serif\" font-size=\"14.00\">class = versicolor</text>\n",
       "</g>\n",
       "<!-- 9&#45;&gt;15 -->\n",
       "<g id=\"edge15\" class=\"edge\">\n",
       "<title>9&#45;&gt;15</title>\n",
       "<path fill=\"none\" stroke=\"black\" d=\"M321.53,-327.77C329.56,-316.66 338.35,-304.51 346.43,-293.33\"/>\n",
       "<polygon fill=\"black\" stroke=\"black\" points=\"349.43,-295.16 352.45,-285.01 343.75,-291.06 349.43,-295.16\"/>\n",
       "</g>\n",
       "<!-- 11 -->\n",
       "<g id=\"node12\" class=\"node\">\n",
       "<title>11</title>\n",
       "<path fill=\"#7beeab\" stroke=\"black\" d=\"M199.4,-178C199.4,-178 66.36,-178 66.36,-178 60.36,-178 54.36,-172 54.36,-166 54.36,-166 54.36,-112 54.36,-112 54.36,-106 60.36,-100 66.36,-100 66.36,-100 199.4,-100 199.4,-100 205.4,-100 211.4,-106 211.4,-112 211.4,-112 211.4,-166 211.4,-166 211.4,-172 205.4,-178 199.4,-178\"/>\n",
       "<text text-anchor=\"start\" x=\"62.12\" y=\"-162.8\" font-family=\"Helvetica,sans-Serif\" font-size=\"14.00\">petal width (cm) ≤ 1.45</text>\n",
       "<text text-anchor=\"start\" x=\"96.49\" y=\"-148.8\" font-family=\"Helvetica,sans-Serif\" font-size=\"14.00\">gini = 0.375</text>\n",
       "<text text-anchor=\"start\" x=\"94.94\" y=\"-134.8\" font-family=\"Helvetica,sans-Serif\" font-size=\"14.00\">samples = 4</text>\n",
       "<text text-anchor=\"start\" x=\"84.82\" y=\"-120.8\" font-family=\"Helvetica,sans-Serif\" font-size=\"14.00\">value = [0, 3, 1]</text>\n",
       "<text text-anchor=\"start\" x=\"79\" y=\"-106.8\" font-family=\"Helvetica,sans-Serif\" font-size=\"14.00\">class = versicolor</text>\n",
       "</g>\n",
       "<!-- 10&#45;&gt;11 -->\n",
       "<g id=\"edge11\" class=\"edge\">\n",
       "<title>10&#45;&gt;11</title>\n",
       "<path fill=\"none\" stroke=\"black\" d=\"M184.91,-213.77C178.68,-204.94 171.99,-195.45 165.55,-186.32\"/>\n",
       "<polygon fill=\"black\" stroke=\"black\" points=\"168.35,-184.21 159.72,-178.06 162.63,-188.25 168.35,-184.21\"/>\n",
       "</g>\n",
       "<!-- 14 -->\n",
       "<g id=\"node15\" class=\"node\">\n",
       "<title>14</title>\n",
       "<path fill=\"#ffffff\" stroke=\"black\" d=\"M341.63,-171C341.63,-171 242.12,-171 242.12,-171 236.12,-171 230.12,-165 230.12,-159 230.12,-159 230.12,-119 230.12,-119 230.12,-113 236.12,-107 242.12,-107 242.12,-107 341.63,-107 341.63,-107 347.63,-107 353.63,-113 353.63,-119 353.63,-119 353.63,-159 353.63,-159 353.63,-165 347.63,-171 341.63,-171\"/>\n",
       "<text text-anchor=\"start\" x=\"263.27\" y=\"-155.8\" font-family=\"Helvetica,sans-Serif\" font-size=\"14.00\">gini = 0.5</text>\n",
       "<text text-anchor=\"start\" x=\"253.94\" y=\"-141.8\" font-family=\"Helvetica,sans-Serif\" font-size=\"14.00\">samples = 2</text>\n",
       "<text text-anchor=\"start\" x=\"243.82\" y=\"-127.8\" font-family=\"Helvetica,sans-Serif\" font-size=\"14.00\">value = [0, 1, 1]</text>\n",
       "<text text-anchor=\"start\" x=\"238\" y=\"-113.8\" font-family=\"Helvetica,sans-Serif\" font-size=\"14.00\">class = versicolor</text>\n",
       "</g>\n",
       "<!-- 10&#45;&gt;14 -->\n",
       "<g id=\"edge14\" class=\"edge\">\n",
       "<title>10&#45;&gt;14</title>\n",
       "<path fill=\"none\" stroke=\"black\" d=\"M239.19,-213.77C247.12,-202.66 255.8,-190.51 263.78,-179.33\"/>\n",
       "<polygon fill=\"black\" stroke=\"black\" points=\"266.76,-181.18 269.73,-171.01 261.07,-177.11 266.76,-181.18\"/>\n",
       "</g>\n",
       "<!-- 12 -->\n",
       "<g id=\"node13\" class=\"node\">\n",
       "<title>12</title>\n",
       "<path fill=\"#9cf2c0\" stroke=\"black\" d=\"M111.63,-64C111.63,-64 12.12,-64 12.12,-64 6.12,-64 0.12,-58 0.12,-52 0.12,-52 0.12,-12 0.12,-12 0.12,-6 6.12,0 12.12,0 12.12,0 111.63,0 111.63,0 117.63,0 123.63,-6 123.63,-12 123.63,-12 123.63,-52 123.63,-52 123.63,-58 117.63,-64 111.63,-64\"/>\n",
       "<text text-anchor=\"start\" x=\"25.49\" y=\"-48.8\" font-family=\"Helvetica,sans-Serif\" font-size=\"14.00\">gini = 0.444</text>\n",
       "<text text-anchor=\"start\" x=\"23.94\" y=\"-34.8\" font-family=\"Helvetica,sans-Serif\" font-size=\"14.00\">samples = 3</text>\n",
       "<text text-anchor=\"start\" x=\"13.82\" y=\"-20.8\" font-family=\"Helvetica,sans-Serif\" font-size=\"14.00\">value = [0, 2, 1]</text>\n",
       "<text text-anchor=\"start\" x=\"8\" y=\"-6.8\" font-family=\"Helvetica,sans-Serif\" font-size=\"14.00\">class = versicolor</text>\n",
       "</g>\n",
       "<!-- 11&#45;&gt;12 -->\n",
       "<g id=\"edge12\" class=\"edge\">\n",
       "<title>11&#45;&gt;12</title>\n",
       "<path fill=\"none\" stroke=\"black\" d=\"M107.04,-99.8C101.03,-90.91 94.63,-81.43 88.58,-72.49\"/>\n",
       "<polygon fill=\"black\" stroke=\"black\" points=\"91.42,-70.44 82.92,-64.12 85.62,-74.36 91.42,-70.44\"/>\n",
       "</g>\n",
       "<!-- 13 -->\n",
       "<g id=\"node14\" class=\"node\">\n",
       "<title>13</title>\n",
       "<path fill=\"#39e581\" stroke=\"black\" d=\"M253.63,-64C253.63,-64 154.12,-64 154.12,-64 148.12,-64 142.12,-58 142.12,-52 142.12,-52 142.12,-12 142.12,-12 142.12,-6 148.12,0 154.12,0 154.12,0 253.63,0 253.63,0 259.63,0 265.63,-6 265.63,-12 265.63,-12 265.63,-52 265.63,-52 265.63,-58 259.63,-64 253.63,-64\"/>\n",
       "<text text-anchor=\"start\" x=\"175.27\" y=\"-48.8\" font-family=\"Helvetica,sans-Serif\" font-size=\"14.00\">gini = 0.0</text>\n",
       "<text text-anchor=\"start\" x=\"165.94\" y=\"-34.8\" font-family=\"Helvetica,sans-Serif\" font-size=\"14.00\">samples = 1</text>\n",
       "<text text-anchor=\"start\" x=\"155.82\" y=\"-20.8\" font-family=\"Helvetica,sans-Serif\" font-size=\"14.00\">value = [0, 1, 0]</text>\n",
       "<text text-anchor=\"start\" x=\"150\" y=\"-6.8\" font-family=\"Helvetica,sans-Serif\" font-size=\"14.00\">class = versicolor</text>\n",
       "</g>\n",
       "<!-- 11&#45;&gt;13 -->\n",
       "<g id=\"edge13\" class=\"edge\">\n",
       "<title>11&#45;&gt;13</title>\n",
       "<path fill=\"none\" stroke=\"black\" d=\"M158.71,-99.8C164.72,-90.91 171.13,-81.43 177.18,-72.49\"/>\n",
       "<polygon fill=\"black\" stroke=\"black\" points=\"180.13,-74.36 182.84,-64.12 174.34,-70.44 180.13,-74.36\"/>\n",
       "</g>\n",
       "<!-- 19 -->\n",
       "<g id=\"node20\" class=\"node\">\n",
       "<title>19</title>\n",
       "<path fill=\"#9a61ea\" stroke=\"black\" d=\"M646.97,-748C646.97,-748 504.79,-748 504.79,-748 498.79,-748 492.79,-742 492.79,-736 492.79,-736 492.79,-682 492.79,-682 492.79,-676 498.79,-670 504.79,-670 504.79,-670 646.97,-670 646.97,-670 652.97,-670 658.97,-676 658.97,-682 658.97,-682 658.97,-736 658.97,-736 658.97,-742 652.97,-748 646.97,-748\"/>\n",
       "<text text-anchor=\"start\" x=\"500.83\" y=\"-732.8\" font-family=\"Helvetica,sans-Serif\" font-size=\"14.00\">sepal length (cm) ≤ 5.85</text>\n",
       "<text text-anchor=\"start\" x=\"539.49\" y=\"-718.8\" font-family=\"Helvetica,sans-Serif\" font-size=\"14.00\">gini = 0.278</text>\n",
       "<text text-anchor=\"start\" x=\"537.94\" y=\"-704.8\" font-family=\"Helvetica,sans-Serif\" font-size=\"14.00\">samples = 6</text>\n",
       "<text text-anchor=\"start\" x=\"527.82\" y=\"-690.8\" font-family=\"Helvetica,sans-Serif\" font-size=\"14.00\">value = [0, 1, 5]</text>\n",
       "<text text-anchor=\"start\" x=\"526.28\" y=\"-676.8\" font-family=\"Helvetica,sans-Serif\" font-size=\"14.00\">class = virginica</text>\n",
       "</g>\n",
       "<!-- 18&#45;&gt;19 -->\n",
       "<g id=\"edge19\" class=\"edge\">\n",
       "<title>18&#45;&gt;19</title>\n",
       "<path fill=\"none\" stroke=\"black\" d=\"M579.17,-783.77C578.8,-775.57 578.41,-766.8 578.03,-758.28\"/>\n",
       "<polygon fill=\"black\" stroke=\"black\" points=\"581.52,-757.89 577.58,-748.06 574.53,-758.2 581.52,-757.89\"/>\n",
       "</g>\n",
       "<!-- 22 -->\n",
       "<g id=\"node23\" class=\"node\">\n",
       "<title>22</title>\n",
       "<path fill=\"#8139e5\" stroke=\"black\" d=\"M784.78,-741C784.78,-741 688.97,-741 688.97,-741 682.97,-741 676.97,-735 676.97,-729 676.97,-729 676.97,-689 676.97,-689 676.97,-683 682.97,-677 688.97,-677 688.97,-677 784.78,-677 784.78,-677 790.78,-677 796.78,-683 796.78,-689 796.78,-689 796.78,-729 796.78,-729 796.78,-735 790.78,-741 784.78,-741\"/>\n",
       "<text text-anchor=\"start\" x=\"708.27\" y=\"-725.8\" font-family=\"Helvetica,sans-Serif\" font-size=\"14.00\">gini = 0.0</text>\n",
       "<text text-anchor=\"start\" x=\"695.05\" y=\"-711.8\" font-family=\"Helvetica,sans-Serif\" font-size=\"14.00\">samples = 24</text>\n",
       "<text text-anchor=\"start\" x=\"684.92\" y=\"-697.8\" font-family=\"Helvetica,sans-Serif\" font-size=\"14.00\">value = [0, 0, 24]</text>\n",
       "<text text-anchor=\"start\" x=\"687.28\" y=\"-683.8\" font-family=\"Helvetica,sans-Serif\" font-size=\"14.00\">class = virginica</text>\n",
       "</g>\n",
       "<!-- 18&#45;&gt;22 -->\n",
       "<g id=\"edge22\" class=\"edge\">\n",
       "<title>18&#45;&gt;22</title>\n",
       "<path fill=\"none\" stroke=\"black\" d=\"M634.13,-783.77C650.66,-771.9 668.86,-758.84 685.28,-747.05\"/>\n",
       "<polygon fill=\"black\" stroke=\"black\" points=\"687.6,-749.69 693.68,-741.01 683.52,-744 687.6,-749.69\"/>\n",
       "</g>\n",
       "<!-- 20 -->\n",
       "<g id=\"node21\" class=\"node\">\n",
       "<title>20</title>\n",
       "<path fill=\"#8139e5\" stroke=\"black\" d=\"M576.58,-627C576.58,-627 485.17,-627 485.17,-627 479.17,-627 473.17,-621 473.17,-615 473.17,-615 473.17,-575 473.17,-575 473.17,-569 479.17,-563 485.17,-563 485.17,-563 576.58,-563 576.58,-563 582.58,-563 588.58,-569 588.58,-575 588.58,-575 588.58,-615 588.58,-615 588.58,-621 582.58,-627 576.58,-627\"/>\n",
       "<text text-anchor=\"start\" x=\"502.27\" y=\"-611.8\" font-family=\"Helvetica,sans-Serif\" font-size=\"14.00\">gini = 0.0</text>\n",
       "<text text-anchor=\"start\" x=\"492.94\" y=\"-597.8\" font-family=\"Helvetica,sans-Serif\" font-size=\"14.00\">samples = 5</text>\n",
       "<text text-anchor=\"start\" x=\"482.82\" y=\"-583.8\" font-family=\"Helvetica,sans-Serif\" font-size=\"14.00\">value = [0, 0, 5]</text>\n",
       "<text text-anchor=\"start\" x=\"481.28\" y=\"-569.8\" font-family=\"Helvetica,sans-Serif\" font-size=\"14.00\">class = virginica</text>\n",
       "</g>\n",
       "<!-- 19&#45;&gt;20 -->\n",
       "<g id=\"edge20\" class=\"edge\">\n",
       "<title>19&#45;&gt;20</title>\n",
       "<path fill=\"none\" stroke=\"black\" d=\"M560.52,-669.77C556.18,-658.99 551.46,-647.22 547.08,-636.32\"/>\n",
       "<polygon fill=\"black\" stroke=\"black\" points=\"550.31,-634.98 543.34,-627.01 543.82,-637.59 550.31,-634.98\"/>\n",
       "</g>\n",
       "<!-- 21 -->\n",
       "<g id=\"node22\" class=\"node\">\n",
       "<title>21</title>\n",
       "<path fill=\"#39e581\" stroke=\"black\" d=\"M717.63,-627C717.63,-627 618.12,-627 618.12,-627 612.12,-627 606.12,-621 606.12,-615 606.12,-615 606.12,-575 606.12,-575 606.12,-569 612.12,-563 618.12,-563 618.12,-563 717.63,-563 717.63,-563 723.63,-563 729.63,-569 729.63,-575 729.63,-575 729.63,-615 729.63,-615 729.63,-621 723.63,-627 717.63,-627\"/>\n",
       "<text text-anchor=\"start\" x=\"639.27\" y=\"-611.8\" font-family=\"Helvetica,sans-Serif\" font-size=\"14.00\">gini = 0.0</text>\n",
       "<text text-anchor=\"start\" x=\"629.94\" y=\"-597.8\" font-family=\"Helvetica,sans-Serif\" font-size=\"14.00\">samples = 1</text>\n",
       "<text text-anchor=\"start\" x=\"619.82\" y=\"-583.8\" font-family=\"Helvetica,sans-Serif\" font-size=\"14.00\">value = [0, 1, 0]</text>\n",
       "<text text-anchor=\"start\" x=\"614\" y=\"-569.8\" font-family=\"Helvetica,sans-Serif\" font-size=\"14.00\">class = versicolor</text>\n",
       "</g>\n",
       "<!-- 19&#45;&gt;21 -->\n",
       "<g id=\"edge21\" class=\"edge\">\n",
       "<title>19&#45;&gt;21</title>\n",
       "<path fill=\"none\" stroke=\"black\" d=\"M607.28,-669.77C616.5,-658.55 626.58,-646.27 635.84,-635\"/>\n",
       "<polygon fill=\"black\" stroke=\"black\" points=\"638.76,-636.96 642.4,-627.01 633.35,-632.52 638.76,-636.96\"/>\n",
       "</g>\n",
       "</g>\n",
       "</svg>\n"
      ],
      "text/plain": [
       "<graphviz.sources.Source at 0x7fac68e275e0>"
      ]
     },
     "execution_count": 25,
     "metadata": {},
     "output_type": "execute_result"
    }
   ],
   "source": [
    " dot_data = tree.export_graphviz(clf2D, out_file=None, \n",
    "                         feature_names=list([iris.feature_names[pair[0]],iris.feature_names[pair[1]]]),  \n",
    "                         class_names=iris.target_names,  \n",
    "                         filled=True, rounded=True,  \n",
    "                         special_characters=True)  \n",
    "graph = graphviz.Source(dot_data)  \n",
    "graph"
   ]
  },
  {
   "cell_type": "markdown",
   "metadata": {},
   "source": [
    "## 3. Classification with a random forest and all the features"
   ]
  },
  {
   "cell_type": "code",
   "execution_count": 26,
   "metadata": {},
   "outputs": [],
   "source": [
    "from sklearn.ensemble import RandomForestClassifier"
   ]
  },
  {
   "cell_type": "markdown",
   "metadata": {},
   "source": [
    "**Question 12: Define a random forest with 30 trees and a maximum depth for each tree equal to 3.**"
   ]
  },
  {
   "cell_type": "code",
   "execution_count": 27,
   "metadata": {},
   "outputs": [
    {
     "name": "stdout",
     "output_type": "stream",
     "text": [
      "RandomForestClassifier(max_depth=3, n_estimators=30)\n"
     ]
    }
   ],
   "source": [
    "n_estimators = 30\n",
    "rf = RandomForestClassifier(n_estimators=n_estimators,max_depth=3)\n",
    "print(rf)"
   ]
  },
  {
   "cell_type": "markdown",
   "metadata": {},
   "source": [
    "**Question 13: Train the random forest on the training set with all the features.**"
   ]
  },
  {
   "cell_type": "code",
   "execution_count": 28,
   "metadata": {},
   "outputs": [
    {
     "data": {
      "text/plain": [
       "RandomForestClassifier(max_depth=3, n_estimators=30)"
      ]
     },
     "execution_count": 28,
     "metadata": {},
     "output_type": "execute_result"
    }
   ],
   "source": [
    "rf.fit(X_train, y_train) # training the random forest"
   ]
  },
  {
   "cell_type": "markdown",
   "metadata": {},
   "source": [
    "**Question 14: Compute the training accuracy and the test accuracy of the random forest.**"
   ]
  },
  {
   "cell_type": "code",
   "execution_count": 29,
   "metadata": {},
   "outputs": [
    {
     "name": "stdout",
     "output_type": "stream",
     "text": [
      "RandomForestClassifier training accuracy score: 0.9795918367346939\n",
      "RandomForestClassifier test accuracy score: 0.9615384615384616\n"
     ]
    }
   ],
   "source": [
    "y_train_pred = rf.predict(X_train)\n",
    "accuracy_train = accuracy_score(y_train, y_train_pred)\n",
    "print('RandomForestClassifier training accuracy score: {}'.format(accuracy_train))\n",
    "\n",
    "y_pred = rf.predict(X_test)\n",
    "accuracy_test = accuracy_score(y_test, y_pred)\n",
    "print('RandomForestClassifier test accuracy score: {}'.format(accuracy_test))"
   ]
  },
  {
   "cell_type": "markdown",
   "metadata": {},
   "source": [
    "**Final comment:**\n",
    "\n",
    "To see the advantages of a random forest over a single decision tree, you can run the notebook on the wine dataset provided by sklearn:\n",
    "    \n",
    "https://scikit-learn.org/stable/modules/generated/sklearn.datasets.load_wine.html#sklearn.datasets.load_wine\n",
    "    \n",
    "from sklearn.datasets import load_wine\n",
    "\n",
    "data = load_wine()"
   ]
  },
  {
   "cell_type": "code",
   "execution_count": null,
   "metadata": {},
   "outputs": [],
   "source": []
  },
  {
   "cell_type": "code",
   "execution_count": null,
   "metadata": {},
   "outputs": [],
   "source": []
  }
 ],
 "metadata": {
  "kernelspec": {
   "display_name": "Python 3",
   "language": "python",
   "name": "python3"
  },
  "language_info": {
   "codemirror_mode": {
    "name": "ipython",
    "version": 3
   },
   "file_extension": ".py",
   "mimetype": "text/x-python",
   "name": "python",
   "nbconvert_exporter": "python",
   "pygments_lexer": "ipython3",
   "version": "3.8.8"
  }
 },
 "nbformat": 4,
 "nbformat_minor": 2
}
